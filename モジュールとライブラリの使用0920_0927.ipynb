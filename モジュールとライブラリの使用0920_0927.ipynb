{
  "nbformat": 4,
  "nbformat_minor": 0,
  "metadata": {
    "colab": {
      "provenance": [],
      "collapsed_sections": [],
      "toc_visible": true,
      "authorship_tag": "ABX9TyOrDffslb+5OMjn/c3sn9HY",
      "include_colab_link": true
    },
    "kernelspec": {
      "name": "python3",
      "display_name": "Python 3"
    },
    "language_info": {
      "name": "python"
    }
  },
  "cells": [
    {
      "cell_type": "markdown",
      "metadata": {
        "id": "view-in-github",
        "colab_type": "text"
      },
      "source": [
        "<a href=\"https://colab.research.google.com/github/mamikah/DeepLearning2022Late/blob/main/%E3%83%A2%E3%82%B8%E3%83%A5%E3%83%BC%E3%83%AB%E3%81%A8%E3%83%A9%E3%82%A4%E3%83%96%E3%83%A9%E3%83%AA%E3%81%AE%E4%BD%BF%E7%94%A80920_0927.ipynb\" target=\"_parent\"><img src=\"https://colab.research.google.com/assets/colab-badge.svg\" alt=\"Open In Colab\"/></a>"
      ]
    },
    {
      "cell_type": "markdown",
      "source": [
        "# モジュールを使う"
      ],
      "metadata": {
        "id": "pstehYHC87Yp"
      }
    },
    {
      "cell_type": "markdown",
      "source": [
        "## import文でモジュールを読み込んで使う"
      ],
      "metadata": {
        "id": "OzrLQU2z9f-p"
      }
    },
    {
      "cell_type": "code",
      "execution_count": 1,
      "metadata": {
        "colab": {
          "base_uri": "https://localhost:8080/"
        },
        "id": "W-RQT-Ax8tyg",
        "outputId": "de45c626-99bc-4387-e738-cbb3b2ad5f5b"
      },
      "outputs": [
        {
          "output_type": "stream",
          "name": "stdout",
          "text": [
            "3.141592653589793\n",
            "25.0\n",
            "3.0\n"
          ]
        }
      ],
      "source": [
        "# mathモジュール\n",
        "import math\n",
        "# 円周率\n",
        "print(math.pi)\n",
        "# 乗\n",
        "print(math.pow(5,2))\n",
        "# 平方根\n",
        "print(math.sqrt(9))"
      ]
    },
    {
      "cell_type": "markdown",
      "source": [
        "## Numpy ---数値計算用の便利なライブラリ"
      ],
      "metadata": {
        "id": "GY3kRL5uAfp-"
      }
    },
    {
      "cell_type": "markdown",
      "source": [
        "https://numpy.org/"
      ],
      "metadata": {
        "id": "N_kY5GB5_2s7"
      }
    },
    {
      "cell_type": "code",
      "source": [
        "import numpy as np"
      ],
      "metadata": {
        "id": "wLO9i6zS9qrM"
      },
      "execution_count": 2,
      "outputs": []
    },
    {
      "cell_type": "markdown",
      "source": [
        "### np配列（ndarray）を作る"
      ],
      "metadata": {
        "id": "v8Rg06h7olUO"
      }
    },
    {
      "cell_type": "code",
      "source": [
        "a = np.array([5,7,3,1,4,3])\n",
        "print(a)"
      ],
      "metadata": {
        "id": "fHnX_XkwAwwo",
        "colab": {
          "base_uri": "https://localhost:8080/"
        },
        "outputId": "b54b453b-9696-4b35-a686-f011a2d71c09"
      },
      "execution_count": 3,
      "outputs": [
        {
          "output_type": "stream",
          "name": "stdout",
          "text": [
            "[5 7 3 1 4 3]\n"
          ]
        }
      ]
    },
    {
      "cell_type": "markdown",
      "source": [
        "### Numpyで配列の操作をしてみる"
      ],
      "metadata": {
        "id": "BiFWOWIUokBl"
      }
    },
    {
      "cell_type": "code",
      "source": [
        "# 現在、aは1行1次元配列\n",
        "print('初期の配列:',a)\n",
        "# aを 3行2列の2次元配列に構成しなおす\n",
        "b = a.reshape([3,2]) # 引数で指定\n",
        "print(b)"
      ],
      "metadata": {
        "colab": {
          "base_uri": "https://localhost:8080/"
        },
        "id": "MFK8FgPkqYmU",
        "outputId": "d7cdf753-7a92-4e23-ec46-6b1b569b6157"
      },
      "execution_count": 4,
      "outputs": [
        {
          "output_type": "stream",
          "name": "stdout",
          "text": [
            "初期の配列: [5 7 3 1 4 3]\n",
            "[[5 7]\n",
            " [3 1]\n",
            " [4 3]]\n"
          ]
        }
      ]
    },
    {
      "cell_type": "code",
      "source": [
        "# 3行4列の0が入った2次元配列を作る\n",
        "c = np.zeros((3,4))\n",
        "print(c)\n",
        "# ランダムな値が入った配列を作る\n",
        "np.random.seed(0)\n",
        "d = np.random.rand(3,4)\n",
        "print(d)"
      ],
      "metadata": {
        "colab": {
          "base_uri": "https://localhost:8080/"
        },
        "id": "b_A1idadqwAZ",
        "outputId": "9bf46215-6c3c-4a36-e5a1-c6195c4f8341"
      },
      "execution_count": 5,
      "outputs": [
        {
          "output_type": "stream",
          "name": "stdout",
          "text": [
            "[[0. 0. 0. 0.]\n",
            " [0. 0. 0. 0.]\n",
            " [0. 0. 0. 0.]]\n",
            "[[0.5488135  0.71518937 0.60276338 0.54488318]\n",
            " [0.4236548  0.64589411 0.43758721 0.891773  ]\n",
            " [0.96366276 0.38344152 0.79172504 0.52889492]]\n"
          ]
        }
      ]
    },
    {
      "cell_type": "markdown",
      "source": [
        "### Numpyのスライス"
      ],
      "metadata": {
        "id": "xD9SSi15ugxR"
      }
    },
    {
      "cell_type": "markdown",
      "source": [
        "**基本**<br>\n",
        "リストのスライスの指定の仕方 ---> [start : stop : step ]"
      ],
      "metadata": {
        "id": "iv7C6Ar1uz1I"
      }
    },
    {
      "cell_type": "code",
      "source": [
        "l = list(range(10))\n",
        "print(l)\n",
        "print(l[:3])\n",
        "print(l[2:])\n",
        "print(l[2::3])\n",
        "print(l[::-1])\n",
        "print(l[-2:-9:-1])"
      ],
      "metadata": {
        "colab": {
          "base_uri": "https://localhost:8080/"
        },
        "id": "hyt_j049sdCd",
        "outputId": "84db25cd-8a6b-4f64-ee9a-1b85d19ed9d8"
      },
      "execution_count": 6,
      "outputs": [
        {
          "output_type": "stream",
          "name": "stdout",
          "text": [
            "[0, 1, 2, 3, 4, 5, 6, 7, 8, 9]\n",
            "[0, 1, 2]\n",
            "[2, 3, 4, 5, 6, 7, 8, 9]\n",
            "[2, 5, 8]\n",
            "[9, 8, 7, 6, 5, 4, 3, 2, 1, 0]\n",
            "[8, 7, 6, 5, 4, 3, 2]\n"
          ]
        }
      ]
    },
    {
      "cell_type": "markdown",
      "source": [
        "1次元のNumpy配列(ndarray)におけるスライス"
      ],
      "metadata": {
        "id": "TsTGMxUZw9yk"
      }
    },
    {
      "cell_type": "code",
      "source": [
        "# 範囲を指定してndarrayを作る\n",
        "e = np.arange(10)\n",
        "print(e)\n",
        "print(e[1:8])\n",
        "print(e[1:8:2])"
      ],
      "metadata": {
        "colab": {
          "base_uri": "https://localhost:8080/"
        },
        "id": "lJWvljuVvR01",
        "outputId": "46d3a1c6-1f9a-4460-fa36-35b7e1bb227b"
      },
      "execution_count": 7,
      "outputs": [
        {
          "output_type": "stream",
          "name": "stdout",
          "text": [
            "[0 1 2 3 4 5 6 7 8 9]\n",
            "[1 2 3 4 5 6 7]\n",
            "[1 3 5 7]\n"
          ]
        }
      ]
    },
    {
      "cell_type": "markdown",
      "source": [
        "### スライスでの代入"
      ],
      "metadata": {
        "id": "FXf7afySicIc"
      }
    },
    {
      "cell_type": "code",
      "source": [
        "# 指定した範囲に特定の値を代入\n",
        "print(e)\n",
        "e[3:6] = 100\n",
        "print(e)\n",
        "e[3:6] = [100,200,300]\n",
        "print(e)\n",
        "e[2:8:2] = 500\n",
        "print(e)"
      ],
      "metadata": {
        "colab": {
          "base_uri": "https://localhost:8080/"
        },
        "id": "NeN7O47WxZjH",
        "outputId": "f1a09514-aec2-4998-d962-6e768d48bb31"
      },
      "execution_count": 8,
      "outputs": [
        {
          "output_type": "stream",
          "name": "stdout",
          "text": [
            "[0 1 2 3 4 5 6 7 8 9]\n",
            "[  0   1   2 100 100 100   6   7   8   9]\n",
            "[  0   1   2 100 200 300   6   7   8   9]\n",
            "[  0   1 500 100 500 300 500   7   8   9]\n"
          ]
        }
      ]
    },
    {
      "cell_type": "markdown",
      "source": [
        "多次元のNumpy配列(ndarray)におけるスライス"
      ],
      "metadata": {
        "id": "qMCfiQeY2Wts"
      }
    },
    {
      "cell_type": "code",
      "source": [
        "# 3行4列の2次元配列を作る\n",
        "f = np.arange(12).reshape((3,4))\n",
        "print(f)\n",
        "# 2行目から終わりまでの行 = [1:]\n",
        "# 1列目から3列目までの行 = [1:3]\n",
        "f[1:,1:3]"
      ],
      "metadata": {
        "colab": {
          "base_uri": "https://localhost:8080/"
        },
        "id": "Hgbb9EaqzyDW",
        "outputId": "ce5feab7-7ac3-4c67-cfa0-b38b7502ebef"
      },
      "execution_count": 9,
      "outputs": [
        {
          "output_type": "stream",
          "name": "stdout",
          "text": [
            "[[ 0  1  2  3]\n",
            " [ 4  5  6  7]\n",
            " [ 8  9 10 11]]\n"
          ]
        },
        {
          "output_type": "execute_result",
          "data": {
            "text/plain": [
              "array([[ 5,  6],\n",
              "       [ 9, 10]])"
            ]
          },
          "metadata": {},
          "execution_count": 9
        }
      ]
    },
    {
      "cell_type": "code",
      "source": [
        "g = np.arange(20).reshape((5,4))\n",
        "print(g)\n",
        "g[2:,1:3]"
      ],
      "metadata": {
        "colab": {
          "base_uri": "https://localhost:8080/"
        },
        "id": "qalSR3ND4V7o",
        "outputId": "4cbe0319-54d1-4642-ec77-c4658bebcbf7"
      },
      "execution_count": 10,
      "outputs": [
        {
          "output_type": "stream",
          "name": "stdout",
          "text": [
            "[[ 0  1  2  3]\n",
            " [ 4  5  6  7]\n",
            " [ 8  9 10 11]\n",
            " [12 13 14 15]\n",
            " [16 17 18 19]]\n"
          ]
        },
        {
          "output_type": "execute_result",
          "data": {
            "text/plain": [
              "array([[ 9, 10],\n",
              "       [13, 14],\n",
              "       [17, 18]])"
            ]
          },
          "metadata": {},
          "execution_count": 10
        }
      ]
    },
    {
      "cell_type": "markdown",
      "source": [
        "多次元のndarrayへのスライスでの代入"
      ],
      "metadata": {
        "id": "LgyurSlDenbT"
      }
    },
    {
      "cell_type": "code",
      "source": [
        "h = np.arange(12).reshape((3,4))\n",
        "print(h)\n",
        "# 5,6,9,10の部分をスライス\n",
        "print(h[1:,1:3])\n",
        "h[1:,1:3] = 100\n",
        "print(h)\n",
        "\n",
        "# 多次元での上書きにリストを使う\n",
        "h[1:,1:3] = [100,200]\n",
        "print(h)\n",
        "\n",
        "# 多次元の上書きに2次元のリストを使う\n",
        "h[1:,1:3] = [[100],[200]]\n",
        "print(h)\n",
        "h[1:,1:3] = [[100,200],[300,400]]\n",
        "print(h)"
      ],
      "metadata": {
        "id": "CJl5QYRL5FN4",
        "colab": {
          "base_uri": "https://localhost:8080/"
        },
        "outputId": "3705b312-4433-4a11-bd3b-06312cef5f72"
      },
      "execution_count": 27,
      "outputs": [
        {
          "output_type": "stream",
          "name": "stdout",
          "text": [
            "[[ 0  1  2  3]\n",
            " [ 4  5  6  7]\n",
            " [ 8  9 10 11]]\n",
            "[[ 5  6]\n",
            " [ 9 10]]\n",
            "[[  0   1   2   3]\n",
            " [  4 100 100   7]\n",
            " [  8 100 100  11]]\n",
            "[[  0   1   2   3]\n",
            " [  4 100 200   7]\n",
            " [  8 100 200  11]]\n",
            "[[  0   1   2   3]\n",
            " [  4 100 100   7]\n",
            " [  8 200 200  11]]\n",
            "[[  0   1   2   3]\n",
            " [  4 100 200   7]\n",
            " [  8 300 400  11]]\n"
          ]
        }
      ]
    },
    {
      "cell_type": "markdown",
      "source": [
        "### 多次元のndarrayへのstepを使ったスライスでの代入"
      ],
      "metadata": {
        "id": "hEmWvqJyiPto"
      }
    },
    {
      "cell_type": "code",
      "source": [
        "i = np.arange(12).reshape((3,4))\n",
        "print(i)\n",
        "print(i[1:,::2])"
      ],
      "metadata": {
        "colab": {
          "base_uri": "https://localhost:8080/"
        },
        "id": "QnWWxiUxfoUT",
        "outputId": "e47b0f29-7a05-4af1-a69c-59b81ae23a51"
      },
      "execution_count": 32,
      "outputs": [
        {
          "output_type": "stream",
          "name": "stdout",
          "text": [
            "[[ 0  1  2  3]\n",
            " [ 4  5  6  7]\n",
            " [ 8  9 10 11]]\n",
            "[[ 4  6]\n",
            " [ 8 10]]\n"
          ]
        }
      ]
    },
    {
      "cell_type": "code",
      "source": [
        "from posixpath import join\n",
        "j = np.arange(12).reshape((3,4))\n",
        "print(j)\n",
        "print(j[:2,::3])\n",
        "j[:2,::3] = 100\n",
        "print(j)\n",
        "j[:2,::3] = [200,300]\n",
        "print(j)\n",
        "j[:2,::3] = [[400],[500]]\n",
        "print(j)\n",
        "j[:2,::3] = [[600,700],[800,900]]\n",
        "print(j)"
      ],
      "metadata": {
        "colab": {
          "base_uri": "https://localhost:8080/"
        },
        "id": "3y34MoA8jhXV",
        "outputId": "7897c7e4-7c0a-4691-9da5-f9473f820732"
      },
      "execution_count": 41,
      "outputs": [
        {
          "output_type": "stream",
          "name": "stdout",
          "text": [
            "[[ 0  1  2  3]\n",
            " [ 4  5  6  7]\n",
            " [ 8  9 10 11]]\n",
            "[[0 3]\n",
            " [4 7]]\n",
            "[[100   1   2 100]\n",
            " [100   5   6 100]\n",
            " [  8   9  10  11]]\n",
            "[[200   1   2 300]\n",
            " [200   5   6 300]\n",
            " [  8   9  10  11]]\n",
            "[[400   1   2 400]\n",
            " [500   5   6 500]\n",
            " [  8   9  10  11]]\n",
            "[[600   1   2 700]\n",
            " [800   5   6 900]\n",
            " [  8   9  10  11]]\n"
          ]
        }
      ]
    },
    {
      "cell_type": "code",
      "source": [],
      "metadata": {
        "id": "gNNVbLYgkgO2"
      },
      "execution_count": null,
      "outputs": []
    }
  ]
}