{
  "nbformat": 4,
  "nbformat_minor": 0,
  "metadata": {
    "colab": {
      "provenance": [],
      "authorship_tag": "ABX9TyNwtMvFjv7GAP302aMLMsHb",
      "include_colab_link": true
    },
    "kernelspec": {
      "name": "python3",
      "display_name": "Python 3"
    },
    "language_info": {
      "name": "python"
    },
    "accelerator": "GPU",
    "gpuClass": "standard"
  },
  "cells": [
    {
      "cell_type": "markdown",
      "metadata": {
        "id": "view-in-github",
        "colab_type": "text"
      },
      "source": [
        "<a href=\"https://colab.research.google.com/github/mamikah/DeepLearning2022Late/blob/main/%E5%8F%8E%E9%9B%86%E3%81%97%E3%81%9F%E7%94%BB%E5%83%8F%E3%81%A7%E5%AD%A6%E7%BF%92%E3%81%A8%E5%88%86%E9%A1%9E.ipynb\" target=\"_parent\"><img src=\"https://colab.research.google.com/assets/colab-badge.svg\" alt=\"Open In Colab\"/></a>"
      ]
    },
    {
      "cell_type": "markdown",
      "source": [
        "# 収集した画像をColabにUPして学習させ、それをもとに分類させる"
      ],
      "metadata": {
        "id": "e1KezIp5WEIh"
      }
    },
    {
      "cell_type": "markdown",
      "source": [
        "## ファイルのフォルダを準備する"
      ],
      "metadata": {
        "id": "fznXkuwCWM_Z"
      }
    },
    {
      "cell_type": "code",
      "execution_count": null,
      "metadata": {
        "id": "YWVeOPgHU-oo"
      },
      "outputs": [],
      "source": [
        "import os\n",
        "# 分類対象の画像のフォルダを作成\n",
        "os.makedirs('sample',exist_ok = True)\n",
        "# 犬と判定されたときの置き場所\n",
        "os.makedirs('output/dog/sample',exist_ok = True)"
      ]
    }
  ]
}