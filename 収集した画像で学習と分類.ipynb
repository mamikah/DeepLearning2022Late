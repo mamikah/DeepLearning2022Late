{
  "nbformat": 4,
  "nbformat_minor": 0,
  "metadata": {
    "colab": {
      "provenance": [],
      "authorship_tag": "ABX9TyPMSNOUYjZkxczPjRU4C5wS",
      "include_colab_link": true
    },
    "kernelspec": {
      "name": "python3",
      "display_name": "Python 3"
    },
    "language_info": {
      "name": "python"
    },
    "accelerator": "GPU",
    "gpuClass": "standard"
  },
  "cells": [
    {
      "cell_type": "markdown",
      "metadata": {
        "id": "view-in-github",
        "colab_type": "text"
      },
      "source": [
        "<a href=\"https://colab.research.google.com/github/mamikah/DeepLearning2022Late/blob/main/%E5%8F%8E%E9%9B%86%E3%81%97%E3%81%9F%E7%94%BB%E5%83%8F%E3%81%A7%E5%AD%A6%E7%BF%92%E3%81%A8%E5%88%86%E9%A1%9E.ipynb\" target=\"_parent\"><img src=\"https://colab.research.google.com/assets/colab-badge.svg\" alt=\"Open In Colab\"/></a>"
      ]
    },
    {
      "cell_type": "markdown",
      "source": [
        "# 収集した画像をColabにUPして学習させ、それをもとに分類させる"
      ],
      "metadata": {
        "id": "e1KezIp5WEIh"
      }
    },
    {
      "cell_type": "markdown",
      "source": [
        "## ファイルのフォルダを準備する"
      ],
      "metadata": {
        "id": "fznXkuwCWM_Z"
      }
    },
    {
      "cell_type": "code",
      "execution_count": 7,
      "metadata": {
        "id": "YWVeOPgHU-oo"
      },
      "outputs": [],
      "source": [
        "import os\n",
        "# 分類対象の画像のフォルダを作成\n",
        "os.makedirs('sample',exist_ok = True)\n",
        "\n",
        "# 犬と判定されたときの置き場所\n",
        "os.makedirs('output/dog/sample',exist_ok = True)\n",
        "# 猫と判定されたときの置き場所\n",
        "os.makedirs('output/cat/sample',exist_ok = True)\n",
        "\n",
        "# 犬の学習用の収集画像\n",
        "os.makedirs('img/deep_learning/dog',exist_ok = True)\n",
        "# 猫の学習用の収集画像\n",
        "os.makedirs('img/deep_learning/cat',exist_ok = True)"
      ]
    },
    {
      "cell_type": "markdown",
      "source": [
        "## 必要なライブラリをimport"
      ],
      "metadata": {
        "id": "LkUq0i_wYWo5"
      }
    },
    {
      "cell_type": "code",
      "source": [
        "import cv2\n",
        "import numpy as np\n",
        "import glob as glob\n",
        "from sklearn.model_selection import train_test_split\n",
        "from keras.utils import np_utils"
      ],
      "metadata": {
        "id": "VdRg1kIkXj1j"
      },
      "execution_count": 8,
      "outputs": []
    },
    {
      "cell_type": "markdown",
      "source": [
        "## 分類（クラス）の名前をフォルダ名（dog,cat）から引用する"
      ],
      "metadata": {
        "id": "CqgC2WHrZpfc"
      }
    },
    {
      "cell_type": "code",
      "source": [
        "# dogとcatフォルダがある場所\n",
        "path = \"img/deep_learning\" \n",
        "folders = os.listdir(path)\n",
        "# 2つのパスからフォルダ名を抜きだす\n",
        "classes = [f for f in folders if os.path.isdir(os.path.join(path,f))]\n",
        "print(classes)\n",
        "n_classes = len(classes)\n",
        "print(n_classes)"
      ],
      "metadata": {
        "colab": {
          "base_uri": "https://localhost:8080/"
        },
        "id": "Ex5GIVw2ZMaX",
        "outputId": "ab670bfd-95da-416a-fbbc-b8358cacb813"
      },
      "execution_count": 9,
      "outputs": [
        {
          "output_type": "stream",
          "name": "stdout",
          "text": [
            "['dog', 'cat']\n",
            "2\n"
          ]
        }
      ]
    },
    {
      "cell_type": "markdown",
      "source": [
        "## 画像を読み込み、リサイズ・整形する"
      ],
      "metadata": {
        "id": "nYqhj2Ny-Rs1"
      }
    },
    {
      "cell_type": "code",
      "source": [
        "# 画像とラベルのための配列\n",
        "X = []   # 画像（学習データの配列）\n",
        "Y = []   # ラベル（正解用の配列）\n",
        "\n",
        "# 画像を読みつつリサイズする\n",
        "for label,class_name in enumerate(classes):\n",
        "  files = glob.glob(path + \"/\" + class_name + \"/*jpg\")\n",
        "  for file in files:\n",
        "    img = cv2.imread(file)\n",
        "    img = cv2.resize(img,dsize=(224,224))\n",
        "    X.append(img)\n",
        "    Y.append(label)"
      ],
      "metadata": {
        "id": "wgofmmXYaklq"
      },
      "execution_count": 10,
      "outputs": []
    },
    {
      "cell_type": "markdown",
      "source": [
        "## 0～255のビットデータ値を、学習のために0～1に変換（正規化）\n",
        "## 学習精度を上げる"
      ],
      "metadata": {
        "id": "Q5lg_6gpFPuk"
      }
    },
    {
      "cell_type": "code",
      "source": [
        "# 配列XをNumpy配列に変換\n",
        "X = np.array(X)\n",
        "# 小数型に変換\n",
        "X = X.astype('float32')\n",
        "X /= 255.0\n",
        "# ラベルもNumpyの配列に変換\n",
        "Y = np.array(Y)\n",
        "Y = np_utils.to_categorical(Y,n_classes)"
      ],
      "metadata": {
        "id": "6mBmZhoJDnDT"
      },
      "execution_count": 11,
      "outputs": []
    },
    {
      "cell_type": "markdown",
      "source": [
        "## 整形したデータを学習用とテスト検証用に振り分ける"
      ],
      "metadata": {
        "id": "rtTeovbVGIhB"
      }
    },
    {
      "cell_type": "code",
      "source": [
        "# 学習データ8割、テスト検証用が2割に分けられる\n",
        "X_train,X_test,Y_train,Y_test = train_test_split(X,Y,test_size = 0.2)\n",
        "# 学習データ8割(画像問題データ)\n",
        "print(X_train.shape)\n",
        "# テストデータ2割(画像問題データ)\n",
        "print(X_test.shape)\n",
        "\n",
        "# 学習データ8割(正解ラベル)\n",
        "print(Y_train.shape)\n",
        "# テストデータ2割(正解ラベル)\n",
        "print(Y_test.shape)"
      ],
      "metadata": {
        "colab": {
          "base_uri": "https://localhost:8080/"
        },
        "id": "UB0EQIGmGEtQ",
        "outputId": "4dece184-0c4f-4dfd-ad0e-a73ff411d031"
      },
      "execution_count": 12,
      "outputs": [
        {
          "output_type": "stream",
          "name": "stdout",
          "text": [
            "(120, 224, 224, 3)\n",
            "(31, 224, 224, 3)\n",
            "(120, 2)\n",
            "(31, 2)\n"
          ]
        }
      ]
    },
    {
      "cell_type": "markdown",
      "source": [
        "## 準備したデータを学習させていく\n",
        "## 学習に必要なライブラリをimport"
      ],
      "metadata": {
        "id": "7fgI9ITMLSB5"
      }
    },
    {
      "cell_type": "code",
      "source": [
        "from keras.applications.vgg16 import VGG16\n",
        "from keras.models import Sequential,Model\n",
        "from keras.layers import Input,Activation,Dense,Flatten,Dropout\n",
        "from keras.optimizers import Adam"
      ],
      "metadata": {
        "id": "89p67XEtHOQ9"
      },
      "execution_count": 13,
      "outputs": []
    },
    {
      "cell_type": "markdown",
      "source": [
        "## モデルのVGG16をアレンジしていく"
      ],
      "metadata": {
        "id": "nDxie-UZSSxm"
      }
    },
    {
      "cell_type": "code",
      "source": [
        "# VGG16入力層を用意する（定義）\n",
        "input_tensor = Input(shape=(224,224,3))\n",
        "#VGG16のインスタンスを作る\n",
        "base_model = VGG16(weights='imagenet',input_tensor=input_tensor,include_top=False)"
      ],
      "metadata": {
        "id": "iySysvDhMXVL",
        "colab": {
          "base_uri": "https://localhost:8080/"
        },
        "outputId": "f846f685-b6ed-4c79-9339-b557317b484b"
      },
      "execution_count": 14,
      "outputs": [
        {
          "output_type": "stream",
          "name": "stdout",
          "text": [
            "Downloading data from https://storage.googleapis.com/tensorflow/keras-applications/vgg16/vgg16_weights_tf_dim_ordering_tf_kernels_notop.h5\n",
            "58889256/58889256 [==============================] - 3s 0us/step\n"
          ]
        }
      ]
    },
    {
      "cell_type": "markdown",
      "source": [
        "## 1000分類のsoftmaxを外した代わりに、二つに分類するsoftmax層を追加する"
      ],
      "metadata": {
        "id": "qYstGpG-XPkn"
      }
    },
    {
      "cell_type": "code",
      "source": [
        "# 追加する層の作成\n",
        "top_model = Sequential() # ラッピングする層\n",
        "top_model.add(Flatten(input_shape=base_model.output_shape[1:]))\n",
        "top_model.add(Dense(n_classes,activation='softmax'))"
      ],
      "metadata": {
        "id": "6cFPj8XVVUNa"
      },
      "execution_count": 15,
      "outputs": []
    },
    {
      "cell_type": "markdown",
      "source": [
        "## 最後のsoftmaxを外したモデル（base_model）と追加用の二つに分類するsoftmax層のモデル(top_mode)をつなげる"
      ],
      "metadata": {
        "id": "EbxQ9wEiaLTy"
      }
    },
    {
      "cell_type": "code",
      "source": [
        "model = Model(inputs=base_model.input,outputs=top_model(base_model.output))"
      ],
      "metadata": {
        "id": "O_iXN_M3aX9H"
      },
      "execution_count": 16,
      "outputs": []
    },
    {
      "cell_type": "markdown",
      "source": [
        "## 時間短縮のために、15層までを外す"
      ],
      "metadata": {
        "id": "FgGiimtSaLLj"
      }
    },
    {
      "cell_type": "code",
      "source": [
        "## ループしながら15層までを無効にする\n",
        "for layer in model.layers[:15]:\n",
        "  layer.trainable = False #15層までは学習しない\n",
        "print('# layers =', len(model.layers))#モデルの層の数を表示"
      ],
      "metadata": {
        "colab": {
          "base_uri": "https://localhost:8080/"
        },
        "id": "MHIhWTvgYcX8",
        "outputId": "d7ac1f30-e84a-4e9a-a85d-0e77e9f85474"
      },
      "execution_count": 17,
      "outputs": [
        {
          "output_type": "stream",
          "name": "stdout",
          "text": [
            "# layers = 20\n"
          ]
        }
      ]
    },
    {
      "cell_type": "markdown",
      "source": [
        "## 学習モデルをコンパイルする"
      ],
      "metadata": {
        "id": "WB7eKWyIcfqz"
      }
    },
    {
      "cell_type": "code",
      "source": [
        "## 損失はクロスエントロピー法で算出、最適化はAdam、指標は精度で見る\n",
        "model.compile(loss='categorical_crossentropy',\n",
        "              optimizer = 'adam',\n",
        "              metrics = ['accuracy'])"
      ],
      "metadata": {
        "id": "omCPP-M9biTF"
      },
      "execution_count": 18,
      "outputs": []
    },
    {
      "cell_type": "markdown",
      "source": [
        "## compileしたモデルを表示"
      ],
      "metadata": {
        "id": "IZMu7sR_eWzI"
      }
    },
    {
      "cell_type": "code",
      "source": [
        "model.summary()"
      ],
      "metadata": {
        "colab": {
          "base_uri": "https://localhost:8080/"
        },
        "id": "l_nNTfD4eV5w",
        "outputId": "a41a96a5-a16a-4f87-9027-c4f0d7e1419f"
      },
      "execution_count": 19,
      "outputs": [
        {
          "output_type": "stream",
          "name": "stdout",
          "text": [
            "Model: \"model\"\n",
            "_________________________________________________________________\n",
            " Layer (type)                Output Shape              Param #   \n",
            "=================================================================\n",
            " input_1 (InputLayer)        [(None, 224, 224, 3)]     0         \n",
            "                                                                 \n",
            " block1_conv1 (Conv2D)       (None, 224, 224, 64)      1792      \n",
            "                                                                 \n",
            " block1_conv2 (Conv2D)       (None, 224, 224, 64)      36928     \n",
            "                                                                 \n",
            " block1_pool (MaxPooling2D)  (None, 112, 112, 64)      0         \n",
            "                                                                 \n",
            " block2_conv1 (Conv2D)       (None, 112, 112, 128)     73856     \n",
            "                                                                 \n",
            " block2_conv2 (Conv2D)       (None, 112, 112, 128)     147584    \n",
            "                                                                 \n",
            " block2_pool (MaxPooling2D)  (None, 56, 56, 128)       0         \n",
            "                                                                 \n",
            " block3_conv1 (Conv2D)       (None, 56, 56, 256)       295168    \n",
            "                                                                 \n",
            " block3_conv2 (Conv2D)       (None, 56, 56, 256)       590080    \n",
            "                                                                 \n",
            " block3_conv3 (Conv2D)       (None, 56, 56, 256)       590080    \n",
            "                                                                 \n",
            " block3_pool (MaxPooling2D)  (None, 28, 28, 256)       0         \n",
            "                                                                 \n",
            " block4_conv1 (Conv2D)       (None, 28, 28, 512)       1180160   \n",
            "                                                                 \n",
            " block4_conv2 (Conv2D)       (None, 28, 28, 512)       2359808   \n",
            "                                                                 \n",
            " block4_conv3 (Conv2D)       (None, 28, 28, 512)       2359808   \n",
            "                                                                 \n",
            " block4_pool (MaxPooling2D)  (None, 14, 14, 512)       0         \n",
            "                                                                 \n",
            " block5_conv1 (Conv2D)       (None, 14, 14, 512)       2359808   \n",
            "                                                                 \n",
            " block5_conv2 (Conv2D)       (None, 14, 14, 512)       2359808   \n",
            "                                                                 \n",
            " block5_conv3 (Conv2D)       (None, 14, 14, 512)       2359808   \n",
            "                                                                 \n",
            " block5_pool (MaxPooling2D)  (None, 7, 7, 512)         0         \n",
            "                                                                 \n",
            " sequential (Sequential)     (None, 2)                 50178     \n",
            "                                                                 \n",
            "=================================================================\n",
            "Total params: 14,764,866\n",
            "Trainable params: 7,129,602\n",
            "Non-trainable params: 7,635,264\n",
            "_________________________________________________________________\n"
          ]
        }
      ]
    },
    {
      "cell_type": "markdown",
      "source": [
        "## コンパイルしたモデルで収集した画像データを学習させる"
      ],
      "metadata": {
        "id": "w3H0NKStfbYA"
      }
    },
    {
      "cell_type": "code",
      "source": [
        "model.fit(X_train,Y_train,epochs=20,batch_size=16)"
      ],
      "metadata": {
        "colab": {
          "base_uri": "https://localhost:8080/"
        },
        "id": "3yM21rteef1N",
        "outputId": "44014b18-111e-4cb3-9401-66f21b30f0fd"
      },
      "execution_count": 20,
      "outputs": [
        {
          "output_type": "stream",
          "name": "stdout",
          "text": [
            "Epoch 1/20\n",
            "8/8 [==============================] - 12s 230ms/step - loss: 1.3380 - accuracy: 0.5417\n",
            "Epoch 2/20\n",
            "8/8 [==============================] - 1s 86ms/step - loss: 0.7697 - accuracy: 0.5667\n",
            "Epoch 3/20\n",
            "8/8 [==============================] - 1s 85ms/step - loss: 0.7068 - accuracy: 0.4917\n",
            "Epoch 4/20\n",
            "8/8 [==============================] - 1s 85ms/step - loss: 0.6968 - accuracy: 0.5083\n",
            "Epoch 5/20\n",
            "8/8 [==============================] - 1s 85ms/step - loss: 0.6934 - accuracy: 0.5083\n",
            "Epoch 6/20\n",
            "8/8 [==============================] - 1s 84ms/step - loss: 0.6931 - accuracy: 0.5083\n",
            "Epoch 7/20\n",
            "8/8 [==============================] - 1s 86ms/step - loss: 0.6931 - accuracy: 0.5083\n",
            "Epoch 8/20\n",
            "8/8 [==============================] - 1s 85ms/step - loss: 0.6931 - accuracy: 0.5083\n",
            "Epoch 9/20\n",
            "8/8 [==============================] - 1s 85ms/step - loss: 0.6931 - accuracy: 0.5083\n",
            "Epoch 10/20\n",
            "8/8 [==============================] - 1s 86ms/step - loss: 0.6931 - accuracy: 0.5083\n",
            "Epoch 11/20\n",
            "8/8 [==============================] - 1s 85ms/step - loss: 0.6931 - accuracy: 0.5083\n",
            "Epoch 12/20\n",
            "8/8 [==============================] - 1s 85ms/step - loss: 0.6931 - accuracy: 0.5083\n",
            "Epoch 13/20\n",
            "8/8 [==============================] - 1s 86ms/step - loss: 0.6931 - accuracy: 0.5083\n",
            "Epoch 14/20\n",
            "8/8 [==============================] - 1s 86ms/step - loss: 0.6931 - accuracy: 0.5083\n",
            "Epoch 15/20\n",
            "8/8 [==============================] - 1s 87ms/step - loss: 0.6931 - accuracy: 0.5083\n",
            "Epoch 16/20\n",
            "8/8 [==============================] - 1s 85ms/step - loss: 0.6931 - accuracy: 0.5083\n",
            "Epoch 17/20\n",
            "8/8 [==============================] - 1s 86ms/step - loss: 0.6931 - accuracy: 0.5083\n",
            "Epoch 18/20\n",
            "8/8 [==============================] - 1s 86ms/step - loss: 0.6931 - accuracy: 0.5083\n",
            "Epoch 19/20\n",
            "8/8 [==============================] - 1s 86ms/step - loss: 0.6930 - accuracy: 0.5083\n",
            "Epoch 20/20\n",
            "8/8 [==============================] - 1s 86ms/step - loss: 0.6931 - accuracy: 0.5083\n"
          ]
        },
        {
          "output_type": "execute_result",
          "data": {
            "text/plain": [
              "<keras.callbacks.History at 0x7fea00071f70>"
            ]
          },
          "metadata": {},
          "execution_count": 20
        }
      ]
    },
    {
      "cell_type": "markdown",
      "source": [
        "## 学習の成果を指標（accuracy）で確認"
      ],
      "metadata": {
        "id": "AgLUNDaThpzY"
      }
    },
    {
      "cell_type": "code",
      "source": [
        "score = model.evaluate(X_test,Y_test,batch_size=16)"
      ],
      "metadata": {
        "colab": {
          "base_uri": "https://localhost:8080/"
        },
        "id": "-q5yfc8UgNVq",
        "outputId": "8b848f3f-7885-4558-f93a-7164d6a79696"
      },
      "execution_count": 21,
      "outputs": [
        {
          "output_type": "stream",
          "name": "stdout",
          "text": [
            "2/2 [==============================] - 2s 2s/step - loss: 0.6940 - accuracy: 0.4516\n"
          ]
        }
      ]
    },
    {
      "cell_type": "markdown",
      "source": [
        "## 作成した学習モデルとクラス分類名を保存"
      ],
      "metadata": {
        "id": "8B5t8Auliwyi"
      }
    },
    {
      "cell_type": "code",
      "source": [
        "import pickle\n",
        "# オブジェクトをバイナリファイルで保存\n",
        "pickle.dump(classes,open('classes.sav','wb'))\n",
        "# 学習モデルの保存\n",
        "model.save('cnn.h5')"
      ],
      "metadata": {
        "id": "nT6cHAYLh9Cg"
      },
      "execution_count": 22,
      "outputs": []
    },
    {
      "cell_type": "markdown",
      "source": [
        "## 保存したクラス分類と学習モデルを読み込んで使う"
      ],
      "metadata": {
        "id": "zHUrXLLskTMo"
      }
    },
    {
      "cell_type": "code",
      "source": [
        "# ライブラリのimport\n",
        "from keras.models import load_model\n",
        "import pickle\n",
        "import cv2\n",
        "import glob"
      ],
      "metadata": {
        "id": "vOET3HKqjhyp"
      },
      "execution_count": 23,
      "outputs": []
    },
    {
      "cell_type": "markdown",
      "source": [
        "## ファイルを読み込んでオブジェクトとして蘇らせる"
      ],
      "metadata": {
        "id": "dO1jy-1glAac"
      }
    },
    {
      "cell_type": "code",
      "source": [
        "model = load_model('cnn.h5')\n",
        "classes = pickle.load(open('classes.sav','rb'))"
      ],
      "metadata": {
        "id": "P_GCMeDlktIp"
      },
      "execution_count": 24,
      "outputs": []
    },
    {
      "cell_type": "markdown",
      "source": [
        "## sample画像を読み込む"
      ],
      "metadata": {
        "id": "buynhYq8Ue-d"
      }
    },
    {
      "cell_type": "code",
      "source": [
        "files = glob.glob('sample/*')\n",
        "print(files)"
      ],
      "metadata": {
        "id": "FASLg0RGlezc",
        "colab": {
          "base_uri": "https://localhost:8080/"
        },
        "outputId": "ba85050c-f250-46bc-9b19-9ccb9931f786"
      },
      "execution_count": 25,
      "outputs": [
        {
          "output_type": "stream",
          "name": "stdout",
          "text": [
            "['sample/cat_8.jpg', 'sample/dog_6.jpg', 'sample/cat_13.jpg']\n"
          ]
        }
      ]
    },
    {
      "cell_type": "markdown",
      "source": [
        "## ファイルパスから画像を読み込み、学習モデルに判定させ、該当するoutputフォルダにコピーを書き込む"
      ],
      "metadata": {
        "id": "VDeJgd5uVwet"
      }
    },
    {
      "cell_type": "code",
      "source": [
        "for file in files: # ファイルの数だけループ\n",
        "  img = cv2.imread(file) # 画像データを読み込み\n",
        "  # 判定のためにimgを加工したimg2を作る\n",
        "  img2 = cv2.resize(img,dsize=(224,224)) #b 224,224にリサイズ\n",
        "  img2 = img2.astype('float32')\n",
        "  img2 = img2/255.0 #0~255.0だったデータを0.0~0.1に変換\n",
        "  img2 = img2[None,...] # 1次元配列に変換\n",
        "  # 正規化したデータを判定\n",
        "  result = model.predict(img2)\n",
        "  print(result) # 画面に生で出力\n",
        "  # 確率が高いクラスを取得\n",
        "  pred = result.argmax()\n",
        "  print(pred , str(classes[pred]))\n",
        "  # 判定したクラス分類のフォルダの方に、画像データを書き込む\n",
        "  cv2.imwrite('output/' + str(classes[pred]) + '/' + file,img)"
      ],
      "metadata": {
        "colab": {
          "base_uri": "https://localhost:8080/"
        },
        "id": "KSN7VuctVTgv",
        "outputId": "95157f85-c18e-44ee-8296-091e94f657d6"
      },
      "execution_count": 32,
      "outputs": [
        {
          "output_type": "stream",
          "name": "stdout",
          "text": [
            "1/1 [==============================] - 0s 24ms/step\n",
            "[[0.49577782 0.5042222 ]]\n",
            "1 cat\n",
            "1/1 [==============================] - 0s 34ms/step\n",
            "[[0.49577782 0.5042222 ]]\n",
            "1 cat\n",
            "1/1 [==============================] - 0s 35ms/step\n",
            "[[0.49577782 0.5042222 ]]\n",
            "1 cat\n"
          ]
        }
      ]
    },
    {
      "cell_type": "code",
      "source": [],
      "metadata": {
        "id": "zhSWgkppX0Gz"
      },
      "execution_count": null,
      "outputs": []
    }
  ]
}