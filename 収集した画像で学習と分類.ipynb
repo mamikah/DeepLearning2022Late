{
  "nbformat": 4,
  "nbformat_minor": 0,
  "metadata": {
    "colab": {
      "provenance": [],
      "authorship_tag": "ABX9TyPaZsUpwtyXV8oKYW2Jfzzb",
      "include_colab_link": true
    },
    "kernelspec": {
      "name": "python3",
      "display_name": "Python 3"
    },
    "language_info": {
      "name": "python"
    },
    "accelerator": "GPU",
    "gpuClass": "standard"
  },
  "cells": [
    {
      "cell_type": "markdown",
      "metadata": {
        "id": "view-in-github",
        "colab_type": "text"
      },
      "source": [
        "<a href=\"https://colab.research.google.com/github/mamikah/DeepLearning2022Late/blob/main/%E5%8F%8E%E9%9B%86%E3%81%97%E3%81%9F%E7%94%BB%E5%83%8F%E3%81%A7%E5%AD%A6%E7%BF%92%E3%81%A8%E5%88%86%E9%A1%9E.ipynb\" target=\"_parent\"><img src=\"https://colab.research.google.com/assets/colab-badge.svg\" alt=\"Open In Colab\"/></a>"
      ]
    },
    {
      "cell_type": "markdown",
      "source": [
        "# 収集した画像をColabにUPして学習させ、それをもとに分類させる"
      ],
      "metadata": {
        "id": "e1KezIp5WEIh"
      }
    },
    {
      "cell_type": "markdown",
      "source": [
        "## ファイルのフォルダを準備する"
      ],
      "metadata": {
        "id": "fznXkuwCWM_Z"
      }
    },
    {
      "cell_type": "code",
      "execution_count": 1,
      "metadata": {
        "id": "YWVeOPgHU-oo"
      },
      "outputs": [],
      "source": [
        "import os\n",
        "# 分類対象の画像のフォルダを作成\n",
        "os.makedirs('sample',exist_ok = True)\n",
        "\n",
        "# 犬と判定されたときの置き場所\n",
        "os.makedirs('output/dog/sample',exist_ok = True)\n",
        "# 猫と判定されたときの置き場所\n",
        "os.makedirs('output/cat/sample',exist_ok = True)\n",
        "\n",
        "# 犬の学習用の収集画像\n",
        "os.makedirs('img/deep_learning/dog',exist_ok = True)\n",
        "# 猫の学習用の収集画像\n",
        "os.makedirs('img/deep_learning/cat',exist_ok = True)"
      ]
    },
    {
      "cell_type": "markdown",
      "source": [
        "## 必要なライブラリをimport"
      ],
      "metadata": {
        "id": "LkUq0i_wYWo5"
      }
    },
    {
      "cell_type": "code",
      "source": [
        "import cv2\n",
        "import numpy as np\n",
        "import glob as glob\n",
        "from sklearn.model_selection import train_test_split\n",
        "from keras.utils import np_utils"
      ],
      "metadata": {
        "id": "VdRg1kIkXj1j"
      },
      "execution_count": 2,
      "outputs": []
    },
    {
      "cell_type": "markdown",
      "source": [
        "## 分類（クラス）の名前をフォルダ名（dog,cat）から引用する"
      ],
      "metadata": {
        "id": "CqgC2WHrZpfc"
      }
    },
    {
      "cell_type": "code",
      "source": [
        "# dogとcatフォルダがある場所\n",
        "path = \"img/deep_learning\" \n",
        "folders = os.listdir(path)\n",
        "# 2つのパスからフォルダ名を抜きだす\n",
        "classes = [f for f in folders if os.path.isdir(os.path.join(path,f))]\n",
        "print(classes)"
      ],
      "metadata": {
        "colab": {
          "base_uri": "https://localhost:8080/"
        },
        "id": "Ex5GIVw2ZMaX",
        "outputId": "e4a1cc0a-e55c-4861-9a92-fd744bce0b2a"
      },
      "execution_count": 4,
      "outputs": [
        {
          "output_type": "stream",
          "name": "stdout",
          "text": [
            "['cat', 'dog']\n"
          ]
        }
      ]
    },
    {
      "cell_type": "code",
      "source": [],
      "metadata": {
        "id": "wgofmmXYaklq"
      },
      "execution_count": null,
      "outputs": []
    }
  ]
}