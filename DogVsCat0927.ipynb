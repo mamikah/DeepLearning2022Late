{
  "nbformat": 4,
  "nbformat_minor": 0,
  "metadata": {
    "colab": {
      "provenance": [],
      "collapsed_sections": [],
      "authorship_tag": "ABX9TyOPbEKOClKtrG7DqrT1gvbR",
      "include_colab_link": true
    },
    "kernelspec": {
      "name": "python3",
      "display_name": "Python 3"
    },
    "language_info": {
      "name": "python"
    }
  },
  "cells": [
    {
      "cell_type": "markdown",
      "metadata": {
        "id": "view-in-github",
        "colab_type": "text"
      },
      "source": [
        "<a href=\"https://colab.research.google.com/github/mamikah/DeepLearning2022Late/blob/main/DogVsCat0927.ipynb\" target=\"_parent\"><img src=\"https://colab.research.google.com/assets/colab-badge.svg\" alt=\"Open In Colab\"/></a>"
      ]
    },
    {
      "cell_type": "markdown",
      "source": [
        "# Kerasを使用したディープラーニングをやってみる"
      ],
      "metadata": {
        "id": "txwulJ4v5FdF"
      }
    },
    {
      "cell_type": "markdown",
      "source": [
        "## 画像認識"
      ],
      "metadata": {
        "id": "FIaXsIx65KnH"
      }
    },
    {
      "cell_type": "code",
      "execution_count": 1,
      "metadata": {
        "id": "FiFtMQdw3P2V"
      },
      "outputs": [],
      "source": [
        "%matplotlib inline\n",
        "from keras.applications.vgg16 import VGG16,preprocess_input,decode_predictions\n",
        "from keras.preprocessing import image\n",
        "from PIL import Image\n",
        "import matplotlib.pyplot as plt\n",
        "import numpy as np\n",
        "import sys"
      ]
    },
    {
      "cell_type": "code",
      "source": [
        "model = VGG16( weights = 'imagenet' )"
      ],
      "metadata": {
        "id": "ZGt7hGEh5-3I",
        "colab": {
          "base_uri": "https://localhost:8080/"
        },
        "outputId": "8997bacf-98d3-4ec7-f73d-6615091173d8"
      },
      "execution_count": 2,
      "outputs": [
        {
          "output_type": "stream",
          "name": "stdout",
          "text": [
            "Downloading data from https://storage.googleapis.com/tensorflow/keras-applications/vgg16/vgg16_weights_tf_dim_ordering_tf_kernels.h5\n",
            "553467904/553467096 [==============================] - 9s 0us/step\n",
            "553476096/553467096 [==============================] - 9s 0us/step\n"
          ]
        }
      ]
    },
    {
      "cell_type": "markdown",
      "source": [
        "### 画像判定のための関数"
      ],
      "metadata": {
        "id": "1-UpujuZ8pxj"
      }
    },
    {
      "cell_type": "code",
      "source": [
        "def predict( filename, featuresize ):\n",
        "  img = image.load_img( filename, target_size=( 224,224 ) )\n",
        "  x = image.img_to_array( img )\n",
        "  x = np.expand_dims( x, axis=0 )\n",
        "# 判定を実行\n",
        "  preds = model.predict( preprocess_input( x ) )\n",
        "  results = decode_predictions( preds, top=featuresize )[0]\n",
        "  return results"
      ],
      "metadata": {
        "id": "gtLfTVvF8s3z"
      },
      "execution_count": 3,
      "outputs": []
    },
    {
      "cell_type": "markdown",
      "source": [
        "### 画像表示のための関数"
      ],
      "metadata": {
        "id": "neO-WTVD_e5L"
      }
    },
    {
      "cell_type": "code",
      "source": [
        "def showimg( filename, title, i ):\n",
        "  im = Image.open( filename )\n",
        "  im_list = np.array( im )\n",
        "  plt.subplot( 2, 5, i )\n",
        "  plt.title( title )\n",
        "  plt.axis( \"off\" )\n",
        "  plt.imshow( im_list )\n"
      ],
      "metadata": {
        "id": "mjm9cDb69rvv"
      },
      "execution_count": 4,
      "outputs": []
    },
    {
      "cell_type": "markdown",
      "source": [
        "### Kaggleにある画像データを利用する\n",
        "Kaggle------>https://www.kaggle.com/<br>\n",
        "犬猫判定用の画像データ<br>\n",
        "----->https://www.kaggle.com/c/dogs-vs-cats/data"
      ],
      "metadata": {
        "id": "z67K8CM7Beja"
      }
    },
    {
      "cell_type": "markdown",
      "source": [
        "### 指定されたURLからファイルをダウンロードする"
      ],
      "metadata": {
        "id": "sKfqrF43ukmi"
      }
    },
    {
      "cell_type": "code",
      "source": [
        "# wgetでwebからファイルをダウンロードする\n",
        "# GoogleColabでコマンドを実行するときは先頭に！マークを付ける\n",
        "# 小さいファイルをgoogleドライブからDLするときは以下のほうにURLを付けるだけでOK\n",
        "!wget --load-cookies /tmp/cookies.txt \"https://drive.google.com/uc?export=download&confirm=$(wget --quiet --save-cookies /tmp/cookies.txt --keep-session-cookies --no-check-certificate 'https://drive.google.com/uc?export=download&id=1WQ9KZ-St4BqUWkqYJZYBIXQ8tT92DW_2' -O- | sed -rn 's/.*confirm=([0-9A-Za-z_]+).*/\\1\\n/p')&id=1WQ9KZ-St4BqUWkqYJZYBIXQ8tT92DW_2\" -O train.zip && rm -rf /tmp/cookies.txt\n",
        "!wget --load-cookies /tmp/cookies.txt \"https://drive.google.com/uc?export=download&confirm=$(wget --quiet --save-cookies /tmp/cookies.txt --keep-session-cookies --no-check-certificate 'https://drive.google.com/uc?export=download&id=1WQ9KZ-St4BqUWkqYJZYBIXQ8tT92DW_2' -O- | sed -rn 's/.*confirm=([0-9A-Za-z_]+).*/\\1\\n/p')&id=1WQ9KZ-St4BqUWkqYJZYBIXQ8tT92DW_2\" -O test.zip && rm -rf /tmp/cookies.txt\n",
        "\n"
      ],
      "metadata": {
        "id": "DVEPeh_HAul8",
        "colab": {
          "base_uri": "https://localhost:8080/"
        },
        "outputId": "9815fe3f-11b2-422f-f7d2-3f49e2aae005"
      },
      "execution_count": 5,
      "outputs": [
        {
          "output_type": "stream",
          "name": "stdout",
          "text": [
            "--2022-10-04 00:34:24--  https://drive.google.com/uc?export=download&confirm=t&id=1WQ9KZ-St4BqUWkqYJZYBIXQ8tT92DW_2\n",
            "Resolving drive.google.com (drive.google.com)... 108.177.112.102, 108.177.112.138, 108.177.112.101, ...\n",
            "Connecting to drive.google.com (drive.google.com)|108.177.112.102|:443... connected.\n",
            "HTTP request sent, awaiting response... 303 See Other\n",
            "Location: https://doc-0k-1s-docs.googleusercontent.com/docs/securesc/ha0ro937gcuc7l7deffksulhg5h7mbp1/ehb1rss699h79sl6o8q8cs96bh31k9r1/1664843625000/14334177730080324288/*/1WQ9KZ-St4BqUWkqYJZYBIXQ8tT92DW_2?e=download&uuid=1dd64932-d47a-47c2-b283-f975106d6c85 [following]\n",
            "Warning: wildcards not supported in HTTP.\n",
            "--2022-10-04 00:34:24--  https://doc-0k-1s-docs.googleusercontent.com/docs/securesc/ha0ro937gcuc7l7deffksulhg5h7mbp1/ehb1rss699h79sl6o8q8cs96bh31k9r1/1664843625000/14334177730080324288/*/1WQ9KZ-St4BqUWkqYJZYBIXQ8tT92DW_2?e=download&uuid=1dd64932-d47a-47c2-b283-f975106d6c85\n",
            "Resolving doc-0k-1s-docs.googleusercontent.com (doc-0k-1s-docs.googleusercontent.com)... 142.251.120.132, 2607:f8b0:4001:c2e::84\n",
            "Connecting to doc-0k-1s-docs.googleusercontent.com (doc-0k-1s-docs.googleusercontent.com)|142.251.120.132|:443... connected.\n",
            "HTTP request sent, awaiting response... 200 OK\n",
            "Length: 569872234 (543M) [application/x-zip-compressed]\n",
            "Saving to: ‘train.zip’\n",
            "\n",
            "train.zip           100%[===================>] 543.47M  70.5MB/s    in 8.4s    \n",
            "\n",
            "2022-10-04 00:34:33 (64.4 MB/s) - ‘train.zip’ saved [569872234/569872234]\n",
            "\n",
            "--2022-10-04 00:34:33--  https://drive.google.com/uc?export=download&confirm=t&id=1WQ9KZ-St4BqUWkqYJZYBIXQ8tT92DW_2\n",
            "Resolving drive.google.com (drive.google.com)... 108.177.112.102, 108.177.112.138, 108.177.112.101, ...\n",
            "Connecting to drive.google.com (drive.google.com)|108.177.112.102|:443... connected.\n",
            "HTTP request sent, awaiting response... 303 See Other\n",
            "Location: https://doc-0k-1s-docs.googleusercontent.com/docs/securesc/ha0ro937gcuc7l7deffksulhg5h7mbp1/ehb1rss699h79sl6o8q8cs96bh31k9r1/1664843625000/14334177730080324288/*/1WQ9KZ-St4BqUWkqYJZYBIXQ8tT92DW_2?e=download&uuid=e17533b2-0f54-4154-813d-ded7fd366ed3 [following]\n",
            "Warning: wildcards not supported in HTTP.\n",
            "--2022-10-04 00:34:33--  https://doc-0k-1s-docs.googleusercontent.com/docs/securesc/ha0ro937gcuc7l7deffksulhg5h7mbp1/ehb1rss699h79sl6o8q8cs96bh31k9r1/1664843625000/14334177730080324288/*/1WQ9KZ-St4BqUWkqYJZYBIXQ8tT92DW_2?e=download&uuid=e17533b2-0f54-4154-813d-ded7fd366ed3\n",
            "Resolving doc-0k-1s-docs.googleusercontent.com (doc-0k-1s-docs.googleusercontent.com)... 142.251.120.132, 2607:f8b0:4001:c2e::84\n",
            "Connecting to doc-0k-1s-docs.googleusercontent.com (doc-0k-1s-docs.googleusercontent.com)|142.251.120.132|:443... connected.\n",
            "HTTP request sent, awaiting response... 200 OK\n",
            "Length: 569872234 (543M) [application/x-zip-compressed]\n",
            "Saving to: ‘test.zip’\n",
            "\n",
            "test.zip            100%[===================>] 543.47M   207MB/s    in 2.6s    \n",
            "\n",
            "2022-10-04 00:34:36 (207 MB/s) - ‘test.zip’ saved [569872234/569872234]\n",
            "\n"
          ]
        }
      ]
    },
    {
      "cell_type": "markdown",
      "source": [
        "### Colabに自分のGoogleアカウントのドライブをマウントする"
      ],
      "metadata": {
        "id": "LAbslCSey2na"
      }
    },
    {
      "cell_type": "code",
      "source": [
        "from google.colab import drive\n",
        "# googleドライブをマウント\n",
        "drive.mount('/content/drive')"
      ],
      "metadata": {
        "colab": {
          "base_uri": "https://localhost:8080/"
        },
        "id": "BT5abxFQvZEZ",
        "outputId": "f6011dc8-85f7-4842-c321-92048702f67c"
      },
      "execution_count": 6,
      "outputs": [
        {
          "output_type": "stream",
          "name": "stdout",
          "text": [
            "Mounted at /content/drive\n"
          ]
        }
      ]
    },
    {
      "cell_type": "markdown",
      "source": [
        "### DLしてきたファイルをマウントしたディレクトリにコピーする"
      ],
      "metadata": {
        "id": "8ARpqM_A1OxZ"
      }
    },
    {
      "cell_type": "code",
      "source": [
        "# コピーファイルを置くディレクトリの作成\n",
        "import os\n",
        "dir_path = '/content/drive/My Drive/2022LATE'\n",
        "# すでにディレクトリがあってもエラーにしない\n",
        "os.makedirs( dir_path, exist_ok=True )\n",
        "!pwd #今いるディレクトリを表示\n",
        "# ファイルをコピー\n",
        "!cp train.zip '/content/drive/My Drive/2022LATE'\n",
        "# test.zipはいったん使わないのでコピーしない"
      ],
      "metadata": {
        "colab": {
          "base_uri": "https://localhost:8080/"
        },
        "id": "MdybRzZgzD1M",
        "outputId": "d0f96d5b-e759-47d4-dc10-04ddcae94b55"
      },
      "execution_count": 7,
      "outputs": [
        {
          "output_type": "stream",
          "name": "stdout",
          "text": [
            "/content\n"
          ]
        }
      ]
    },
    {
      "cell_type": "markdown",
      "source": [
        "### GoogleドライブからColabへファイルをコピー"
      ],
      "metadata": {
        "id": "DGe-2EdE4L6h"
      }
    },
    {
      "cell_type": "code",
      "source": [
        "!cp '/content/drive/My Drive/2022LATE/train.zip'"
      ],
      "metadata": {
        "colab": {
          "base_uri": "https://localhost:8080/"
        },
        "id": "o0GNM8Hk2cfN",
        "outputId": "b3d5ec21-b397-4e0d-dce6-18ea71839b5f"
      },
      "execution_count": 8,
      "outputs": [
        {
          "output_type": "stream",
          "name": "stdout",
          "text": [
            "cp: missing destination file operand after '/content/drive/My Drive/2022LATE/train.zip'\n",
            "Try 'cp --help' for more information.\n"
          ]
        }
      ]
    },
    {
      "cell_type": "markdown",
      "source": [
        "### zipファイルを解凍"
      ],
      "metadata": {
        "id": "i4a7lrQC4g5x"
      }
    },
    {
      "cell_type": "code",
      "source": [
        "# unzipで解凍\n",
        "!unzip -o -q 'train.zip'\n",
        "print('OK!')"
      ],
      "metadata": {
        "colab": {
          "base_uri": "https://localhost:8080/"
        },
        "id": "mDc_w-Jq4bcm",
        "outputId": "38999d96-8715-4832-c917-69e4db17f788"
      },
      "execution_count": 9,
      "outputs": [
        {
          "output_type": "stream",
          "name": "stdout",
          "text": [
            "OK!\n"
          ]
        }
      ]
    },
    {
      "cell_type": "markdown",
      "source": [
        "### 解凍した画像を使って画像判定させる"
      ],
      "metadata": {
        "id": "o3zNsZSi51BB"
      }
    },
    {
      "cell_type": "code",
      "source": [
        "# 画像を指定する変数\n",
        "filename = 'pomu.jpg'\n",
        "plt.figure( figsize=(20,10) )\n",
        "for i in range(1):\n",
        "  showimg(filename,\"What's this?\", i+1)\n",
        "plt.show()\n",
        "\n",
        "# 表示した画像を判定\n",
        "results = predict(filename, 10)\n",
        "for  result in results:\n",
        "  print(result)"
      ],
      "metadata": {
        "colab": {
          "base_uri": "https://localhost:8080/",
          "height": 419
        },
        "id": "9A1LaN9l46nw",
        "outputId": "38152925-5692-4b13-947a-dbd0f20582c5"
      },
      "execution_count": 11,
      "outputs": [
        {
          "output_type": "display_data",
          "data": {
            "text/plain": [
              "<Figure size 1440x720 with 1 Axes>"
            ],
            "image/png": "[encoded data removed]"
          },
          "metadata": {
            "needs_background": "light"
          }
        },
        {
          "output_type": "stream",
          "name": "stdout",
          "text": [
            "('n02834397', 'bib', 0.49514613)\n",
            "('n03291819', 'envelope', 0.10976662)\n",
            "('n03595614', 'jersey', 0.06986626)\n",
            "('n03908618', 'pencil_box', 0.017414322)\n",
            "('n04579432', 'whistle', 0.013718662)\n",
            "('n04317175', 'stethoscope', 0.011986805)\n",
            "('n03532672', 'hook', 0.01160268)\n",
            "('n07248320', 'book_jacket', 0.011550691)\n",
            "('n03709823', 'mailbag', 0.0109565295)\n",
            "('n03485794', 'handkerchief', 0.008287496)\n"
          ]
        }
      ]
    },
    {
      "cell_type": "code",
      "source": [],
      "metadata": {
        "id": "V7-IKVGF6-RA"
      },
      "execution_count": 10,
      "outputs": []
    }
  ]
}