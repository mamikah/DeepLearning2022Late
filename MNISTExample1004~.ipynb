{
  "nbformat": 4,
  "nbformat_minor": 0,
  "metadata": {
    "colab": {
      "provenance": [],
      "collapsed_sections": [],
      "toc_visible": true,
      "authorship_tag": "ABX9TyOUVpNwTRWofc9ti2ZCEBA8",
      "include_colab_link": true
    },
    "kernelspec": {
      "name": "python3",
      "display_name": "Python 3"
    },
    "language_info": {
      "name": "python"
    }
  },
  "cells": [
    {
      "cell_type": "markdown",
      "metadata": {
        "id": "view-in-github",
        "colab_type": "text"
      },
      "source": [
        "<a href=\"https://colab.research.google.com/github/mamikah/DeepLearning2022Late/blob/main/MNISTExample1004~.ipynb\" target=\"_parent\"><img src=\"https://colab.research.google.com/assets/colab-badge.svg\" alt=\"Open In Colab\"/></a>"
      ]
    },
    {
      "cell_type": "markdown",
      "source": [
        "# MNISTデータセットを使って手書き数字の画像判定を実装する"
      ],
      "metadata": {
        "id": "ijaKMAd1_76K"
      }
    },
    {
      "cell_type": "markdown",
      "source": [
        "## ライブラリをimport"
      ],
      "metadata": {
        "id": "eElZLMZmAUFh"
      }
    },
    {
      "cell_type": "code",
      "source": [
        "#学習用ライブラリ\n",
        "from tensorflow import keras\n",
        "#MNISTデータセットを読み込む\n",
        "from tensorflow.keras.datasets import mnist\n",
        "#学習モデルSequentialモデル\n",
        "from tensorflow.keras.models import Sequential\n",
        "#ニューロンの各層\n",
        "from tensorflow.keras.layers import Dense, Dropout,Activation\n",
        "from tensorflow.keras.optimizers import RMSprop\n",
        "from keras.callbacks import EarlyStopping,CSVLogger\n",
        "\n",
        "#表示用にpyplotを読み込む\n",
        "%matplotlib inline\n",
        "import matplotlib.pyplot as plt"
      ],
      "metadata": {
        "id": "jXY3Jzqhj8oV"
      },
      "execution_count": 1,
      "outputs": []
    },
    {
      "cell_type": "markdown",
      "source": [
        "## ハイパーパラメータの定義"
      ],
      "metadata": {
        "id": "5ySa2UMhjKRv"
      }
    },
    {
      "cell_type": "code",
      "source": [
        "# バッチサイズ（元のデータを何件ごとまとめて処理するか）\n",
        "batch_size = 128\n",
        "# クラス数（結果をいくつに分類するか）\n",
        "num_classes = 10\n",
        "# エポックサイズ(学習の回数：順伝播逆伝播の繰り返し数)\n",
        "epochs = 20"
      ],
      "metadata": {
        "id": "DUcuJQYehzb3"
      },
      "execution_count": 2,
      "outputs": []
    },
    {
      "cell_type": "markdown",
      "source": [
        "## MNISTデータセットを読み込む"
      ],
      "metadata": {
        "id": "iwLgnEBBlt47"
      }
    },
    {
      "cell_type": "code",
      "source": [
        "# MNISTデータ読込\n",
        "# x_**は画像データ y_**は答え(その画像が数字の何なのか)\n",
        "# **_trainは学習用データ **_testは検証用データ\n",
        "(x_train,y_train),(x_test,y_test) = mnist.load_data()"
      ],
      "metadata": {
        "id": "eLqwtBf6lFCo",
        "colab": {
          "base_uri": "https://localhost:8080/"
        },
        "outputId": "34e81267-e5ac-48df-a604-8e6eb2421e93"
      },
      "execution_count": 3,
      "outputs": [
        {
          "output_type": "stream",
          "name": "stdout",
          "text": [
            "Downloading data from https://storage.googleapis.com/tensorflow/tf-keras-datasets/mnist.npz\n",
            "11490434/11490434 [==============================] - 0s 0us/step\n"
          ]
        }
      ]
    },
    {
      "cell_type": "markdown",
      "source": [
        "## MNISTデータをいくつか表示"
      ],
      "metadata": {
        "id": "aBrWhk3enu71"
      }
    },
    {
      "cell_type": "code",
      "source": [
        "# ループしてx_trainに入ったMNISTの画像データを試しに表示\n",
        "# pyplotで表示\n",
        "for i in range(10):\n",
        "  plt.subplot(2, 5, i+1) # 2行5列で、i+1番目の画像をプロットセット\n",
        "  plt.title(\"M_%d\" % i) # 「M_0」のような形式でタイトルを表示\n",
        "  plt.axis(\"off\") # 軸線をオフ\n",
        "  plt.imshow(x_train[i].reshape(28,28), cmap=None)"
      ],
      "metadata": {
        "colab": {
          "base_uri": "https://localhost:8080/",
          "height": 223
        },
        "id": "nvyi9KKRmQp6",
        "outputId": "81e62fcc-8449-49c1-d60a-01ea65011a8f"
      },
      "execution_count": 4,
      "outputs": [
        {
          "output_type": "display_data",
          "data": {
            "text/plain": [
              "<Figure size 432x288 with 10 Axes>"
            ],
            "image/png": "[encoded data removed]"
          },
          "metadata": {
            "needs_background": "light"
          }
        }
      ]
    },
    {
      "cell_type": "markdown",
      "source": [
        "## データの前処理（画像サイズを正規化）"
      ],
      "metadata": {
        "id": "p8ZLT9_yrpn7"
      }
    },
    {
      "cell_type": "markdown",
      "source": [
        "データを1文字分1行（1レコード）の形にする"
      ],
      "metadata": {
        "id": "8mJD0Y87r9oM"
      }
    },
    {
      "cell_type": "code",
      "source": [
        "# 28*28 の画像を1行にすると、784ピクセルになる\n",
        "# 横に784個、0～255までのRGB色数値が並ぶようにする\n",
        "\n",
        "# x_trainは6万字（6万行）分＊784列の2次元配列に変換することになる\n",
        "x_train = x_train.reshape(60000,784).astype('float32')\n",
        "\n",
        "# x_testは1万字（1万行）分＊784列の2次元配列に変換することになる\n",
        "x_test = x_test.reshape(10000, 784).astype('float32')\n",
        "\n",
        "# 画像度との色情報（RGB　0～255）を0～1の小数値の範囲に変換する\n",
        "x_train /= 255 # 255で割った値で上書き\n",
        "x_test /= 255\n",
        "\n",
        "# 答えデータをnum_classesの数（10）に分類\n",
        "y_train = keras.utils.to_categorical(y_train,num_classes) # 学習用\n",
        "y_test = keras.utils.to_categorical(y_test,num_classes)   # 検証用\n"
      ],
      "metadata": {
        "id": "-5OdP1RNn4XE"
      },
      "execution_count": 5,
      "outputs": []
    },
    {
      "cell_type": "markdown",
      "source": [
        "## 変換したデータの形を表示して確認"
      ],
      "metadata": {
        "id": "qqX8WjQNBgpb"
      }
    },
    {
      "cell_type": "code",
      "source": [
        "# 学習　xデータ\n",
        "print(x_train.shape)  # 60000行(60000文字レコード) 784列\n",
        "print(x_test.shape)   # 10000行(10000字レコード) 784列\n",
        "print(y_train.shape)  # 60000行(60000文字レコード) (num_class:0∼9の分類)\n",
        "print(y_test.shape)   # 10000行(10000文字レコード) (num_class:0∼9の分類)"
      ],
      "metadata": {
        "colab": {
          "base_uri": "https://localhost:8080/"
        },
        "id": "AaQtFl0rwByP",
        "outputId": "b92e3f44-e6f0-4253-ca4b-df1d0843a66c"
      },
      "execution_count": 6,
      "outputs": [
        {
          "output_type": "stream",
          "name": "stdout",
          "text": [
            "(60000, 784)\n",
            "(10000, 784)\n",
            "(60000, 10)\n",
            "(10000, 10)\n"
          ]
        }
      ]
    },
    {
      "cell_type": "markdown",
      "source": [
        "## 学習モデルを組み立てる\n",
        "生成した学習モデルのインスタンスに層を追加していく"
      ],
      "metadata": {
        "id": "TORe3_d_BmMy"
      }
    },
    {
      "cell_type": "code",
      "source": [
        "# 学習モデルを生成\n",
        "model = Sequential()"
      ],
      "metadata": {
        "id": "oNDRtFNNBjgh"
      },
      "execution_count": 7,
      "outputs": []
    },
    {
      "cell_type": "code",
      "source": [
        "# ニューラル層を作っていく\n",
        "# 784次元のデータが、任意の数だけ入力され、512次元の形で出力される\n",
        "model.add(Dense(512, input_shape=(784,)))\n",
        "# 活性化関数をrelu関数に指定\n",
        "model.add(Activation('relu'))\n",
        "# Dropout（データを間引いて過学習を防ぐ）\n",
        "model.add(Dropout(0.2)) # 20％の結果値を0にリセット"
      ],
      "metadata": {
        "id": "Hw8X8hFeBpFK"
      },
      "execution_count": 8,
      "outputs": []
    },
    {
      "cell_type": "markdown",
      "source": [
        "## 2層目を追加する"
      ],
      "metadata": {
        "id": "MAYZry-OBukO"
      }
    },
    {
      "cell_type": "code",
      "source": [
        "# ニューロンの層の追加\n",
        "model.add(Dense(512))   # 512の次元で出カされる\n",
        "# 活性化関数をreluに指定\n",
        "model.add(Activation('relu'))\n",
        "# Dropout（データを間引いて過学習を防ぐ）\n",
        "model.add(Dropout(0.2)) # 20％の結果値を0にリセット"
      ],
      "metadata": {
        "id": "0Wy9Iqw5BrWo"
      },
      "execution_count": 9,
      "outputs": []
    },
    {
      "cell_type": "markdown",
      "source": [
        "## 学習モデルに3層目（最後の層）を追加する"
      ],
      "metadata": {
        "id": "rUvjXHGvEBIT"
      }
    },
    {
      "cell_type": "code",
      "source": [
        "# ニューロンの3層目（出力層）の追加\n",
        "# 最後は10個に分類\n",
        "model.add(Dense(num_classes))\n",
        "# 最後だけ活性化関数はsoftmaxを指定する\n",
        "# 複数の出力値の合計が「1.0」= 100%になるような値を返してくれるから\n",
        "model.add(Activation('softmax'))\n"
      ],
      "metadata": {
        "id": "nX5LX0xnB10e"
      },
      "execution_count": 10,
      "outputs": []
    },
    {
      "cell_type": "markdown",
      "source": [
        "## 組み立てた学習モデルの要約（サマリ・概要）を表示"
      ],
      "metadata": {
        "id": "oyZwy8-2GnE-"
      }
    },
    {
      "cell_type": "code",
      "source": [
        "# 学習モデルのサマリ\n",
        "model.summary()"
      ],
      "metadata": {
        "colab": {
          "base_uri": "https://localhost:8080/"
        },
        "id": "N-G9Rq0pEh_o",
        "outputId": "776f69f9-0b9d-473d-c799-c43a0c430095"
      },
      "execution_count": 11,
      "outputs": [
        {
          "output_type": "stream",
          "name": "stdout",
          "text": [
            "Model: \"sequential\"\n",
            "_________________________________________________________________\n",
            " Layer (type)                Output Shape              Param #   \n",
            "=================================================================\n",
            " dense (Dense)               (None, 512)               401920    \n",
            "                                                                 \n",
            " activation (Activation)     (None, 512)               0         \n",
            "                                                                 \n",
            " dropout (Dropout)           (None, 512)               0         \n",
            "                                                                 \n",
            " dense_1 (Dense)             (None, 512)               262656    \n",
            "                                                                 \n",
            " activation_1 (Activation)   (None, 512)               0         \n",
            "                                                                 \n",
            " dropout_1 (Dropout)         (None, 512)               0         \n",
            "                                                                 \n",
            " dense_2 (Dense)             (None, 10)                5130      \n",
            "                                                                 \n",
            " activation_2 (Activation)   (None, 10)                0         \n",
            "                                                                 \n",
            "=================================================================\n",
            "Total params: 669,706\n",
            "Trainable params: 669,706\n",
            "Non-trainable params: 0\n",
            "_________________________________________________________________\n"
          ]
        }
      ]
    },
    {
      "cell_type": "markdown",
      "source": [
        "## 学習モデルが動く形になるようにコンパイルする"
      ],
      "metadata": {
        "id": "zIBn4JJW1QCB"
      }
    },
    {
      "cell_type": "code",
      "source": [
        "# モデルをコンパイル\n",
        "model.compile(\n",
        "    loss='categorical_crossentropy',   # 損失の基準（交差エントロピー誤差）\n",
        "    optimizer=RMSprop(),\n",
        "    metrics=['accuracy']  # accuracy＝精度\n",
        ")"
      ],
      "metadata": {
        "id": "wq8P_hx9Gw_y"
      },
      "execution_count": 12,
      "outputs": []
    },
    {
      "cell_type": "markdown",
      "source": [
        "## 学習モデルに学習させる"
      ],
      "metadata": {
        "id": "njiCwtjf2qo0"
      }
    },
    {
      "cell_type": "code",
      "source": [
        "# コールバック処理の準備\n",
        "# 学習が進んで損失がそれ以上下がらなければ早期終了する\n",
        "# patience=2 は2回学習分だけ、終了まで様子を見る\n",
        "es = EarlyStopping(monitor='val_loss', patience=2)\n",
        "# ログ出力\n",
        "csv_logger = CSVLogger('training.log')\n",
        "# 学習モデルに学習させる\n",
        "# 正解データにフィットするように重みを調整する\n",
        "hist = model.fit(\n",
        "    x_train,  # 学習用画像データ:問題\n",
        "    y_train,  # 学習用画像データ:正解\n",
        "    batch_size = batch_size, # バッチサイズ\n",
        "    epochs = epochs,  # エポック数（学習回数）\n",
        "    verbose = 1,   # 進行状況を表示\n",
        "    validation_split = 0.1,   # validationデータ（学習中の検証データ）の割合(10%は学習に使わず、検証チェックに使う)\n",
        "    callbacks=[es,csv_logger] # コールバック処理\n",
        ")"
      ],
      "metadata": {
        "colab": {
          "base_uri": "https://localhost:8080/"
        },
        "id": "tGFSI5Jk14CH",
        "outputId": "e1359783-72b1-4ec4-f424-57c0d7ae3743"
      },
      "execution_count": 13,
      "outputs": [
        {
          "output_type": "stream",
          "name": "stdout",
          "text": [
            "Epoch 1/20\n",
            "422/422 [==============================] - 17s 37ms/step - loss: 0.2628 - accuracy: 0.9195 - val_loss: 0.0958 - val_accuracy: 0.9720\n",
            "Epoch 2/20\n",
            "422/422 [==============================] - 8s 19ms/step - loss: 0.1098 - accuracy: 0.9666 - val_loss: 0.0742 - val_accuracy: 0.9768\n",
            "Epoch 3/20\n",
            "422/422 [==============================] - 8s 20ms/step - loss: 0.0774 - accuracy: 0.9769 - val_loss: 0.0696 - val_accuracy: 0.9793\n",
            "Epoch 4/20\n",
            "422/422 [==============================] - 8s 19ms/step - loss: 0.0606 - accuracy: 0.9818 - val_loss: 0.0765 - val_accuracy: 0.9802\n",
            "Epoch 5/20\n",
            "422/422 [==============================] - 8s 19ms/step - loss: 0.0521 - accuracy: 0.9842 - val_loss: 0.0679 - val_accuracy: 0.9828\n",
            "Epoch 6/20\n",
            "422/422 [==============================] - 13s 30ms/step - loss: 0.0428 - accuracy: 0.9869 - val_loss: 0.0706 - val_accuracy: 0.9848\n",
            "Epoch 7/20\n",
            "422/422 [==============================] - 12s 29ms/step - loss: 0.0387 - accuracy: 0.9883 - val_loss: 0.0809 - val_accuracy: 0.9835\n"
          ]
        }
      ]
    },
    {
      "cell_type": "markdown",
      "source": [
        "## 学習済みのモデルを使って、学習結果をテスト検証する"
      ],
      "metadata": {
        "id": "BR0gDVed_25L"
      }
    },
    {
      "cell_type": "code",
      "source": [
        "# evaluateメソッドで検証する\n",
        "score = model.evaluate(x_test,y_test,verbose=0) # 検証結果を変数に代入\n",
        "print('test loss:', score[0])  # 損失（誤り値）を表示\n",
        "print('test acc:', score[1]) # 精度（正解率）を表示"
      ],
      "metadata": {
        "id": "ToCtrC7Q4I5z",
        "colab": {
          "base_uri": "https://localhost:8080/"
        },
        "outputId": "4ed3c41a-13bd-42d8-a069-faa3fb46a2cd"
      },
      "execution_count": 14,
      "outputs": [
        {
          "output_type": "stream",
          "name": "stdout",
          "text": [
            "test loss: 0.07365827262401581\n",
            "test acc: 0.9821000099182129\n"
          ]
        }
      ]
    },
    {
      "cell_type": "markdown",
      "source": [
        "## 学習履歴をグラフ表示する"
      ],
      "metadata": {
        "id": "k8PGKk5FBIrT"
      }
    },
    {
      "cell_type": "code",
      "source": [
        "loss = hist.history['loss']\n",
        "val_loss = hist.history['val_loss']\n",
        "\n",
        "epochs = len(loss)\n",
        "plt.plot(range(epochs), loss, marker='.', label='loss(training_data')\n",
        "plt.plot(range(epochs), val_loss, marker='.', label='val_loss(evaluation_data')\n",
        "plt.legend(loc='best')\n",
        "plt.grid()\n",
        "plt.xlabel('epoch')\n",
        "plt.ylabel('loss')\n",
        "plt.show()"
      ],
      "metadata": {
        "id": "URzbfFY_BLSo",
        "colab": {
          "base_uri": "https://localhost:8080/",
          "height": 279
        },
        "outputId": "a0eeee47-692e-4f01-8419-d8a99d8990b9"
      },
      "execution_count": 16,
      "outputs": [
        {
          "output_type": "display_data",
          "data": {
            "text/plain": [
              "<Figure size 432x288 with 1 Axes>"
            ],
            "image/png": "[encoded data removed]"
          },
          "metadata": {
            "needs_background": "light"
          }
        }
      ]
    }
  ]
}