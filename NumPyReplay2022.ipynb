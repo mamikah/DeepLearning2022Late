{
  "nbformat": 4,
  "nbformat_minor": 0,
  "metadata": {
    "colab": {
      "provenance": [],
      "collapsed_sections": [],
      "authorship_tag": "ABX9TyOCt3a56uf72BsnvaVZsR6l",
      "include_colab_link": true
    },
    "kernelspec": {
      "name": "python3",
      "display_name": "Python 3"
    },
    "language_info": {
      "name": "python"
    }
  },
  "cells": [
    {
      "cell_type": "markdown",
      "metadata": {
        "id": "view-in-github",
        "colab_type": "text"
      },
      "source": [
        "<a href=\"https://colab.research.google.com/github/mamikah/DeepLearning2022Late/blob/main/NumPyReplay2022.ipynb\" target=\"_parent\"><img src=\"https://colab.research.google.com/assets/colab-badge.svg\" alt=\"Open In Colab\"/></a>"
      ]
    },
    {
      "cell_type": "markdown",
      "source": [
        "# NumPyを使用する"
      ],
      "metadata": {
        "id": "VJeUD2JPhHWk"
      }
    },
    {
      "cell_type": "code",
      "execution_count": 1,
      "metadata": {
        "id": "NUeikDSLhBl_"
      },
      "outputs": [],
      "source": [
        "import numpy as np"
      ]
    },
    {
      "cell_type": "markdown",
      "source": [
        "# 配列（アレイ）を作る"
      ],
      "metadata": {
        "id": "qUjtzzmVhQ3A"
      }
    },
    {
      "cell_type": "code",
      "source": [
        "x = np.array([1.0,2.0,3.0,4.0,5.0])\n",
        "print(x)\n",
        "# arrayはPythonのリストを渡すことでNumpy用の配列（numpy.ndarray）を生成します。\n",
        "\n",
        "x = np.array([1,2,3])\n",
        "print(x) # [1 2 3]\n",
        "print(type(x)) # <class 'numpy.ndarray'>\n",
        "\n",
        "my_list1 = [1,2,3,4,5]\n",
        "my_array1 = np.array(my_list1) # numpyのarrayを作る\n",
        "\n",
        "my_list2 = [10,20,30,40,50]\n",
        "my_lists = [my_list1,my_list2] # リストのリストを作る\n",
        "my_lists # [[1,2,3,4,5],[10,20,30,40,50]]\n",
        "\n",
        "# my_listsを使ってNumPyのアレイを使う。（多次元配列を作る）\n",
        "my_array2 = np.array(my_lists)\n",
        "\n",
        "my_array2 # 2行5列の配列ができる。\n",
        "\"\"\"\n",
        "array([[ 1,  2,  3,  4,  5],\n",
        "       [10, 20, 30, 40, 50]])\n",
        "\"\"\"\n",
        "\n",
        "# 次のように、タプルを複数渡すとエラーになってしまいます。\n",
        "# np.array((1,2,3),(4,5,6))\n",
        "\n",
        "\"\"\"\n",
        "Traceback (most recent call last):\n",
        "  File \"<stdin>\", line 1, in <module>\n",
        "TypeError: data type not understood\n",
        "\"\"\""
      ],
      "metadata": {
        "colab": {
          "base_uri": "https://localhost:8080/",
          "height": 89
        },
        "id": "-hSpcdG6hMej",
        "outputId": "2284cbaf-934e-4769-9fe4-384e5a6cc5d4"
      },
      "execution_count": 6,
      "outputs": [
        {
          "output_type": "stream",
          "name": "stdout",
          "text": [
            "[1. 2. 3. 4. 5.]\n",
            "[1 2 3]\n",
            "<class 'numpy.ndarray'>\n"
          ]
        },
        {
          "output_type": "execute_result",
          "data": {
            "text/plain": [
              "'\\nTraceback (most recent call last):\\n  File \"<stdin>\", line 1, in <module>\\nTypeError: data type not understood\\n'"
            ],
            "application/vnd.google.colaboratory.intrinsic+json": {
              "type": "string"
            }
          },
          "metadata": {},
          "execution_count": 6
        }
      ]
    },
    {
      "cell_type": "markdown",
      "source": [
        "# NumPy配列の形状を調べる"
      ],
      "metadata": {
        "id": "bpnzXoIQj5K6"
      }
    },
    {
      "cell_type": "code",
      "source": [
        "import numpy as np\n",
        "a = np.array([1, 2, 3, 4])\n",
        "a.shape # (4,)が出力される。これは1次元配列でかつ、4つ要素があることを意味します。\n",
        "\n",
        "b = np.array([[1, 2],[3,4]])\n",
        "b.shape # (2, 2) これは行列で、2行2列を意味しています。"
      ],
      "metadata": {
        "colab": {
          "base_uri": "https://localhost:8080/"
        },
        "id": "80XN2iUHhnV5",
        "outputId": "1b9c3eb2-8eee-48e9-eb6c-f8ebfc023d54"
      },
      "execution_count": 3,
      "outputs": [
        {
          "output_type": "execute_result",
          "data": {
            "text/plain": [
              "(2, 2)"
            ]
          },
          "metadata": {},
          "execution_count": 3
        }
      ]
    },
    {
      "cell_type": "code",
      "source": [
        "# データの準備\n",
        "# 等間隔の数字\n",
        "# 0から9までの数字(配列)を生成\n",
        "x = np.arange(10)\n",
        "print(x)\n",
        "\n",
        "# reshape()は配列を形状に変換します\n",
        "x = np.arange(1, 10).reshape(3,3) # 3×3の多次元配列に変換\n",
        "y = np.arange(1, 10).reshape(3,3) # 3×3の多次元配列に変換\n",
        "\"\"\"\n",
        "xを下記のように書き換えることも可能\n",
        "x = np.reshape(x, (3,3))\n",
        "\"\"\"\n",
        "print(x)\n",
        "print(y)\n",
        "\n",
        "print(x + y)\n",
        "print(x - y)\n",
        "print(x * y)"
      ],
      "metadata": {
        "colab": {
          "base_uri": "https://localhost:8080/"
        },
        "id": "r09PpdZVkF-O",
        "outputId": "729abd19-9530-48ca-ae81-de321de997e5"
      },
      "execution_count": 7,
      "outputs": [
        {
          "output_type": "stream",
          "name": "stdout",
          "text": [
            "[0 1 2 3 4 5 6 7 8 9]\n",
            "[[1 2 3]\n",
            " [4 5 6]\n",
            " [7 8 9]]\n",
            "[[1 2 3]\n",
            " [4 5 6]\n",
            " [7 8 9]]\n",
            "[[ 2  4  6]\n",
            " [ 8 10 12]\n",
            " [14 16 18]]\n",
            "[[0 0 0]\n",
            " [0 0 0]\n",
            " [0 0 0]]\n",
            "[[ 1  4  9]\n",
            " [16 25 36]\n",
            " [49 64 81]]\n"
          ]
        }
      ]
    },
    {
      "cell_type": "markdown",
      "source": [
        "# 配列操作"
      ],
      "metadata": {
        "id": "JwZXxIphkXZF"
      }
    },
    {
      "cell_type": "code",
      "source": [
        "import numpy as np\n",
        "sample_array = np.arange(10)\n",
        "print(sample_array)\n",
        "\n",
        "# reshapeを使って配列の形状を指定\n",
        "sample_array2 = sample_array.reshape(2,5)\n",
        "print(sample_array2) #array(([0,1,2,3,4],[5,6,7,8,9]])\n",
        "\n",
        "# concatenateを使って、データの結合する(axisで行方向か、縦方向を指定可能)\n",
        "sample_array3 = np.array([[1,2,3],[4,5,6]])\n",
        "sample_array4 = np.array([[7,8,9],[10,11,12]])\n",
        "\n",
        "# 行方向に結合 ([[1,2,3,7,8,9],4,5,6,10,11,12]])\n",
        "print(np.concatenate([sample_array3,sample_array4],axis=1))\n",
        "\n",
        "# hstackでも行方向の結合が可能\n",
        "print(np.hstack((sample_array3,sample_array4)))\n",
        "\n",
        "\n",
        "\n",
        "\"\"\"\n",
        "axis=0で列方向\n",
        "axis=1で行方向です。\n",
        "下記URLを参考ください。\n",
        "https://qiita.com/shuetsu@github/items/2bf8bba233c5ecc7a0ad\n",
        "\"\"\"\n",
        "\n",
        "# axisに0を設定しているので、列方向 ([[1,2,3],[4,5,6],[7,8,9],[10,11,12]])\n",
        "print(np.concatenate([sample_array3,sample_array4],axis=0))\n",
        "\n",
        "# vstackで列方向の結合が可能\n",
        "print(np.vstack((sample_array3,sample_array4)))"
      ],
      "metadata": {
        "colab": {
          "base_uri": "https://localhost:8080/"
        },
        "id": "LLjgdz2LkS0c",
        "outputId": "ce918af8-8e1c-4f04-f3e9-57dcfefed01a"
      },
      "execution_count": 8,
      "outputs": [
        {
          "output_type": "stream",
          "name": "stdout",
          "text": [
            "[0 1 2 3 4 5 6 7 8 9]\n",
            "[[0 1 2 3 4]\n",
            " [5 6 7 8 9]]\n",
            "[[ 1  2  3  7  8  9]\n",
            " [ 4  5  6 10 11 12]]\n",
            "[[ 1  2  3  7  8  9]\n",
            " [ 4  5  6 10 11 12]]\n",
            "[[ 1  2  3]\n",
            " [ 4  5  6]\n",
            " [ 7  8  9]\n",
            " [10 11 12]]\n",
            "[[ 1  2  3]\n",
            " [ 4  5  6]\n",
            " [ 7  8  9]\n",
            " [10 11 12]]\n"
          ]
        }
      ]
    },
    {
      "cell_type": "markdown",
      "source": [
        "# ブロードキャスト"
      ],
      "metadata": {
        "id": "sp8DXFaEkaZ_"
      }
    },
    {
      "cell_type": "code",
      "source": [
        "import numpy as np\n",
        "# データの準備\n",
        "sample_array = np.arange(10)\n",
        "print(sample_array)\n",
        "\n",
        "# 上記の配列に「5」を足す計算\n",
        "# 要素をコピーして大きさを揃えて、配列の全ての要素に5を加算\n",
        "print(sample_array + 5)"
      ],
      "metadata": {
        "colab": {
          "base_uri": "https://localhost:8080/"
        },
        "id": "r1Cxb0tZkWRF",
        "outputId": "0b022a4b-5718-4067-fc86-e9d017cbd5d8"
      },
      "execution_count": 9,
      "outputs": [
        {
          "output_type": "stream",
          "name": "stdout",
          "text": [
            "[0 1 2 3 4 5 6 7 8 9]\n",
            "[ 5  6  7  8  9 10 11 12 13 14]\n"
          ]
        }
      ]
    },
    {
      "cell_type": "markdown",
      "source": [
        "# 多次元配列の計算"
      ],
      "metadata": {
        "id": "icACGyMLkgNo"
      }
    },
    {
      "cell_type": "code",
      "source": [
        "n1 = np.array([1,2,3,4,5])\n",
        "print(n1) # [1 2 3 4 5]\n",
        "\n",
        "# 配列の次元数は np.ndim() 関数で取得可能\n",
        "np.ndim(n1) # 1 -> 1次元\n",
        "\n",
        "# 配列の形状取得にはshapeを使う。タプルでかえってくる\n",
        "n1.shape # (5,) # 変数n1の形状を取得\n",
        "\n",
        "\"\"\"\n",
        "2次元配列 (5,3)\n",
        "\n",
        "3次元配列 (5,5,4)\n",
        "\n",
        "1次元でも2次元でも、同様にタプルで結果が返される。\n",
        "\"\"\"\n",
        "\n",
        "# 3行2列の配列（2次元の配列）を作成\n",
        "\n",
        "\"\"\"\n",
        "2次元配列は行列のことを意味します。\n",
        "3 × 2 の配列は、最初の次元に3つ要素があり、\n",
        "次の次元に2つの要素があるという意味。\n",
        "\n",
        "行(row) 配列の横方向\n",
        "列(column) 配列の縦方向\n",
        "\"\"\"\n",
        "\n",
        "n2 = np.array([[1,2], [3,4], [5,6]])\n",
        "print(n2)\n",
        "\n",
        "\"\"\"\n",
        "[[1 2]\n",
        " [3 4]\n",
        " [5 6]]\n",
        "\"\"\"\n",
        "print(n2.ndim) # 2"
      ],
      "metadata": {
        "colab": {
          "base_uri": "https://localhost:8080/"
        },
        "id": "NDI_tbYJke46",
        "outputId": "6023dab0-ddba-4e67-f4f9-a8fb5bc4bfe8"
      },
      "execution_count": 10,
      "outputs": [
        {
          "output_type": "stream",
          "name": "stdout",
          "text": [
            "[1 2 3 4 5]\n",
            "[[1 2]\n",
            " [3 4]\n",
            " [5 6]]\n",
            "2\n"
          ]
        }
      ]
    },
    {
      "cell_type": "markdown",
      "source": [
        "# 行列とは"
      ],
      "metadata": {
        "id": "w9ykkcK7k3Js"
      }
    },
    {
      "cell_type": "code",
      "source": [
        "my_li1 = [-1,4]\n",
        "\n",
        "my_li2 = [3,2]\n",
        "\n",
        "my_li3 = [2,5]\n",
        "\n",
        "my_li4 = [0,1]\n",
        "\n",
        "my_lists = [my_li1,my_li2,my_li3,my_li4]\n",
        "\n",
        "my_array3 = np.array(my_lists)\n",
        "\n",
        "my_array3\n",
        "\"\"\"\n",
        "array([[-1,  4],\n",
        "       [ 3,  2],\n",
        "       [ 2,  5],\n",
        "       [ 0,  1]])\n",
        "\"\"\""
      ],
      "metadata": {
        "colab": {
          "base_uri": "https://localhost:8080/",
          "height": 36
        },
        "id": "QYpkzuNFklf8",
        "outputId": "a0585fa2-e161-4911-de78-602d3cd7a1a1"
      },
      "execution_count": 11,
      "outputs": [
        {
          "output_type": "execute_result",
          "data": {
            "text/plain": [
              "'\\narray([[-1,  4],\\n       [ 3,  2],\\n       [ 2,  5],\\n       [ 0,  1]])\\n'"
            ],
            "application/vnd.google.colaboratory.intrinsic+json": {
              "type": "string"
            }
          },
          "metadata": {},
          "execution_count": 11
        }
      ]
    }
  ]
}