{
  "nbformat": 4,
  "nbformat_minor": 0,
  "metadata": {
    "colab": {
      "provenance": [],
      "authorship_tag": "ABX9TyMBq7oJawdaA/DkVXPXOKxl",
      "include_colab_link": true
    },
    "kernelspec": {
      "name": "python3",
      "display_name": "Python 3"
    },
    "language_info": {
      "name": "python"
    }
  },
  "cells": [
    {
      "cell_type": "markdown",
      "metadata": {
        "id": "view-in-github",
        "colab_type": "text"
      },
      "source": [
        "<a href=\"https://colab.research.google.com/github/mamikah/DeepLearning2022Late/blob/main/RNN%2BPlots_LSTM.ipynb\" target=\"_parent\"><img src=\"https://colab.research.google.com/assets/colab-badge.svg\" alt=\"Open In Colab\"/></a>"
      ]
    },
    {
      "cell_type": "markdown",
      "source": [
        "# LSTMを使ったRNNの実装"
      ],
      "metadata": {
        "id": "wNBXkn1mlfdv"
      }
    },
    {
      "cell_type": "code",
      "execution_count": 1,
      "metadata": {
        "id": "FWhlO611kYhg"
      },
      "outputs": [],
      "source": [
        "# LSTMのライブラリ、その他をimport\n",
        "from keras.models import Model\n",
        "from keras.layers import Input,LSTM"
      ]
    },
    {
      "cell_type": "code",
      "source": [
        "# SVG表示用のライブラリをimport\n",
        "from IPython.display import SVG\n",
        "from keras.utils.vis_utils import model_to_dot"
      ],
      "metadata": {
        "id": "vx8loMlTkmZ-"
      },
      "execution_count": 7,
      "outputs": []
    },
    {
      "cell_type": "code",
      "source": [
        "# 出力ユニット数、入力のステップ数、入力次元数、inputの形状を定義\n",
        "units = 10\n",
        "time_steps = 5\n",
        "input_dim = 15\n",
        "input_shape = (time_steps,input_dim)"
      ],
      "metadata": {
        "id": "Vh8Oda6LlCb6"
      },
      "execution_count": 8,
      "outputs": []
    },
    {
      "cell_type": "code",
      "source": [
        "# LSTMのRNN学習モデルを定義して形を表示\n",
        "x = Input(shape=input_shape,name='Input') # 入力層\n",
        "y = LSTM(units=units,activation='sigmoid',name='LSTM_1')(x)\n",
        "model = Model(inputs=[x],outputs=[y])"
      ],
      "metadata": {
        "id": "PKzZSsoYll7d"
      },
      "execution_count": 9,
      "outputs": []
    },
    {
      "cell_type": "code",
      "source": [
        "# SVG形式でモデルを表示する\n",
        "SVG(model_to_dot(model,show_shapes=True,dpi=None).create(prog='dot',format='svg'))"
      ],
      "metadata": {
        "colab": {
          "base_uri": "https://localhost:8080/",
          "height": 206
        },
        "id": "8nwFDBbbmQ7S",
        "outputId": "4879bc05-dc93-4d31-8bee-cd6070525b72"
      },
      "execution_count": 10,
      "outputs": [
        {
          "output_type": "execute_result",
          "data": {
            "text/plain": [
              "<IPython.core.display.SVG object>"
            ],
            "image/svg+xml": "<svg xmlns=\"http://www.w3.org/2000/svg\" xmlns:xlink=\"http://www.w3.org/1999/xlink\" width=\"322pt\" height=\"138pt\" viewBox=\"0.00 0.00 322.00 138.00\">\n<g id=\"graph0\" class=\"graph\" transform=\"scale(1 1) rotate(0) translate(4 134)\">\n<title>G</title>\n<polygon fill=\"#ffffff\" stroke=\"transparent\" points=\"-4,4 -4,-134 318,-134 318,4 -4,4\"/>\n<!-- dpi -->\n<g id=\"node1\" class=\"node\">\n<title>dpi</title>\n<ellipse fill=\"none\" stroke=\"#000000\" cx=\"27\" cy=\"-106.5\" rx=\"27\" ry=\"18\"/>\n<text text-anchor=\"middle\" x=\"27\" y=\"-102.8\" font-family=\"Times,serif\" font-size=\"14.00\" fill=\"#000000\">dpi</text>\n</g>\n<!-- 140468580317552 -->\n<g id=\"node2\" class=\"node\">\n<title>140468580317552</title>\n<polygon fill=\"none\" stroke=\"#000000\" points=\"72,-83.5 72,-129.5 314,-129.5 314,-83.5 72,-83.5\"/>\n<text text-anchor=\"middle\" x=\"112\" y=\"-114.3\" font-family=\"Times,serif\" font-size=\"14.00\" fill=\"#000000\">Input</text>\n<polyline fill=\"none\" stroke=\"#000000\" points=\"72,-106.5 152,-106.5 \"/>\n<text text-anchor=\"middle\" x=\"112\" y=\"-91.3\" font-family=\"Times,serif\" font-size=\"14.00\" fill=\"#000000\">InputLayer</text>\n<polyline fill=\"none\" stroke=\"#000000\" points=\"152,-83.5 152,-129.5 \"/>\n<text text-anchor=\"middle\" x=\"181\" y=\"-114.3\" font-family=\"Times,serif\" font-size=\"14.00\" fill=\"#000000\">input:</text>\n<polyline fill=\"none\" stroke=\"#000000\" points=\"152,-106.5 210,-106.5 \"/>\n<text text-anchor=\"middle\" x=\"181\" y=\"-91.3\" font-family=\"Times,serif\" font-size=\"14.00\" fill=\"#000000\">output:</text>\n<polyline fill=\"none\" stroke=\"#000000\" points=\"210,-83.5 210,-129.5 \"/>\n<text text-anchor=\"middle\" x=\"262\" y=\"-114.3\" font-family=\"Times,serif\" font-size=\"14.00\" fill=\"#000000\">[(None, 5, 15)]</text>\n<polyline fill=\"none\" stroke=\"#000000\" points=\"210,-106.5 314,-106.5 \"/>\n<text text-anchor=\"middle\" x=\"262\" y=\"-91.3\" font-family=\"Times,serif\" font-size=\"14.00\" fill=\"#000000\">[(None, 5, 15)]</text>\n</g>\n<!-- 140468580317168 -->\n<g id=\"node3\" class=\"node\">\n<title>140468580317168</title>\n<polygon fill=\"none\" stroke=\"#000000\" points=\"81,-.5 81,-46.5 305,-46.5 305,-.5 81,-.5\"/>\n<text text-anchor=\"middle\" x=\"116.5\" y=\"-31.3\" font-family=\"Times,serif\" font-size=\"14.00\" fill=\"#000000\">LSTM_1</text>\n<polyline fill=\"none\" stroke=\"#000000\" points=\"81,-23.5 152,-23.5 \"/>\n<text text-anchor=\"middle\" x=\"116.5\" y=\"-8.3\" font-family=\"Times,serif\" font-size=\"14.00\" fill=\"#000000\">LSTM</text>\n<polyline fill=\"none\" stroke=\"#000000\" points=\"152,-.5 152,-46.5 \"/>\n<text text-anchor=\"middle\" x=\"181\" y=\"-31.3\" font-family=\"Times,serif\" font-size=\"14.00\" fill=\"#000000\">input:</text>\n<polyline fill=\"none\" stroke=\"#000000\" points=\"152,-23.5 210,-23.5 \"/>\n<text text-anchor=\"middle\" x=\"181\" y=\"-8.3\" font-family=\"Times,serif\" font-size=\"14.00\" fill=\"#000000\">output:</text>\n<polyline fill=\"none\" stroke=\"#000000\" points=\"210,-.5 210,-46.5 \"/>\n<text text-anchor=\"middle\" x=\"257.5\" y=\"-31.3\" font-family=\"Times,serif\" font-size=\"14.00\" fill=\"#000000\">(None, 5, 15)</text>\n<polyline fill=\"none\" stroke=\"#000000\" points=\"210,-23.5 305,-23.5 \"/>\n<text text-anchor=\"middle\" x=\"257.5\" y=\"-8.3\" font-family=\"Times,serif\" font-size=\"14.00\" fill=\"#000000\">(None, 10)</text>\n</g>\n<!-- 140468580317552&#45;&gt;140468580317168 -->\n<g id=\"edge1\" class=\"edge\">\n<title>140468580317552-&gt;140468580317168</title>\n<path fill=\"none\" stroke=\"#000000\" d=\"M193,-83.3799C193,-75.1745 193,-65.7679 193,-56.8786\"/>\n<polygon fill=\"#000000\" stroke=\"#000000\" points=\"196.5001,-56.784 193,-46.784 189.5001,-56.784 196.5001,-56.784\"/>\n</g>\n</g>\n</svg>"
          },
          "metadata": {},
          "execution_count": 10
        }
      ]
    },
    {
      "cell_type": "markdown",
      "source": [
        "## シーケンスを出力"
      ],
      "metadata": {
        "id": "psu2rswqlBy3"
      }
    },
    {
      "cell_type": "code",
      "source": [
        "# 入力層xは流用\n",
        "y = LSTM(units=units,activation='sigmoid',name='LSTM_2',\n",
        "              return_sequences=True)(x) # 出力層\n",
        "model = Model(inputs=[x],outputs=[y])"
      ],
      "metadata": {
        "id": "zyzrprYcnni2"
      },
      "execution_count": 11,
      "outputs": []
    },
    {
      "cell_type": "code",
      "source": [
        "# SVG形式でモデルを表示する\n",
        "SVG(model_to_dot(model,show_shapes=True,dpi=None).create(prog='dot',format='svg'))"
      ],
      "metadata": {
        "colab": {
          "base_uri": "https://localhost:8080/",
          "height": 206
        },
        "id": "R2HRRJg1oFrF",
        "outputId": "0d134737-5fbf-4192-e447-2f92f04cdfbb"
      },
      "execution_count": 12,
      "outputs": [
        {
          "output_type": "execute_result",
          "data": {
            "text/plain": [
              "<IPython.core.display.SVG object>"
            ],
            "image/svg+xml": "<svg xmlns=\"http://www.w3.org/2000/svg\" xmlns:xlink=\"http://www.w3.org/1999/xlink\" width=\"322pt\" height=\"138pt\" viewBox=\"0.00 0.00 322.00 138.00\">\n<g id=\"graph0\" class=\"graph\" transform=\"scale(1 1) rotate(0) translate(4 134)\">\n<title>G</title>\n<polygon fill=\"#ffffff\" stroke=\"transparent\" points=\"-4,4 -4,-134 318,-134 318,4 -4,4\"/>\n<!-- dpi -->\n<g id=\"node1\" class=\"node\">\n<title>dpi</title>\n<ellipse fill=\"none\" stroke=\"#000000\" cx=\"27\" cy=\"-106.5\" rx=\"27\" ry=\"18\"/>\n<text text-anchor=\"middle\" x=\"27\" y=\"-102.8\" font-family=\"Times,serif\" font-size=\"14.00\" fill=\"#000000\">dpi</text>\n</g>\n<!-- 140468580317552 -->\n<g id=\"node2\" class=\"node\">\n<title>140468580317552</title>\n<polygon fill=\"none\" stroke=\"#000000\" points=\"72,-83.5 72,-129.5 314,-129.5 314,-83.5 72,-83.5\"/>\n<text text-anchor=\"middle\" x=\"112\" y=\"-114.3\" font-family=\"Times,serif\" font-size=\"14.00\" fill=\"#000000\">Input</text>\n<polyline fill=\"none\" stroke=\"#000000\" points=\"72,-106.5 152,-106.5 \"/>\n<text text-anchor=\"middle\" x=\"112\" y=\"-91.3\" font-family=\"Times,serif\" font-size=\"14.00\" fill=\"#000000\">InputLayer</text>\n<polyline fill=\"none\" stroke=\"#000000\" points=\"152,-83.5 152,-129.5 \"/>\n<text text-anchor=\"middle\" x=\"181\" y=\"-114.3\" font-family=\"Times,serif\" font-size=\"14.00\" fill=\"#000000\">input:</text>\n<polyline fill=\"none\" stroke=\"#000000\" points=\"152,-106.5 210,-106.5 \"/>\n<text text-anchor=\"middle\" x=\"181\" y=\"-91.3\" font-family=\"Times,serif\" font-size=\"14.00\" fill=\"#000000\">output:</text>\n<polyline fill=\"none\" stroke=\"#000000\" points=\"210,-83.5 210,-129.5 \"/>\n<text text-anchor=\"middle\" x=\"262\" y=\"-114.3\" font-family=\"Times,serif\" font-size=\"14.00\" fill=\"#000000\">[(None, 5, 15)]</text>\n<polyline fill=\"none\" stroke=\"#000000\" points=\"210,-106.5 314,-106.5 \"/>\n<text text-anchor=\"middle\" x=\"262\" y=\"-91.3\" font-family=\"Times,serif\" font-size=\"14.00\" fill=\"#000000\">[(None, 5, 15)]</text>\n</g>\n<!-- 140468505512016 -->\n<g id=\"node3\" class=\"node\">\n<title>140468505512016</title>\n<polygon fill=\"none\" stroke=\"#000000\" points=\"81,-.5 81,-46.5 305,-46.5 305,-.5 81,-.5\"/>\n<text text-anchor=\"middle\" x=\"116.5\" y=\"-31.3\" font-family=\"Times,serif\" font-size=\"14.00\" fill=\"#000000\">LSTM_2</text>\n<polyline fill=\"none\" stroke=\"#000000\" points=\"81,-23.5 152,-23.5 \"/>\n<text text-anchor=\"middle\" x=\"116.5\" y=\"-8.3\" font-family=\"Times,serif\" font-size=\"14.00\" fill=\"#000000\">LSTM</text>\n<polyline fill=\"none\" stroke=\"#000000\" points=\"152,-.5 152,-46.5 \"/>\n<text text-anchor=\"middle\" x=\"181\" y=\"-31.3\" font-family=\"Times,serif\" font-size=\"14.00\" fill=\"#000000\">input:</text>\n<polyline fill=\"none\" stroke=\"#000000\" points=\"152,-23.5 210,-23.5 \"/>\n<text text-anchor=\"middle\" x=\"181\" y=\"-8.3\" font-family=\"Times,serif\" font-size=\"14.00\" fill=\"#000000\">output:</text>\n<polyline fill=\"none\" stroke=\"#000000\" points=\"210,-.5 210,-46.5 \"/>\n<text text-anchor=\"middle\" x=\"257.5\" y=\"-31.3\" font-family=\"Times,serif\" font-size=\"14.00\" fill=\"#000000\">(None, 5, 15)</text>\n<polyline fill=\"none\" stroke=\"#000000\" points=\"210,-23.5 305,-23.5 \"/>\n<text text-anchor=\"middle\" x=\"257.5\" y=\"-8.3\" font-family=\"Times,serif\" font-size=\"14.00\" fill=\"#000000\">(None, 5, 10)</text>\n</g>\n<!-- 140468580317552&#45;&gt;140468505512016 -->\n<g id=\"edge1\" class=\"edge\">\n<title>140468580317552-&gt;140468505512016</title>\n<path fill=\"none\" stroke=\"#000000\" d=\"M193,-83.3799C193,-75.1745 193,-65.7679 193,-56.8786\"/>\n<polygon fill=\"#000000\" stroke=\"#000000\" points=\"196.5001,-56.784 193,-46.784 189.5001,-56.784 196.5001,-56.784\"/>\n</g>\n</g>\n</svg>"
          },
          "metadata": {},
          "execution_count": 12
        }
      ]
    },
    {
      "cell_type": "markdown",
      "source": [
        "## 内部処理を出力"
      ],
      "metadata": {
        "id": "vyBZUy9hk9dv"
      }
    },
    {
      "cell_type": "code",
      "source": [
        "y = LSTM(units=units,activation='sigmoid',name='LSTM_3',\n",
        "         return_state=True)(x) # 出力層)(x)\n",
        "model = Model(inputs=[x],outputs=[y])"
      ],
      "metadata": {
        "id": "kxVJujZok9Dk"
      },
      "execution_count": 13,
      "outputs": []
    },
    {
      "cell_type": "code",
      "source": [
        "# SVG形式でモデルを表示する\n",
        "SVG(model_to_dot(model,show_shapes=True,dpi=None).create(prog='dot',format='svg'))"
      ],
      "metadata": {
        "colab": {
          "base_uri": "https://localhost:8080/",
          "height": 206
        },
        "id": "GSlnJB8VojvZ",
        "outputId": "02aec597-5f55-436d-b919-6b59feb7c6b5"
      },
      "execution_count": 14,
      "outputs": [
        {
          "output_type": "execute_result",
          "data": {
            "text/plain": [
              "<IPython.core.display.SVG object>"
            ],
            "image/svg+xml": "<svg xmlns=\"http://www.w3.org/2000/svg\" xmlns:xlink=\"http://www.w3.org/1999/xlink\" width=\"381pt\" height=\"138pt\" viewBox=\"0.00 0.00 380.50 138.00\">\n<g id=\"graph0\" class=\"graph\" transform=\"scale(1 1) rotate(0) translate(4 134)\">\n<title>G</title>\n<polygon fill=\"#ffffff\" stroke=\"transparent\" points=\"-4,4 -4,-134 376.5,-134 376.5,4 -4,4\"/>\n<!-- dpi -->\n<g id=\"node1\" class=\"node\">\n<title>dpi</title>\n<ellipse fill=\"none\" stroke=\"#000000\" cx=\"27\" cy=\"-106.5\" rx=\"27\" ry=\"18\"/>\n<text text-anchor=\"middle\" x=\"27\" y=\"-102.8\" font-family=\"Times,serif\" font-size=\"14.00\" fill=\"#000000\">dpi</text>\n</g>\n<!-- 140468580317552 -->\n<g id=\"node2\" class=\"node\">\n<title>140468580317552</title>\n<polygon fill=\"none\" stroke=\"#000000\" points=\"72,-83.5 72,-129.5 314,-129.5 314,-83.5 72,-83.5\"/>\n<text text-anchor=\"middle\" x=\"112\" y=\"-114.3\" font-family=\"Times,serif\" font-size=\"14.00\" fill=\"#000000\">Input</text>\n<polyline fill=\"none\" stroke=\"#000000\" points=\"72,-106.5 152,-106.5 \"/>\n<text text-anchor=\"middle\" x=\"112\" y=\"-91.3\" font-family=\"Times,serif\" font-size=\"14.00\" fill=\"#000000\">InputLayer</text>\n<polyline fill=\"none\" stroke=\"#000000\" points=\"152,-83.5 152,-129.5 \"/>\n<text text-anchor=\"middle\" x=\"181\" y=\"-114.3\" font-family=\"Times,serif\" font-size=\"14.00\" fill=\"#000000\">input:</text>\n<polyline fill=\"none\" stroke=\"#000000\" points=\"152,-106.5 210,-106.5 \"/>\n<text text-anchor=\"middle\" x=\"181\" y=\"-91.3\" font-family=\"Times,serif\" font-size=\"14.00\" fill=\"#000000\">output:</text>\n<polyline fill=\"none\" stroke=\"#000000\" points=\"210,-83.5 210,-129.5 \"/>\n<text text-anchor=\"middle\" x=\"262\" y=\"-114.3\" font-family=\"Times,serif\" font-size=\"14.00\" fill=\"#000000\">[(None, 5, 15)]</text>\n<polyline fill=\"none\" stroke=\"#000000\" points=\"210,-106.5 314,-106.5 \"/>\n<text text-anchor=\"middle\" x=\"262\" y=\"-91.3\" font-family=\"Times,serif\" font-size=\"14.00\" fill=\"#000000\">[(None, 5, 15)]</text>\n</g>\n<!-- 140468504880176 -->\n<g id=\"node3\" class=\"node\">\n<title>140468504880176</title>\n<polygon fill=\"none\" stroke=\"#000000\" points=\"13.5,-.5 13.5,-46.5 372.5,-46.5 372.5,-.5 13.5,-.5\"/>\n<text text-anchor=\"middle\" x=\"49\" y=\"-31.3\" font-family=\"Times,serif\" font-size=\"14.00\" fill=\"#000000\">LSTM_3</text>\n<polyline fill=\"none\" stroke=\"#000000\" points=\"13.5,-23.5 84.5,-23.5 \"/>\n<text text-anchor=\"middle\" x=\"49\" y=\"-8.3\" font-family=\"Times,serif\" font-size=\"14.00\" fill=\"#000000\">LSTM</text>\n<polyline fill=\"none\" stroke=\"#000000\" points=\"84.5,-.5 84.5,-46.5 \"/>\n<text text-anchor=\"middle\" x=\"113.5\" y=\"-31.3\" font-family=\"Times,serif\" font-size=\"14.00\" fill=\"#000000\">input:</text>\n<polyline fill=\"none\" stroke=\"#000000\" points=\"84.5,-23.5 142.5,-23.5 \"/>\n<text text-anchor=\"middle\" x=\"113.5\" y=\"-8.3\" font-family=\"Times,serif\" font-size=\"14.00\" fill=\"#000000\">output:</text>\n<polyline fill=\"none\" stroke=\"#000000\" points=\"142.5,-.5 142.5,-46.5 \"/>\n<text text-anchor=\"middle\" x=\"257.5\" y=\"-31.3\" font-family=\"Times,serif\" font-size=\"14.00\" fill=\"#000000\">(None, 5, 15)</text>\n<polyline fill=\"none\" stroke=\"#000000\" points=\"142.5,-23.5 372.5,-23.5 \"/>\n<text text-anchor=\"middle\" x=\"257.5\" y=\"-8.3\" font-family=\"Times,serif\" font-size=\"14.00\" fill=\"#000000\">[(None, 10), (None, 10), (None, 10)]</text>\n</g>\n<!-- 140468580317552&#45;&gt;140468504880176 -->\n<g id=\"edge1\" class=\"edge\">\n<title>140468580317552-&gt;140468504880176</title>\n<path fill=\"none\" stroke=\"#000000\" d=\"M193,-83.3799C193,-75.1745 193,-65.7679 193,-56.8786\"/>\n<polygon fill=\"#000000\" stroke=\"#000000\" points=\"196.5001,-56.784 193,-46.784 189.5001,-56.784 196.5001,-56.784\"/>\n</g>\n</g>\n</svg>"
          },
          "metadata": {},
          "execution_count": 14
        }
      ]
    },
    {
      "cell_type": "code",
      "source": [],
      "metadata": {
        "id": "0SCb7x1Vom2R"
      },
      "execution_count": null,
      "outputs": []
    }
  ]
}