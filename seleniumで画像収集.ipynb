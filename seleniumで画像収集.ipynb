{
  "nbformat": 4,
  "nbformat_minor": 0,
  "metadata": {
    "colab": {
      "provenance": [],
      "authorship_tag": "ABX9TyNS8Prniugr2DRIrmPp6q3z",
      "include_colab_link": true
    },
    "kernelspec": {
      "name": "python3",
      "display_name": "Python 3"
    },
    "language_info": {
      "name": "python"
    }
  },
  "cells": [
    {
      "cell_type": "markdown",
      "metadata": {
        "id": "view-in-github",
        "colab_type": "text"
      },
      "source": [
        "<a href=\"https://colab.research.google.com/github/mamikah/DeepLearning2022Late/blob/main/selenium%E3%81%A7%E7%94%BB%E5%83%8F%E5%8F%8E%E9%9B%86.ipynb\" target=\"_parent\"><img src=\"https://colab.research.google.com/assets/colab-badge.svg\" alt=\"Open In Colab\"/></a>"
      ]
    },
    {
      "cell_type": "markdown",
      "source": [
        "# seleniumを使って自動で画像検索し、結果を収集する"
      ],
      "metadata": {
        "id": "38tyGi5LPbe3"
      }
    },
    {
      "cell_type": "markdown",
      "source": [
        "## 必要なアプリのインストール\n",
        "### Seleniumのインストール（バージョンを指定する）"
      ],
      "metadata": {
        "id": "totKo7yAPe9n"
      }
    },
    {
      "cell_type": "code",
      "execution_count": 1,
      "metadata": {
        "colab": {
          "base_uri": "https://localhost:8080/"
        },
        "id": "ec2Lv4B3PTzb",
        "outputId": "3c0436b8-4372-46cf-de01-dac540118a0f"
      },
      "outputs": [
        {
          "output_type": "stream",
          "name": "stdout",
          "text": [
            "Looking in indexes: https://pypi.org/simple, https://us-python.pkg.dev/colab-wheels/public/simple/\n",
            "Collecting selenium==4.1.0\n",
            "  Downloading selenium-4.1.0-py3-none-any.whl (958 kB)\n",
            "\u001b[K     |████████████████████████████████| 958 kB 5.2 MB/s \n",
            "\u001b[?25hCollecting urllib3[secure]~=1.26\n",
            "  Downloading urllib3-1.26.13-py2.py3-none-any.whl (140 kB)\n",
            "\u001b[K     |████████████████████████████████| 140 kB 49.6 MB/s \n",
            "\u001b[?25hCollecting trio-websocket~=0.9\n",
            "  Downloading trio_websocket-0.9.2-py3-none-any.whl (16 kB)\n",
            "Collecting trio~=0.17\n",
            "  Downloading trio-0.22.0-py3-none-any.whl (384 kB)\n",
            "\u001b[K     |████████████████████████████████| 384 kB 60.0 MB/s \n",
            "\u001b[?25hRequirement already satisfied: idna in /usr/local/lib/python3.8/dist-packages (from trio~=0.17->selenium==4.1.0) (2.10)\n",
            "Collecting sniffio\n",
            "  Downloading sniffio-1.3.0-py3-none-any.whl (10 kB)\n",
            "Collecting outcome\n",
            "  Downloading outcome-1.2.0-py2.py3-none-any.whl (9.7 kB)\n",
            "Collecting exceptiongroup>=1.0.0rc9\n",
            "  Downloading exceptiongroup-1.0.4-py3-none-any.whl (14 kB)\n",
            "Requirement already satisfied: attrs>=19.2.0 in /usr/local/lib/python3.8/dist-packages (from trio~=0.17->selenium==4.1.0) (22.1.0)\n",
            "Requirement already satisfied: sortedcontainers in /usr/local/lib/python3.8/dist-packages (from trio~=0.17->selenium==4.1.0) (2.4.0)\n",
            "Collecting async-generator>=1.9\n",
            "  Downloading async_generator-1.10-py3-none-any.whl (18 kB)\n",
            "Collecting wsproto>=0.14\n",
            "  Downloading wsproto-1.2.0-py3-none-any.whl (24 kB)\n",
            "Collecting urllib3-secure-extra\n",
            "  Downloading urllib3_secure_extra-0.1.0-py2.py3-none-any.whl (1.4 kB)\n",
            "Requirement already satisfied: certifi in /usr/local/lib/python3.8/dist-packages (from urllib3[secure]~=1.26->selenium==4.1.0) (2022.9.24)\n",
            "Collecting cryptography>=1.3.4\n",
            "  Downloading cryptography-38.0.4-cp36-abi3-manylinux_2_24_x86_64.whl (4.0 MB)\n",
            "\u001b[K     |████████████████████████████████| 4.0 MB 31.5 MB/s \n",
            "\u001b[?25hCollecting pyOpenSSL>=0.14\n",
            "  Downloading pyOpenSSL-22.1.0-py3-none-any.whl (57 kB)\n",
            "\u001b[K     |████████████████████████████████| 57 kB 1.9 MB/s \n",
            "\u001b[?25hRequirement already satisfied: cffi>=1.12 in /usr/local/lib/python3.8/dist-packages (from cryptography>=1.3.4->urllib3[secure]~=1.26->selenium==4.1.0) (1.15.1)\n",
            "Requirement already satisfied: pycparser in /usr/local/lib/python3.8/dist-packages (from cffi>=1.12->cryptography>=1.3.4->urllib3[secure]~=1.26->selenium==4.1.0) (2.21)\n",
            "Collecting h11<1,>=0.9.0\n",
            "  Downloading h11-0.14.0-py3-none-any.whl (58 kB)\n",
            "\u001b[K     |████████████████████████████████| 58 kB 2.8 MB/s \n",
            "\u001b[?25hInstalling collected packages: sniffio, outcome, h11, exceptiongroup, cryptography, async-generator, wsproto, urllib3-secure-extra, urllib3, trio, pyOpenSSL, trio-websocket, selenium\n",
            "  Attempting uninstall: urllib3\n",
            "    Found existing installation: urllib3 1.24.3\n",
            "    Uninstalling urllib3-1.24.3:\n",
            "      Successfully uninstalled urllib3-1.24.3\n",
            "\u001b[31mERROR: pip's dependency resolver does not currently take into account all the packages that are installed. This behaviour is the source of the following dependency conflicts.\n",
            "requests 2.23.0 requires urllib3!=1.25.0,!=1.25.1,<1.26,>=1.21.1, but you have urllib3 1.26.13 which is incompatible.\u001b[0m\n",
            "Successfully installed async-generator-1.10 cryptography-38.0.4 exceptiongroup-1.0.4 h11-0.14.0 outcome-1.2.0 pyOpenSSL-22.1.0 selenium-4.1.0 sniffio-1.3.0 trio-0.22.0 trio-websocket-0.9.2 urllib3-1.26.13 urllib3-secure-extra-0.1.0 wsproto-1.2.0\n"
          ]
        }
      ],
      "source": [
        "!pip install selenium==4.1.0"
      ]
    },
    {
      "cell_type": "markdown",
      "source": [
        "### chronium-chromedriver のインストール"
      ],
      "metadata": {
        "id": "8C31cIitP4Dj"
      }
    },
    {
      "cell_type": "code",
      "source": [
        "!apt install chromium-chromedrive"
      ],
      "metadata": {
        "colab": {
          "base_uri": "https://localhost:8080/"
        },
        "id": "GPZdZnbtPh2W",
        "outputId": "ee37a4eb-13c1-46fa-8844-244977f3c98f"
      },
      "execution_count": 2,
      "outputs": [
        {
          "output_type": "stream",
          "name": "stdout",
          "text": [
            "Reading package lists... Done\n",
            "Building dependency tree       \n",
            "Reading state information... Done\n",
            "E: Unable to locate package chromium-chromedrive\n"
          ]
        }
      ]
    },
    {
      "cell_type": "markdown",
      "source": [
        "## seleniumを実行して操作する"
      ],
      "metadata": {
        "id": "BHwL6y9rQEEp"
      }
    },
    {
      "cell_type": "markdown",
      "source": [
        "### その他のライブラリのimport"
      ],
      "metadata": {
        "id": "9ZNBv3XCQGTj"
      }
    },
    {
      "cell_type": "code",
      "source": [
        "import requests\n",
        "from selenium import webdriver\n",
        "from selenium.webdriver.chrome.options import Options\n",
        "import os\n",
        "import time\n",
        "import datetime\n",
        "# エラー処理用\n",
        "from selenium.common.exceptions import NoSuchElementException\n",
        "from selenium.common.exceptions import ElementClickInterceptedException"
      ],
      "metadata": {
        "colab": {
          "base_uri": "https://localhost:8080/"
        },
        "id": "fk6LENtiQBdU",
        "outputId": "76098d38-8b7c-43d2-d14e-6998b031209e"
      },
      "execution_count": 3,
      "outputs": [
        {
          "output_type": "stream",
          "name": "stderr",
          "text": [
            "/usr/local/lib/python3.8/dist-packages/requests/__init__.py:89: RequestsDependencyWarning: urllib3 (1.26.13) or chardet (3.0.4) doesn't match a supported version!\n",
            "  warnings.warn(\"urllib3 ({}) or chardet ({}) doesn't match a supported \"\n"
          ]
        }
      ]
    },
    {
      "cell_type": "markdown",
      "source": [
        "## ログ用に時刻を取得"
      ],
      "metadata": {
        "id": "FrUpadBmQLoH"
      }
    },
    {
      "cell_type": "code",
      "source": [
        "tm_start = time.time( ) # 処理時間計測用\n",
        "dt_now = datetime.datetime.now( ) # 現在日時\n",
        "dt_date_str = dt_now.strftime( '%Y/%m/%d %H:%M' ) # 書式指定して変換\n",
        "print( dt_date_str )"
      ],
      "metadata": {
        "colab": {
          "base_uri": "https://localhost:8080/"
        },
        "id": "cMEbUNLEQI2R",
        "outputId": "8c26a4c6-61e3-4e0b-fe00-c1c4faebe14f"
      },
      "execution_count": 4,
      "outputs": [
        {
          "output_type": "stream",
          "name": "stdout",
          "text": [
            "2022/12/12 02:54\n"
          ]
        }
      ]
    },
    {
      "cell_type": "markdown",
      "source": [
        "## 検索に関する設定値を定義する"
      ],
      "metadata": {
        "id": "Sg2WmQY3QPaF"
      }
    },
    {
      "cell_type": "code",
      "source": [
        "QUERY = '犬 フリー' # 検索したいキーワード\n",
        "LIMIT_DL_NUM = 100 # ダウンロード数の上限\n",
        "SAVE_DIR = 'img/dog_' # 出力フォルダ（自動生成させる）\n",
        "FILE_NAME = 'dog_' # ファイル名（後ろに連番と拡張子をつけていく）\n",
        "TIMEOUT = 60 # 検索のタイムアウト（秒）\n",
        "ACCESS_WAIT = 1 # アクセスする間隔(秒)←超重要\n",
        "RETRY_NUM = 3 # クリックやrequestのリトライ回数\n",
        "DRIVER_PATH = '/usr/bin/chromedriver' # chromedriver.exeへのパス"
      ],
      "metadata": {
        "id": "wPZMgRncQNtO"
      },
      "execution_count": 5,
      "outputs": []
    },
    {
      "cell_type": "markdown",
      "source": [
        "## Chromeをヘッドレスモードで起動する\n",
        "\n",
        "ヘッドレスモード = ブラウザを画面に開かないで実行するモード"
      ],
      "metadata": {
        "id": "xOhDRJ7eQUJv"
      }
    },
    {
      "cell_type": "code",
      "source": [
        "# optionの指定を準備\n",
        "options = Options( )\n",
        "options.add_argument( '--headless' )\n",
        "options.add_argument(  '--no-sandbox'  )\n",
        "options.add_argument(  '--disable-dev-shm-usage'  )\n",
        "options.add_argument(  'start-fullscreen'  )\n",
        "options.add_argument(  '--disable-plugins'  )\n",
        "options.add_argument(  '--disable-extensions'  )\n",
        "# 起動する\n",
        "driver = webdriver.Chrome( DRIVER_PATH, options=options )\n",
        "\n",
        "driver.implicitly_wait( TIMEOUT ) # タイムアウトを設定\n",
        "# ログに処理時間を出力\n",
        "tm_driver = time.time(  )\n",
        "print( 'WebDriver起動完了', f'{tm_driver - tm_start:.1f}s' )"
      ],
      "metadata": {
        "colab": {
          "base_uri": "https://localhost:8080/",
          "height": 484
        },
        "id": "el4vmO9hQRK-",
        "outputId": "b44da865-d0ad-4c52-f6a7-fb19cadcb43f"
      },
      "execution_count": 6,
      "outputs": [
        {
          "output_type": "stream",
          "name": "stderr",
          "text": [
            "<ipython-input-6-0e87959f723b>:10: DeprecationWarning: executable_path has been deprecated, please pass in a Service object\n",
            "  driver = webdriver.Chrome( DRIVER_PATH, options=options )\n"
          ]
        },
        {
          "output_type": "error",
          "ename": "WebDriverException",
          "evalue": "ignored",
          "traceback": [
            "\u001b[0;31m---------------------------------------------------------------------------\u001b[0m",
            "\u001b[0;31mFileNotFoundError\u001b[0m                         Traceback (most recent call last)",
            "\u001b[0;32m/usr/local/lib/python3.8/dist-packages/selenium/webdriver/common/service.py\u001b[0m in \u001b[0;36mstart\u001b[0;34m(self)\u001b[0m\n\u001b[1;32m     70\u001b[0m             \u001b[0mcmd\u001b[0m\u001b[0;34m.\u001b[0m\u001b[0mextend\u001b[0m\u001b[0;34m(\u001b[0m\u001b[0mself\u001b[0m\u001b[0;34m.\u001b[0m\u001b[0mcommand_line_args\u001b[0m\u001b[0;34m(\u001b[0m\u001b[0;34m)\u001b[0m\u001b[0;34m)\u001b[0m\u001b[0;34m\u001b[0m\u001b[0;34m\u001b[0m\u001b[0m\n\u001b[0;32m---> 71\u001b[0;31m             self.process = subprocess.Popen(cmd, env=self.env,\n\u001b[0m\u001b[1;32m     72\u001b[0m                                             \u001b[0mclose_fds\u001b[0m\u001b[0;34m=\u001b[0m\u001b[0msystem\u001b[0m\u001b[0;34m(\u001b[0m\u001b[0;34m)\u001b[0m \u001b[0;34m!=\u001b[0m \u001b[0;34m'Windows'\u001b[0m\u001b[0;34m,\u001b[0m\u001b[0;34m\u001b[0m\u001b[0;34m\u001b[0m\u001b[0m\n",
            "\u001b[0;32m/usr/lib/python3.8/subprocess.py\u001b[0m in \u001b[0;36m__init__\u001b[0;34m(self, args, bufsize, executable, stdin, stdout, stderr, preexec_fn, close_fds, shell, cwd, env, universal_newlines, startupinfo, creationflags, restore_signals, start_new_session, pass_fds, encoding, errors, text)\u001b[0m\n\u001b[1;32m    857\u001b[0m \u001b[0;34m\u001b[0m\u001b[0m\n\u001b[0;32m--> 858\u001b[0;31m             self._execute_child(args, executable, preexec_fn, close_fds,\n\u001b[0m\u001b[1;32m    859\u001b[0m                                 \u001b[0mpass_fds\u001b[0m\u001b[0;34m,\u001b[0m \u001b[0mcwd\u001b[0m\u001b[0;34m,\u001b[0m \u001b[0menv\u001b[0m\u001b[0;34m,\u001b[0m\u001b[0;34m\u001b[0m\u001b[0;34m\u001b[0m\u001b[0m\n",
            "\u001b[0;32m/usr/lib/python3.8/subprocess.py\u001b[0m in \u001b[0;36m_execute_child\u001b[0;34m(self, args, executable, preexec_fn, close_fds, pass_fds, cwd, env, startupinfo, creationflags, shell, p2cread, p2cwrite, c2pread, c2pwrite, errread, errwrite, restore_signals, start_new_session)\u001b[0m\n\u001b[1;32m   1703\u001b[0m                         \u001b[0merr_msg\u001b[0m \u001b[0;34m=\u001b[0m \u001b[0mos\u001b[0m\u001b[0;34m.\u001b[0m\u001b[0mstrerror\u001b[0m\u001b[0;34m(\u001b[0m\u001b[0merrno_num\u001b[0m\u001b[0;34m)\u001b[0m\u001b[0;34m\u001b[0m\u001b[0;34m\u001b[0m\u001b[0m\n\u001b[0;32m-> 1704\u001b[0;31m                     \u001b[0;32mraise\u001b[0m \u001b[0mchild_exception_type\u001b[0m\u001b[0;34m(\u001b[0m\u001b[0merrno_num\u001b[0m\u001b[0;34m,\u001b[0m \u001b[0merr_msg\u001b[0m\u001b[0;34m,\u001b[0m \u001b[0merr_filename\u001b[0m\u001b[0;34m)\u001b[0m\u001b[0;34m\u001b[0m\u001b[0;34m\u001b[0m\u001b[0m\n\u001b[0m\u001b[1;32m   1705\u001b[0m                 \u001b[0;32mraise\u001b[0m \u001b[0mchild_exception_type\u001b[0m\u001b[0;34m(\u001b[0m\u001b[0merr_msg\u001b[0m\u001b[0;34m)\u001b[0m\u001b[0;34m\u001b[0m\u001b[0;34m\u001b[0m\u001b[0m\n",
            "\u001b[0;31mFileNotFoundError\u001b[0m: [Errno 2] No such file or directory: '/usr/bin/chromedriver'",
            "\nDuring handling of the above exception, another exception occurred:\n",
            "\u001b[0;31mWebDriverException\u001b[0m                        Traceback (most recent call last)",
            "\u001b[0;32m<ipython-input-6-0e87959f723b>\u001b[0m in \u001b[0;36m<module>\u001b[0;34m\u001b[0m\n\u001b[1;32m      8\u001b[0m \u001b[0moptions\u001b[0m\u001b[0;34m.\u001b[0m\u001b[0madd_argument\u001b[0m\u001b[0;34m(\u001b[0m  \u001b[0;34m'--disable-extensions'\u001b[0m  \u001b[0;34m)\u001b[0m\u001b[0;34m\u001b[0m\u001b[0;34m\u001b[0m\u001b[0m\n\u001b[1;32m      9\u001b[0m \u001b[0;31m# 起動する\u001b[0m\u001b[0;34m\u001b[0m\u001b[0;34m\u001b[0m\u001b[0;34m\u001b[0m\u001b[0m\n\u001b[0;32m---> 10\u001b[0;31m \u001b[0mdriver\u001b[0m \u001b[0;34m=\u001b[0m \u001b[0mwebdriver\u001b[0m\u001b[0;34m.\u001b[0m\u001b[0mChrome\u001b[0m\u001b[0;34m(\u001b[0m \u001b[0mDRIVER_PATH\u001b[0m\u001b[0;34m,\u001b[0m \u001b[0moptions\u001b[0m\u001b[0;34m=\u001b[0m\u001b[0moptions\u001b[0m \u001b[0;34m)\u001b[0m\u001b[0;34m\u001b[0m\u001b[0;34m\u001b[0m\u001b[0m\n\u001b[0m\u001b[1;32m     11\u001b[0m \u001b[0;34m\u001b[0m\u001b[0m\n\u001b[1;32m     12\u001b[0m \u001b[0mdriver\u001b[0m\u001b[0;34m.\u001b[0m\u001b[0mimplicitly_wait\u001b[0m\u001b[0;34m(\u001b[0m \u001b[0mTIMEOUT\u001b[0m \u001b[0;34m)\u001b[0m \u001b[0;31m# タイムアウトを設定\u001b[0m\u001b[0;34m\u001b[0m\u001b[0;34m\u001b[0m\u001b[0m\n",
            "\u001b[0;32m/usr/local/lib/python3.8/dist-packages/selenium/webdriver/chrome/webdriver.py\u001b[0m in \u001b[0;36m__init__\u001b[0;34m(self, executable_path, port, options, service_args, desired_capabilities, service_log_path, chrome_options, service, keep_alive)\u001b[0m\n\u001b[1;32m     68\u001b[0m             \u001b[0mservice\u001b[0m \u001b[0;34m=\u001b[0m \u001b[0mService\u001b[0m\u001b[0;34m(\u001b[0m\u001b[0mexecutable_path\u001b[0m\u001b[0;34m,\u001b[0m \u001b[0mport\u001b[0m\u001b[0;34m,\u001b[0m \u001b[0mservice_args\u001b[0m\u001b[0;34m,\u001b[0m \u001b[0mservice_log_path\u001b[0m\u001b[0;34m)\u001b[0m\u001b[0;34m\u001b[0m\u001b[0;34m\u001b[0m\u001b[0m\n\u001b[1;32m     69\u001b[0m \u001b[0;34m\u001b[0m\u001b[0m\n\u001b[0;32m---> 70\u001b[0;31m         super(WebDriver, self).__init__(DesiredCapabilities.CHROME['browserName'], \"goog\",\n\u001b[0m\u001b[1;32m     71\u001b[0m                                         \u001b[0mport\u001b[0m\u001b[0;34m,\u001b[0m \u001b[0moptions\u001b[0m\u001b[0;34m,\u001b[0m\u001b[0;34m\u001b[0m\u001b[0;34m\u001b[0m\u001b[0m\n\u001b[1;32m     72\u001b[0m                                         \u001b[0mservice_args\u001b[0m\u001b[0;34m,\u001b[0m \u001b[0mdesired_capabilities\u001b[0m\u001b[0;34m,\u001b[0m\u001b[0;34m\u001b[0m\u001b[0;34m\u001b[0m\u001b[0m\n",
            "\u001b[0;32m/usr/local/lib/python3.8/dist-packages/selenium/webdriver/chromium/webdriver.py\u001b[0m in \u001b[0;36m__init__\u001b[0;34m(self, browser_name, vendor_prefix, port, options, service_args, desired_capabilities, service_log_path, service, keep_alive)\u001b[0m\n\u001b[1;32m     88\u001b[0m \u001b[0;34m\u001b[0m\u001b[0m\n\u001b[1;32m     89\u001b[0m         \u001b[0mself\u001b[0m\u001b[0;34m.\u001b[0m\u001b[0mservice\u001b[0m \u001b[0;34m=\u001b[0m \u001b[0mservice\u001b[0m\u001b[0;34m\u001b[0m\u001b[0;34m\u001b[0m\u001b[0m\n\u001b[0;32m---> 90\u001b[0;31m         \u001b[0mself\u001b[0m\u001b[0;34m.\u001b[0m\u001b[0mservice\u001b[0m\u001b[0;34m.\u001b[0m\u001b[0mstart\u001b[0m\u001b[0;34m(\u001b[0m\u001b[0;34m)\u001b[0m\u001b[0;34m\u001b[0m\u001b[0;34m\u001b[0m\u001b[0m\n\u001b[0m\u001b[1;32m     91\u001b[0m \u001b[0;34m\u001b[0m\u001b[0m\n\u001b[1;32m     92\u001b[0m         \u001b[0;32mtry\u001b[0m\u001b[0;34m:\u001b[0m\u001b[0;34m\u001b[0m\u001b[0;34m\u001b[0m\u001b[0m\n",
            "\u001b[0;32m/usr/local/lib/python3.8/dist-packages/selenium/webdriver/common/service.py\u001b[0m in \u001b[0;36mstart\u001b[0;34m(self)\u001b[0m\n\u001b[1;32m     79\u001b[0m         \u001b[0;32mexcept\u001b[0m \u001b[0mOSError\u001b[0m \u001b[0;32mas\u001b[0m \u001b[0merr\u001b[0m\u001b[0;34m:\u001b[0m\u001b[0;34m\u001b[0m\u001b[0;34m\u001b[0m\u001b[0m\n\u001b[1;32m     80\u001b[0m             \u001b[0;32mif\u001b[0m \u001b[0merr\u001b[0m\u001b[0;34m.\u001b[0m\u001b[0merrno\u001b[0m \u001b[0;34m==\u001b[0m \u001b[0merrno\u001b[0m\u001b[0;34m.\u001b[0m\u001b[0mENOENT\u001b[0m\u001b[0;34m:\u001b[0m\u001b[0;34m\u001b[0m\u001b[0;34m\u001b[0m\u001b[0m\n\u001b[0;32m---> 81\u001b[0;31m                 raise WebDriverException(\n\u001b[0m\u001b[1;32m     82\u001b[0m                     \"'%s' executable needs to be in PATH. %s\" % (\n\u001b[1;32m     83\u001b[0m                         os.path.basename(self.path), self.start_error_message)\n",
            "\u001b[0;31mWebDriverException\u001b[0m: Message: 'chromedriver' executable needs to be in PATH. Please see https://chromedriver.chromium.org/home\n"
          ]
        }
      ]
    },
    {
      "cell_type": "markdown",
      "source": [
        "## Googleの画像検索へアクセス"
      ],
      "metadata": {
        "id": "zDcfipAOQaZW"
      }
    },
    {
      "cell_type": "code",
      "source": [
        "# QUERY条件付きでURLを定義する\n",
        "url = f'https://www.google.com/search?q={QUERY}&tbm=isch'\n",
        "# 組み立てたURLでアクセスして検索\n",
        "driver.get( url)\n",
        "# 時刻のログを取得\n",
        "tm_geturl = time.time( )\n",
        "print( 'Google画像検索ページ取得', f'{tm_geturl - tm_driver:.1f}s' )"
      ],
      "metadata": {
        "colab": {
          "base_uri": "https://localhost:8080/",
          "height": 245
        },
        "id": "2inEQNYzQcY8",
        "outputId": "5a3bf738-afc4-4b60-90b3-9342be5b3342"
      },
      "execution_count": 7,
      "outputs": [
        {
          "output_type": "error",
          "ename": "NameError",
          "evalue": "ignored",
          "traceback": [
            "\u001b[0;31m---------------------------------------------------------------------------\u001b[0m",
            "\u001b[0;31mNameError\u001b[0m                                 Traceback (most recent call last)",
            "\u001b[0;32m<ipython-input-7-4a0c4d454192>\u001b[0m in \u001b[0;36m<module>\u001b[0;34m\u001b[0m\n\u001b[1;32m      2\u001b[0m \u001b[0murl\u001b[0m \u001b[0;34m=\u001b[0m \u001b[0;34mf'https://www.google.com/search?q={QUERY}&tbm=isch'\u001b[0m\u001b[0;34m\u001b[0m\u001b[0;34m\u001b[0m\u001b[0m\n\u001b[1;32m      3\u001b[0m \u001b[0;31m# 組み立てたURLでアクセスして検索\u001b[0m\u001b[0;34m\u001b[0m\u001b[0;34m\u001b[0m\u001b[0;34m\u001b[0m\u001b[0m\n\u001b[0;32m----> 4\u001b[0;31m \u001b[0mdriver\u001b[0m\u001b[0;34m.\u001b[0m\u001b[0mget\u001b[0m\u001b[0;34m(\u001b[0m \u001b[0murl\u001b[0m\u001b[0;34m)\u001b[0m\u001b[0;34m\u001b[0m\u001b[0;34m\u001b[0m\u001b[0m\n\u001b[0m\u001b[1;32m      5\u001b[0m \u001b[0;31m# 時刻のログを取得\u001b[0m\u001b[0;34m\u001b[0m\u001b[0;34m\u001b[0m\u001b[0;34m\u001b[0m\u001b[0m\n\u001b[1;32m      6\u001b[0m \u001b[0mtm_geturl\u001b[0m \u001b[0;34m=\u001b[0m \u001b[0mtime\u001b[0m\u001b[0;34m.\u001b[0m\u001b[0mtime\u001b[0m\u001b[0;34m(\u001b[0m \u001b[0;34m)\u001b[0m\u001b[0;34m\u001b[0m\u001b[0;34m\u001b[0m\u001b[0m\n",
            "\u001b[0;31mNameError\u001b[0m: name 'driver' is not defined"
          ]
        }
      ]
    },
    {
      "cell_type": "markdown",
      "source": [
        "## 検索結果の要素を取得していく"
      ],
      "metadata": {
        "id": "tSs8HIDoQb6t"
      }
    },
    {
      "cell_type": "code",
      "source": [
        "# ページのサムネイル画像の要素群を取得\n",
        "# (islmpクラスが指定されたimg=サムネイルをすべて拾う)\n",
        "tmb_elems = driver.find_elements_by_css_selector('#islmp img')\n",
        "# サムネイルのリストから各サムネイルのalt属性を取得していく\n",
        "tmb_alts = [ tmb.get_attribute('alt') for tmb in tmb_elems ]\n",
        "# alt属性が空（小さいサムネイル）のものを差し引いて合計を算出\n",
        "count = len(tmb_alts) - tmb_alts.count('')\n",
        "print(count)"
      ],
      "metadata": {
        "colab": {
          "base_uri": "https://localhost:8080/",
          "height": 245
        },
        "id": "jETUGW6TQWW0",
        "outputId": "e68d5591-3512-45a8-cced-663899243353"
      },
      "execution_count": 8,
      "outputs": [
        {
          "output_type": "error",
          "ename": "NameError",
          "evalue": "ignored",
          "traceback": [
            "\u001b[0;31m---------------------------------------------------------------------------\u001b[0m",
            "\u001b[0;31mNameError\u001b[0m                                 Traceback (most recent call last)",
            "\u001b[0;32m<ipython-input-8-478ad0829502>\u001b[0m in \u001b[0;36m<module>\u001b[0;34m\u001b[0m\n\u001b[1;32m      1\u001b[0m \u001b[0;31m# ページのサムネイル画像の要素群を取得\u001b[0m\u001b[0;34m\u001b[0m\u001b[0;34m\u001b[0m\u001b[0;34m\u001b[0m\u001b[0m\n\u001b[1;32m      2\u001b[0m \u001b[0;31m# (islmpクラスが指定されたimg=サムネイルをすべて拾う)\u001b[0m\u001b[0;34m\u001b[0m\u001b[0;34m\u001b[0m\u001b[0;34m\u001b[0m\u001b[0m\n\u001b[0;32m----> 3\u001b[0;31m \u001b[0mtmb_elems\u001b[0m \u001b[0;34m=\u001b[0m \u001b[0mdriver\u001b[0m\u001b[0;34m.\u001b[0m\u001b[0mfind_elements_by_css_selector\u001b[0m\u001b[0;34m(\u001b[0m\u001b[0;34m'#islmp img'\u001b[0m\u001b[0;34m)\u001b[0m\u001b[0;34m\u001b[0m\u001b[0;34m\u001b[0m\u001b[0m\n\u001b[0m\u001b[1;32m      4\u001b[0m \u001b[0;31m# サムネイルのリストから各サムネイルのalt属性を取得していく\u001b[0m\u001b[0;34m\u001b[0m\u001b[0;34m\u001b[0m\u001b[0;34m\u001b[0m\u001b[0m\n\u001b[1;32m      5\u001b[0m \u001b[0mtmb_alts\u001b[0m \u001b[0;34m=\u001b[0m \u001b[0;34m[\u001b[0m \u001b[0mtmb\u001b[0m\u001b[0;34m.\u001b[0m\u001b[0mget_attribute\u001b[0m\u001b[0;34m(\u001b[0m\u001b[0;34m'alt'\u001b[0m\u001b[0;34m)\u001b[0m \u001b[0;32mfor\u001b[0m \u001b[0mtmb\u001b[0m \u001b[0;32min\u001b[0m \u001b[0mtmb_elems\u001b[0m \u001b[0;34m]\u001b[0m\u001b[0;34m\u001b[0m\u001b[0;34m\u001b[0m\u001b[0m\n",
            "\u001b[0;31mNameError\u001b[0m: name 'driver' is not defined"
          ]
        }
      ]
    },
    {
      "cell_type": "markdown",
      "source": [
        "## 下にスクロールさせてさらに検索結果を表示させてまたカウント"
      ],
      "metadata": {
        "id": "y3KtTmDUQkBo"
      }
    },
    {
      "cell_type": "code",
      "source": [
        "# 定義したLIMIT_DL_NUM（ダウンロード数の上限）になるまでスクロールを繰り返す\n",
        "while count < LIMIT_DL_NUM:\n",
        "  # ページの一番下へスクロールして新しいサムネイル画像を表示させる\n",
        "  driver.execute_script( 'window.scrollTo(0, document.body.scrollHeight);' )\n",
        "  time.sleep( 1 ) # スリープを繰り返す間隔(秒)を入れる ←重要\n",
        "  # (islmpクラスが指定されたimg=サムネイルをすべて拾う)\n",
        "  tmb_elems = driver.find_elements_by_css_selector('#islmp img')\n",
        "  # サムネイルのリストから各サムネイルのalt属性を取得していく\n",
        "  tmb_alts = [ tmb.get_attribute('alt') for tmb in tmb_elems ]\n",
        "  # alt属性が空（小さいサムネイル）のものを差し引いて合計を算出\n",
        "  count = len(tmb_alts) - tmb_alts.count('')\n",
        "  print(count)\n",
        "# ループ終わり"
      ],
      "metadata": {
        "colab": {
          "base_uri": "https://localhost:8080/",
          "height": 245
        },
        "id": "Fm8p4UaWQhto",
        "outputId": "ebfd5de5-a6ae-4584-ea7c-c394c6844bc7"
      },
      "execution_count": 9,
      "outputs": [
        {
          "output_type": "error",
          "ename": "NameError",
          "evalue": "ignored",
          "traceback": [
            "\u001b[0;31m---------------------------------------------------------------------------\u001b[0m",
            "\u001b[0;31mNameError\u001b[0m                                 Traceback (most recent call last)",
            "\u001b[0;32m<ipython-input-9-efe427a5e67b>\u001b[0m in \u001b[0;36m<module>\u001b[0;34m\u001b[0m\n\u001b[1;32m      1\u001b[0m \u001b[0;31m# 定義したLIMIT_DL_NUM（ダウンロード数の上限）になるまでスクロールを繰り返す\u001b[0m\u001b[0;34m\u001b[0m\u001b[0;34m\u001b[0m\u001b[0;34m\u001b[0m\u001b[0m\n\u001b[0;32m----> 2\u001b[0;31m \u001b[0;32mwhile\u001b[0m \u001b[0mcount\u001b[0m \u001b[0;34m<\u001b[0m \u001b[0mLIMIT_DL_NUM\u001b[0m\u001b[0;34m:\u001b[0m\u001b[0;34m\u001b[0m\u001b[0;34m\u001b[0m\u001b[0m\n\u001b[0m\u001b[1;32m      3\u001b[0m   \u001b[0;31m# ページの一番下へスクロールして新しいサムネイル画像を表示させる\u001b[0m\u001b[0;34m\u001b[0m\u001b[0;34m\u001b[0m\u001b[0;34m\u001b[0m\u001b[0m\n\u001b[1;32m      4\u001b[0m   \u001b[0mdriver\u001b[0m\u001b[0;34m.\u001b[0m\u001b[0mexecute_script\u001b[0m\u001b[0;34m(\u001b[0m \u001b[0;34m'window.scrollTo(0, document.body.scrollHeight);'\u001b[0m \u001b[0;34m)\u001b[0m\u001b[0;34m\u001b[0m\u001b[0;34m\u001b[0m\u001b[0m\n\u001b[1;32m      5\u001b[0m   \u001b[0mtime\u001b[0m\u001b[0;34m.\u001b[0m\u001b[0msleep\u001b[0m\u001b[0;34m(\u001b[0m \u001b[0;36m1\u001b[0m \u001b[0;34m)\u001b[0m \u001b[0;31m# スリープを繰り返す間隔(秒)を入れる ←重要\u001b[0m\u001b[0;34m\u001b[0m\u001b[0;34m\u001b[0m\u001b[0m\n",
            "\u001b[0;31mNameError\u001b[0m: name 'count' is not defined"
          ]
        }
      ]
    },
    {
      "cell_type": "markdown",
      "source": [
        "## サムネイル画像をクリックすると右側に開かれる領域をオブジェクトに取得"
      ],
      "metadata": {
        "id": "ARjjs6VDQn91"
      }
    },
    {
      "cell_type": "code",
      "source": [
        "imgframe_elem = driver.find_element_by_id( ('islsp') )"
      ],
      "metadata": {
        "colab": {
          "base_uri": "https://localhost:8080/",
          "height": 173
        },
        "id": "rKrnFnk3Ql8l",
        "outputId": "4c8290b5-0951-4cab-d448-5b3f18ab5cc5"
      },
      "execution_count": 10,
      "outputs": [
        {
          "output_type": "error",
          "ename": "NameError",
          "evalue": "ignored",
          "traceback": [
            "\u001b[0;31m---------------------------------------------------------------------------\u001b[0m",
            "\u001b[0;31mNameError\u001b[0m                                 Traceback (most recent call last)",
            "\u001b[0;32m<ipython-input-10-713e481369ea>\u001b[0m in \u001b[0;36m<module>\u001b[0;34m\u001b[0m\n\u001b[0;32m----> 1\u001b[0;31m \u001b[0mimgframe_elem\u001b[0m \u001b[0;34m=\u001b[0m \u001b[0mdriver\u001b[0m\u001b[0;34m.\u001b[0m\u001b[0mfind_element_by_id\u001b[0m\u001b[0;34m(\u001b[0m \u001b[0;34m(\u001b[0m\u001b[0;34m'islsp'\u001b[0m\u001b[0;34m)\u001b[0m \u001b[0;34m)\u001b[0m\u001b[0;34m\u001b[0m\u001b[0;34m\u001b[0m\u001b[0m\n\u001b[0m",
            "\u001b[0;31mNameError\u001b[0m: name 'driver' is not defined"
          ]
        }
      ]
    },
    {
      "cell_type": "markdown",
      "source": [
        "### 画像へURLアクセスして保存する準備をする"
      ],
      "metadata": {
        "id": "pXU8jBywQsc2"
      }
    },
    {
      "cell_type": "code",
      "source": [
        "# 画像の保存フォルダを作成\n",
        "os.makedirs( SAVE_DIR, exist_ok=True )\n",
        "# HTTPリクエスト用のヘッダーを作る\n",
        "HTTP_HEADERS = {'User-Aget':driver.execute_script('return navigator.userAgent;')}\n",
        "print( HTTP_HEADERS )\n",
        "# ダウンロードしてきたい対象のファイル拡張子(extensios)\n",
        "IMG_EXTS = ( '.jpg', '.jpeg', '.png', '.gif' )"
      ],
      "metadata": {
        "colab": {
          "base_uri": "https://localhost:8080/",
          "height": 245
        },
        "id": "thEXcPkQQpq_",
        "outputId": "47be57bf-6d6d-4f3d-89c5-515f1be4e8be"
      },
      "execution_count": 11,
      "outputs": [
        {
          "output_type": "error",
          "ename": "NameError",
          "evalue": "ignored",
          "traceback": [
            "\u001b[0;31m---------------------------------------------------------------------------\u001b[0m",
            "\u001b[0;31mNameError\u001b[0m                                 Traceback (most recent call last)",
            "\u001b[0;32m<ipython-input-11-62b03daed4d9>\u001b[0m in \u001b[0;36m<module>\u001b[0;34m\u001b[0m\n\u001b[1;32m      2\u001b[0m \u001b[0mos\u001b[0m\u001b[0;34m.\u001b[0m\u001b[0mmakedirs\u001b[0m\u001b[0;34m(\u001b[0m \u001b[0mSAVE_DIR\u001b[0m\u001b[0;34m,\u001b[0m \u001b[0mexist_ok\u001b[0m\u001b[0;34m=\u001b[0m\u001b[0;32mTrue\u001b[0m \u001b[0;34m)\u001b[0m\u001b[0;34m\u001b[0m\u001b[0;34m\u001b[0m\u001b[0m\n\u001b[1;32m      3\u001b[0m \u001b[0;31m# HTTPリクエスト用のヘッダーを作る\u001b[0m\u001b[0;34m\u001b[0m\u001b[0;34m\u001b[0m\u001b[0;34m\u001b[0m\u001b[0m\n\u001b[0;32m----> 4\u001b[0;31m \u001b[0mHTTP_HEADERS\u001b[0m \u001b[0;34m=\u001b[0m \u001b[0;34m{\u001b[0m\u001b[0;34m'User-Aget'\u001b[0m\u001b[0;34m:\u001b[0m\u001b[0mdriver\u001b[0m\u001b[0;34m.\u001b[0m\u001b[0mexecute_script\u001b[0m\u001b[0;34m(\u001b[0m\u001b[0;34m'return navigator.userAgent;'\u001b[0m\u001b[0;34m)\u001b[0m\u001b[0;34m}\u001b[0m\u001b[0;34m\u001b[0m\u001b[0;34m\u001b[0m\u001b[0m\n\u001b[0m\u001b[1;32m      5\u001b[0m \u001b[0mprint\u001b[0m\u001b[0;34m(\u001b[0m \u001b[0mHTTP_HEADERS\u001b[0m \u001b[0;34m)\u001b[0m\u001b[0;34m\u001b[0m\u001b[0;34m\u001b[0m\u001b[0m\n\u001b[1;32m      6\u001b[0m \u001b[0;31m# ダウンロードしてきたい対象のファイル拡張子(extensios)\u001b[0m\u001b[0;34m\u001b[0m\u001b[0;34m\u001b[0m\u001b[0;34m\u001b[0m\u001b[0m\n",
            "\u001b[0;31mNameError\u001b[0m: name 'driver' is not defined"
          ]
        }
      ]
    },
    {
      "cell_type": "markdown",
      "source": [
        "## ダウンロード中に利用する関数を定義する\n",
        "### 画像の拡張子を取得する関数"
      ],
      "metadata": {
        "id": "AgU3inNDQwTL"
      }
    },
    {
      "cell_type": "code",
      "source": [
        "# 拡張子を取得する関数\n",
        "def get_extension( url ):\n",
        "  url_lower = url.lower()\n",
        "  for img_ext in IMG_EXTS: # 拡張子のリストから１つずつ比較\n",
        "    if img_ext in url_lower:\n",
        "      extension = '.jpg' if img_ext == '.jpeg' else img_ext\n",
        "      break\n",
        "    # if終わり\n",
        "    else:\n",
        "        extension = ''\n",
        "  # for終わり\n",
        "  return extension\n",
        "# 関数終わり"
      ],
      "metadata": {
        "id": "PPV_zUduQuK6"
      },
      "execution_count": 12,
      "outputs": []
    },
    {
      "cell_type": "markdown",
      "source": [
        "### urlで指定した画像へアクセスし、フォルダ内のファイルとして書き込む"
      ],
      "metadata": {
        "id": "buL3OBqKQz1W"
      }
    },
    {
      "cell_type": "code",
      "source": [
        "def download_image(  url, path, loop ):\n",
        "  result = False  # 戻り値の変数\n",
        "  for i in range(loop):\n",
        "    try:\n",
        "      r = requests.get( url, headers=HTTP_HEADERS, stream=True, timeout=10 )\n",
        "      r.raise_for_status( )\n",
        "      with open ( path, 'wb' ) as f: # バイナリ書き込みモードで開く\n",
        "        f.write( r.content )\n",
        "\n",
        "    except requests.exceptions.SSLError:\n",
        "      print('****** SSL エラー')\n",
        "      break # リトライしない  \n",
        "    except requests.exceptions.RequestException as e:\n",
        "      print( f'***** requests エラー( {e} ): {i + 1}/{RETRY_NUM}' )\n",
        "      time.sleep(1)\n",
        "    else:\n",
        "      result = True\n",
        "      break # try成功\n",
        "  # ループ終わり  \n",
        "# 関数終わり"
      ],
      "metadata": {
        "id": "CAtHIHjAQyOB"
      },
      "execution_count": 13,
      "outputs": []
    },
    {
      "cell_type": "markdown",
      "source": [
        "### サムネイルを取得し、画像ダウンロードの準備ができたタイミング"
      ],
      "metadata": {
        "id": "5oVw3K-EQ322"
      }
    },
    {
      "cell_type": "code",
      "source": [
        "tm_thumbnails = time.time( )\n",
        "print( 'サムネイル画像取得とＤＬ準備完了', f'{tm_thumbnails - tm_geturl:.1f}s' )"
      ],
      "metadata": {
        "colab": {
          "base_uri": "https://localhost:8080/",
          "height": 191
        },
        "id": "UzT6kIS5Q2Wf",
        "outputId": "e32871ca-48c2-4ed0-a768-6175070152e9"
      },
      "execution_count": 14,
      "outputs": [
        {
          "output_type": "error",
          "ename": "NameError",
          "evalue": "ignored",
          "traceback": [
            "\u001b[0;31m---------------------------------------------------------------------------\u001b[0m",
            "\u001b[0;31mNameError\u001b[0m                                 Traceback (most recent call last)",
            "\u001b[0;32m<ipython-input-14-31036ba65481>\u001b[0m in \u001b[0;36m<module>\u001b[0;34m\u001b[0m\n\u001b[1;32m      1\u001b[0m \u001b[0mtm_thumbnails\u001b[0m \u001b[0;34m=\u001b[0m \u001b[0mtime\u001b[0m\u001b[0;34m.\u001b[0m\u001b[0mtime\u001b[0m\u001b[0;34m(\u001b[0m \u001b[0;34m)\u001b[0m\u001b[0;34m\u001b[0m\u001b[0;34m\u001b[0m\u001b[0m\n\u001b[0;32m----> 2\u001b[0;31m \u001b[0mprint\u001b[0m\u001b[0;34m(\u001b[0m \u001b[0;34m'サムネイル画像取得とＤＬ準備完了'\u001b[0m\u001b[0;34m,\u001b[0m \u001b[0;34mf'{tm_thumbnails - tm_geturl:.1f}s'\u001b[0m \u001b[0;34m)\u001b[0m\u001b[0;34m\u001b[0m\u001b[0;34m\u001b[0m\u001b[0m\n\u001b[0m",
            "\u001b[0;31mNameError\u001b[0m: name 'tm_geturl' is not defined"
          ]
        }
      ]
    },
    {
      "cell_type": "markdown",
      "source": [
        "## ダウンロード処理"
      ],
      "metadata": {
        "id": "XkfsxJ54Q8Cn"
      }
    },
    {
      "cell_type": "code",
      "source": [
        "EXCLUSION_URL = 'https//lh3.googleusercontent.com/' # 除外対象URL\n",
        "count = 0\n",
        "url_list = [ ]\n",
        "\n",
        "# サムネイルをクリック、画像リンクを取得、画像をDL＆保存を繰り返す\n",
        "# zipで組み合わせの順番を固定化\n",
        "for tmb_elem, tmb_alt in zip(tmb_elems, tmb_alts): \n",
        "  if tmb_alt == '': # ALT属性が空=小さいサムネイルとみなしてスキップ\n",
        "    continue  \n",
        "  print(  f'{count}:{tmb_alt}'  ) # カウンタとALT属性を表示\n",
        "  # リトライ回数分だけ試行\n",
        "  for i in range(RETRY_NUM):\n",
        "    # サムネイルをクリック\n",
        "    try:\n",
        "      tmb_elem.click( )\n",
        "    except ElementClickInterceptedException:\n",
        "      print(f'***** click エラー: {i+1}/{RETRY_NUM}')\n",
        "      # フォーカスをあわせる\n",
        "      driver.execute_script('arguments[0].scrollIntoView(true);', tmb_elem)\n",
        "      time.sleep(1)\n",
        "    else:\n",
        "      break # try成功（クリック成功）\n",
        "  # forの終わり\n",
        "  else: \n",
        "    print('***** キャンセル')\n",
        "    continue # リトライ失敗、次のアイコンにスキップ\n",
        "  # クリック成功したら、処理を続ける（画像のオブジェクトを取得する処理）\n",
        "  time.sleep(ACCESS_WAIT)\n",
        "  # alt属性の加工\n",
        "  alt = tmb_alt.replace(\"'\",\"\\\\\")\n",
        "  try:\n",
        "    # 左側のalt属性を基に左側の大きな画像をalt属性を指定して取得\n",
        "    img_elem = imgframe_elem.find_element_by_css_selector(f'img[alt=\\'{alt}\\']')\n",
        "  except NoSuchElementException:  # 右側に対応する要素が見つからない\n",
        "    print('***** img要素検索エラー')\n",
        "    print('***** キャンセル')\n",
        "    continue # 次のサムネイルへスキップ\n",
        "  # 右の大きな画像オブジェクトが取得できたら、その画像リンクを取得する\n",
        "\n",
        "  tmb_url = tmb_elem.get_attribute('src')  # サムネイルsrc属性からリンクurlを取得\n",
        "  # リトライしながらURLをチェック\n",
        "  for i in range(RETRY_NUM):\n",
        "    # 大きい画像のURL\n",
        "    url = img_elem.get_attribute('src')\n",
        "    if EXCLUSION_URL in url:\n",
        "      print('除外対象url')\n",
        "      url=''\n",
        "      break # ループ中断\n",
        "    elif url == tmb_url: # サムネイルのurlと一緒なら、リトライを続ける\n",
        "      print(f'***** urlチェック:{i+1}/{RETRY_NUM}')\n",
        "    else:\n",
        "      break # ループ中断（除外対象でもサムネイルでもない、OKなurl）\n",
        "    # RETRYループ終わり\n",
        "  # urlチェックの結果、OKなリンクでなければ次のサムネイルへスキップ\n",
        "  if url == '':\n",
        "    print('***** キャンセル') # 大きなループをcontinue\n",
        "    continue\n",
        "  # url先の拡張子が指定の画像拡張子でなければ次のサムネイルへスキップ\n",
        "  ext = get_extension( url ) # 自作の関数で拡張子を取得\n",
        "  if ext == '': # 指定の画像拡張子でない場合\n",
        "    print(f'***** urlに拡張子が含まれていないのでキャンセル')\n",
        "    print(f'{url}')\n",
        "    continue\n",
        "  \n",
        "  # ダウンロード周り:保存するファイルパスを指定する\n",
        "  filename = f'{FILE_NAME}{count}{ext}'\n",
        "  path = SAVE_DIR + '/' + filename\n",
        "  # ダウンロードを実行（自作関数を呼び出す）\n",
        "  result = download_image( url, path, RETRY_NUM )\n",
        "  if result == False:\n",
        "    print('***** キャンセル')\n",
        "    continue # 次のサムネイルへスキップ\n",
        "  # ダウンロードしたurlをリストに追加\n",
        "  url_list.append(f'{filename}:{url}')\n",
        "\n",
        "  # 最後に、ダウンロード数カウンタの更新と終了判定\n",
        "  count += 1\n",
        "  if count >= LIMIT_DL_NUM:\n",
        "    break # ダウンロードのループを終了\n",
        "# ループの終了\n",
        "# 所領時間の表示\n",
        "tm_end = time.time( ) # 現在時刻\n",
        "print('ダウンロード', f'{tm_end - tm_thumbnails:.1f}s')\n",
        "print('-------------------------')"
      ],
      "metadata": {
        "colab": {
          "base_uri": "https://localhost:8080/",
          "height": 245
        },
        "id": "VIeGrDKPQ6En",
        "outputId": "1076344a-70d4-46b7-8d1e-dd964747a564"
      },
      "execution_count": 15,
      "outputs": [
        {
          "output_type": "error",
          "ename": "NameError",
          "evalue": "ignored",
          "traceback": [
            "\u001b[0;31m---------------------------------------------------------------------------\u001b[0m",
            "\u001b[0;31mNameError\u001b[0m                                 Traceback (most recent call last)",
            "\u001b[0;32m<ipython-input-15-7924ca17cf06>\u001b[0m in \u001b[0;36m<module>\u001b[0;34m\u001b[0m\n\u001b[1;32m      5\u001b[0m \u001b[0;31m# サムネイルをクリック、画像リンクを取得、画像をDL＆保存を繰り返す\u001b[0m\u001b[0;34m\u001b[0m\u001b[0;34m\u001b[0m\u001b[0;34m\u001b[0m\u001b[0m\n\u001b[1;32m      6\u001b[0m \u001b[0;31m# zipで組み合わせの順番を固定化\u001b[0m\u001b[0;34m\u001b[0m\u001b[0;34m\u001b[0m\u001b[0;34m\u001b[0m\u001b[0m\n\u001b[0;32m----> 7\u001b[0;31m \u001b[0;32mfor\u001b[0m \u001b[0mtmb_elem\u001b[0m\u001b[0;34m,\u001b[0m \u001b[0mtmb_alt\u001b[0m \u001b[0;32min\u001b[0m \u001b[0mzip\u001b[0m\u001b[0;34m(\u001b[0m\u001b[0mtmb_elems\u001b[0m\u001b[0;34m,\u001b[0m \u001b[0mtmb_alts\u001b[0m\u001b[0;34m)\u001b[0m\u001b[0;34m:\u001b[0m\u001b[0;34m\u001b[0m\u001b[0;34m\u001b[0m\u001b[0m\n\u001b[0m\u001b[1;32m      8\u001b[0m   \u001b[0;32mif\u001b[0m \u001b[0mtmb_alt\u001b[0m \u001b[0;34m==\u001b[0m \u001b[0;34m''\u001b[0m\u001b[0;34m:\u001b[0m \u001b[0;31m# ALT属性が空=小さいサムネイルとみなしてスキップ\u001b[0m\u001b[0;34m\u001b[0m\u001b[0;34m\u001b[0m\u001b[0m\n\u001b[1;32m      9\u001b[0m     \u001b[0;32mcontinue\u001b[0m\u001b[0;34m\u001b[0m\u001b[0;34m\u001b[0m\u001b[0m\n",
            "\u001b[0;31mNameError\u001b[0m: name 'tmb_elems' is not defined"
          ]
        }
      ]
    },
    {
      "cell_type": "markdown",
      "source": [
        "## Colabo上へダウンロードしたファイルをipで固めてローカルにダウンロードする"
      ],
      "metadata": {
        "id": "Vruvd1IKRCxI"
      }
    },
    {
      "cell_type": "code",
      "source": [
        "# ここまでのトータル所要時間を出力する\n",
        "total = tm_end - tm_start\n",
        "total_str = f'トータル時間:{total:.1f}s({total/60:.2f}min)'\n",
        "count_str = f'ダウンロード数:{count}'\n",
        "print(total_str)\n",
        "print(count_str)"
      ],
      "metadata": {
        "colab": {
          "base_uri": "https://localhost:8080/",
          "height": 245
        },
        "id": "Cjb-dBBhRAe6",
        "outputId": "0a2e05ea-cea8-4bd0-9a3a-f78b1dbbb138"
      },
      "execution_count": 16,
      "outputs": [
        {
          "output_type": "error",
          "ename": "NameError",
          "evalue": "ignored",
          "traceback": [
            "\u001b[0;31m---------------------------------------------------------------------------\u001b[0m",
            "\u001b[0;31mNameError\u001b[0m                                 Traceback (most recent call last)",
            "\u001b[0;32m<ipython-input-16-89d03eaf75a8>\u001b[0m in \u001b[0;36m<module>\u001b[0;34m\u001b[0m\n\u001b[1;32m      1\u001b[0m \u001b[0;31m# ここまでのトータル所要時間を出力する\u001b[0m\u001b[0;34m\u001b[0m\u001b[0;34m\u001b[0m\u001b[0;34m\u001b[0m\u001b[0m\n\u001b[0;32m----> 2\u001b[0;31m \u001b[0mtotal\u001b[0m \u001b[0;34m=\u001b[0m \u001b[0mtm_end\u001b[0m \u001b[0;34m-\u001b[0m \u001b[0mtm_start\u001b[0m\u001b[0;34m\u001b[0m\u001b[0;34m\u001b[0m\u001b[0m\n\u001b[0m\u001b[1;32m      3\u001b[0m \u001b[0mtotal_str\u001b[0m \u001b[0;34m=\u001b[0m \u001b[0;34mf'トータル時間:{total:.1f}s({total/60:.2f}min)'\u001b[0m\u001b[0;34m\u001b[0m\u001b[0;34m\u001b[0m\u001b[0m\n\u001b[1;32m      4\u001b[0m \u001b[0mcount_str\u001b[0m \u001b[0;34m=\u001b[0m \u001b[0;34mf'ダウンロード数:{count}'\u001b[0m\u001b[0;34m\u001b[0m\u001b[0;34m\u001b[0m\u001b[0m\n\u001b[1;32m      5\u001b[0m \u001b[0mprint\u001b[0m\u001b[0;34m(\u001b[0m\u001b[0mtotal_str\u001b[0m\u001b[0;34m)\u001b[0m\u001b[0;34m\u001b[0m\u001b[0;34m\u001b[0m\u001b[0m\n",
            "\u001b[0;31mNameError\u001b[0m: name 'tm_end' is not defined"
          ]
        }
      ]
    },
    {
      "cell_type": "markdown",
      "source": [
        "### Google検索してダウンロードした画像のURLもテキストに保存してローカルPCへダウンロードする"
      ],
      "metadata": {
        "id": "JdazvC3lRTrZ"
      }
    },
    {
      "cell_type": "code",
      "source": [
        "# URLを書き込むテキストファイルの場所\n",
        "DIR_TMP = SAVE_DIR + '/url/'\n",
        "os.makedirs( DIR_TMP, exist_ok=True )\n",
        "path = SAVE_DIR + '/url/' + '_url.txt'\n",
        "with open( path, 'w', encording='utf-8' ) as f:\n",
        "  f.write( dt_date_str + '\\n' )\n",
        "  f.write( total_str + '\\n' )\n",
        "  f.write( count_str + '\\n' )\n",
        "  f.write( '\\n'.join( url_list ) )\n",
        "# open ここまで\n",
        "driver.quit( ) # ブラウザを閉じる"
      ],
      "metadata": {
        "colab": {
          "base_uri": "https://localhost:8080/",
          "height": 245
        },
        "id": "NaFQsbU4RFNn",
        "outputId": "e02d027e-b724-4ce1-b2cc-b375095dfa15"
      },
      "execution_count": 17,
      "outputs": [
        {
          "output_type": "error",
          "ename": "TypeError",
          "evalue": "ignored",
          "traceback": [
            "\u001b[0;31m---------------------------------------------------------------------------\u001b[0m",
            "\u001b[0;31mTypeError\u001b[0m                                 Traceback (most recent call last)",
            "\u001b[0;32m<ipython-input-17-51e8cc326dea>\u001b[0m in \u001b[0;36m<module>\u001b[0;34m\u001b[0m\n\u001b[1;32m      3\u001b[0m \u001b[0mos\u001b[0m\u001b[0;34m.\u001b[0m\u001b[0mmakedirs\u001b[0m\u001b[0;34m(\u001b[0m \u001b[0mDIR_TMP\u001b[0m\u001b[0;34m,\u001b[0m \u001b[0mexist_ok\u001b[0m\u001b[0;34m=\u001b[0m\u001b[0;32mTrue\u001b[0m \u001b[0;34m)\u001b[0m\u001b[0;34m\u001b[0m\u001b[0;34m\u001b[0m\u001b[0m\n\u001b[1;32m      4\u001b[0m \u001b[0mpath\u001b[0m \u001b[0;34m=\u001b[0m \u001b[0mSAVE_DIR\u001b[0m \u001b[0;34m+\u001b[0m \u001b[0;34m'/url/'\u001b[0m \u001b[0;34m+\u001b[0m \u001b[0;34m'_url.txt'\u001b[0m\u001b[0;34m\u001b[0m\u001b[0;34m\u001b[0m\u001b[0m\n\u001b[0;32m----> 5\u001b[0;31m \u001b[0;32mwith\u001b[0m \u001b[0mopen\u001b[0m\u001b[0;34m(\u001b[0m \u001b[0mpath\u001b[0m\u001b[0;34m,\u001b[0m \u001b[0;34m'w'\u001b[0m\u001b[0;34m,\u001b[0m \u001b[0mencording\u001b[0m\u001b[0;34m=\u001b[0m\u001b[0;34m'utf-8'\u001b[0m \u001b[0;34m)\u001b[0m \u001b[0;32mas\u001b[0m \u001b[0mf\u001b[0m\u001b[0;34m:\u001b[0m\u001b[0;34m\u001b[0m\u001b[0;34m\u001b[0m\u001b[0m\n\u001b[0m\u001b[1;32m      6\u001b[0m   \u001b[0mf\u001b[0m\u001b[0;34m.\u001b[0m\u001b[0mwrite\u001b[0m\u001b[0;34m(\u001b[0m \u001b[0mdt_date_str\u001b[0m \u001b[0;34m+\u001b[0m \u001b[0;34m'\\n'\u001b[0m \u001b[0;34m)\u001b[0m\u001b[0;34m\u001b[0m\u001b[0;34m\u001b[0m\u001b[0m\n\u001b[1;32m      7\u001b[0m   \u001b[0mf\u001b[0m\u001b[0;34m.\u001b[0m\u001b[0mwrite\u001b[0m\u001b[0;34m(\u001b[0m \u001b[0mtotal_str\u001b[0m \u001b[0;34m+\u001b[0m \u001b[0;34m'\\n'\u001b[0m \u001b[0;34m)\u001b[0m\u001b[0;34m\u001b[0m\u001b[0;34m\u001b[0m\u001b[0m\n",
            "\u001b[0;31mTypeError\u001b[0m: 'encording' is an invalid keyword argument for open()"
          ]
        }
      ]
    },
    {
      "cell_type": "code",
      "source": [],
      "metadata": {
        "id": "3yjrPpPLRYNE"
      },
      "execution_count": null,
      "outputs": []
    }
  ]
}