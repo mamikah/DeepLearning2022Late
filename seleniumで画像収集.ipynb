{
  "nbformat": 4,
  "nbformat_minor": 0,
  "metadata": {
    "colab": {
      "provenance": [],
      "authorship_tag": "ABX9TyNpoUHZgqGdgxJexJzf7KlM",
      "include_colab_link": true
    },
    "kernelspec": {
      "name": "python3",
      "display_name": "Python 3"
    },
    "language_info": {
      "name": "python"
    }
  },
  "cells": [
    {
      "cell_type": "markdown",
      "metadata": {
        "id": "view-in-github",
        "colab_type": "text"
      },
      "source": [
        "<a href=\"https://colab.research.google.com/github/mamikah/DeepLearning2022Late/blob/main/selenium%E3%81%A7%E7%94%BB%E5%83%8F%E5%8F%8E%E9%9B%86.ipynb\" target=\"_parent\"><img src=\"https://colab.research.google.com/assets/colab-badge.svg\" alt=\"Open In Colab\"/></a>"
      ]
    },
    {
      "cell_type": "markdown",
      "source": [
        "# seleniumを使って自動で画像検索し、結果を収集する"
      ],
      "metadata": {
        "id": "38tyGi5LPbe3"
      }
    },
    {
      "cell_type": "markdown",
      "source": [
        "## 必要なアプリのインストール\n",
        "### Seleniumのインストール（バージョンを指定する）"
      ],
      "metadata": {
        "id": "totKo7yAPe9n"
      }
    },
    {
      "cell_type": "code",
      "execution_count": 1,
      "metadata": {
        "colab": {
          "base_uri": "https://localhost:8080/"
        },
        "id": "ec2Lv4B3PTzb",
        "outputId": "1cf705f7-da48-4b84-861b-545289e69ae6"
      },
      "outputs": [
        {
          "output_type": "stream",
          "name": "stdout",
          "text": [
            "Looking in indexes: https://pypi.org/simple, https://us-python.pkg.dev/colab-wheels/public/simple/\n",
            "Requirement already satisfied: selenium==4.1.0 in /usr/local/lib/python3.8/dist-packages (4.1.0)\n",
            "Requirement already satisfied: trio~=0.17 in /usr/local/lib/python3.8/dist-packages (from selenium==4.1.0) (0.22.0)\n",
            "Requirement already satisfied: urllib3[secure]~=1.26 in /usr/local/lib/python3.8/dist-packages (from selenium==4.1.0) (1.26.13)\n",
            "Requirement already satisfied: trio-websocket~=0.9 in /usr/local/lib/python3.8/dist-packages (from selenium==4.1.0) (0.9.2)\n",
            "Requirement already satisfied: sortedcontainers in /usr/local/lib/python3.8/dist-packages (from trio~=0.17->selenium==4.1.0) (2.4.0)\n",
            "Requirement already satisfied: async-generator>=1.9 in /usr/local/lib/python3.8/dist-packages (from trio~=0.17->selenium==4.1.0) (1.10)\n",
            "Requirement already satisfied: outcome in /usr/local/lib/python3.8/dist-packages (from trio~=0.17->selenium==4.1.0) (1.2.0)\n",
            "Requirement already satisfied: exceptiongroup>=1.0.0rc9 in /usr/local/lib/python3.8/dist-packages (from trio~=0.17->selenium==4.1.0) (1.0.4)\n",
            "Requirement already satisfied: sniffio in /usr/local/lib/python3.8/dist-packages (from trio~=0.17->selenium==4.1.0) (1.3.0)\n",
            "Requirement already satisfied: idna in /usr/local/lib/python3.8/dist-packages (from trio~=0.17->selenium==4.1.0) (2.10)\n",
            "Requirement already satisfied: attrs>=19.2.0 in /usr/local/lib/python3.8/dist-packages (from trio~=0.17->selenium==4.1.0) (22.1.0)\n",
            "Requirement already satisfied: wsproto>=0.14 in /usr/local/lib/python3.8/dist-packages (from trio-websocket~=0.9->selenium==4.1.0) (1.2.0)\n",
            "Requirement already satisfied: pyOpenSSL>=0.14 in /usr/local/lib/python3.8/dist-packages (from urllib3[secure]~=1.26->selenium==4.1.0) (22.1.0)\n",
            "Requirement already satisfied: certifi in /usr/local/lib/python3.8/dist-packages (from urllib3[secure]~=1.26->selenium==4.1.0) (2022.9.24)\n",
            "Requirement already satisfied: urllib3-secure-extra in /usr/local/lib/python3.8/dist-packages (from urllib3[secure]~=1.26->selenium==4.1.0) (0.1.0)\n",
            "Requirement already satisfied: cryptography>=1.3.4 in /usr/local/lib/python3.8/dist-packages (from urllib3[secure]~=1.26->selenium==4.1.0) (38.0.4)\n",
            "Requirement already satisfied: cffi>=1.12 in /usr/local/lib/python3.8/dist-packages (from cryptography>=1.3.4->urllib3[secure]~=1.26->selenium==4.1.0) (1.15.1)\n",
            "Requirement already satisfied: pycparser in /usr/local/lib/python3.8/dist-packages (from cffi>=1.12->cryptography>=1.3.4->urllib3[secure]~=1.26->selenium==4.1.0) (2.21)\n",
            "Requirement already satisfied: h11<1,>=0.9.0 in /usr/local/lib/python3.8/dist-packages (from wsproto>=0.14->trio-websocket~=0.9->selenium==4.1.0) (0.14.0)\n"
          ]
        }
      ],
      "source": [
        "!pip install selenium==4.1.0"
      ]
    },
    {
      "cell_type": "markdown",
      "source": [
        "### chronium-chromedriver のインストール"
      ],
      "metadata": {
        "id": "8C31cIitP4Dj"
      }
    },
    {
      "cell_type": "code",
      "source": [
        "!apt install chromium-chromedrive"
      ],
      "metadata": {
        "colab": {
          "base_uri": "https://localhost:8080/"
        },
        "id": "GPZdZnbtPh2W",
        "outputId": "e3c1043f-d077-4105-abec-ce6e111d3f93"
      },
      "execution_count": 2,
      "outputs": [
        {
          "output_type": "stream",
          "name": "stdout",
          "text": [
            "Reading package lists... Done\n",
            "Building dependency tree       \n",
            "Reading state information... Done\n",
            "E: Unable to locate package chromium-chromedrive\n"
          ]
        }
      ]
    },
    {
      "cell_type": "markdown",
      "source": [
        "## seleniumを実行して操作する"
      ],
      "metadata": {
        "id": "BHwL6y9rQEEp"
      }
    },
    {
      "cell_type": "markdown",
      "source": [
        "### その他のライブラリのimport"
      ],
      "metadata": {
        "id": "9ZNBv3XCQGTj"
      }
    },
    {
      "cell_type": "code",
      "source": [
        "import requests\n",
        "from selenium import webdriver\n",
        "from selenium.webdriver.chrome.options import Options\n",
        "import os\n",
        "import time\n",
        "import datetime\n",
        "# エラー処理用\n",
        "from selenium.common.exceptions import NoSuchElementException\n",
        "from selenium.common.exceptions import ElementClickInterceptedException"
      ],
      "metadata": {
        "colab": {
          "base_uri": "https://localhost:8080/"
        },
        "id": "fk6LENtiQBdU",
        "outputId": "29f12c3b-98c0-4f47-e001-2d92c39006ac"
      },
      "execution_count": 3,
      "outputs": [
        {
          "output_type": "stream",
          "name": "stderr",
          "text": [
            "/usr/local/lib/python3.8/dist-packages/requests/__init__.py:89: RequestsDependencyWarning: urllib3 (1.26.13) or chardet (3.0.4) doesn't match a supported version!\n",
            "  warnings.warn(\"urllib3 ({}) or chardet ({}) doesn't match a supported \"\n"
          ]
        }
      ]
    },
    {
      "cell_type": "markdown",
      "source": [
        "## ログ用に時刻を取得"
      ],
      "metadata": {
        "id": "FrUpadBmQLoH"
      }
    },
    {
      "cell_type": "code",
      "source": [
        "tm_start = time.time( ) # 処理時間計測用\n",
        "dt_now = datetime.datetime.now( ) # 現在日時\n",
        "dt_date_str = dt_now.strftime( '%Y/%m/%d %H:%M' ) # 書式指定して変換\n",
        "print( dt_date_str )"
      ],
      "metadata": {
        "colab": {
          "base_uri": "https://localhost:8080/"
        },
        "id": "cMEbUNLEQI2R",
        "outputId": "e97c782f-3f1c-4a8a-a361-816f9cc39ef0"
      },
      "execution_count": 4,
      "outputs": [
        {
          "output_type": "stream",
          "name": "stdout",
          "text": [
            "2022/12/12 03:07\n"
          ]
        }
      ]
    },
    {
      "cell_type": "markdown",
      "source": [
        "## 検索に関する設定値を定義する"
      ],
      "metadata": {
        "id": "Sg2WmQY3QPaF"
      }
    },
    {
      "cell_type": "code",
      "source": [
        "QUERY = '犬 フリー' # 検索したいキーワード\n",
        "LIMIT_DL_NUM = 100 # ダウンロード数の上限\n",
        "SAVE_DIR = 'img/dog_' # 出力フォルダ（自動生成させる）\n",
        "FILE_NAME = 'dog_' # ファイル名（後ろに連番と拡張子をつけていく）\n",
        "TIMEOUT = 60 # 検索のタイムアウト（秒）\n",
        "ACCESS_WAIT = 1 # アクセスする間隔(秒)←超重要\n",
        "RETRY_NUM = 3 # クリックやrequestのリトライ回数\n",
        "DRIVER_PATH = '/usr/bin/chromedriver' # chromedriver.exeへのパス"
      ],
      "metadata": {
        "id": "wPZMgRncQNtO"
      },
      "execution_count": 5,
      "outputs": []
    },
    {
      "cell_type": "markdown",
      "source": [
        "## Chromeをヘッドレスモードで起動する\n",
        "\n",
        "ヘッドレスモード = ブラウザを画面に開かないで実行するモード"
      ],
      "metadata": {
        "id": "xOhDRJ7eQUJv"
      }
    },
    {
      "cell_type": "code",
      "source": [
        "# optionの指定を準備\n",
        "options = Options( )\n",
        "options.add_argument( '--headless' )\n",
        "options.add_argument(  '--no-sandbox'  )\n",
        "options.add_argument(  '--disable-dev-shm-usage'  )\n",
        "options.add_argument(  'start-fullscreen'  )\n",
        "options.add_argument(  '--disable-plugins'  )\n",
        "options.add_argument(  '--disable-extensions'  )\n",
        "# 起動する\n",
        "driver = webdriver.Chrome( DRIVER_PATH, options=options )\n",
        "\n",
        "driver.implicitly_wait( TIMEOUT ) # タイムアウトを設定\n",
        "# ログに処理時間を出力\n",
        "tm_driver = time.time(  )\n",
        "print( 'WebDriver起動完了', f'{tm_driver - tm_start:.1f}s' )"
      ],
      "metadata": {
        "colab": {
          "base_uri": "https://localhost:8080/",
          "height": 558
        },
        "id": "el4vmO9hQRK-",
        "outputId": "c7860149-fc11-4b45-986e-41848ac8ca58"
      },
      "execution_count": 6,
      "outputs": [
        {
          "output_type": "stream",
          "name": "stderr",
          "text": [
            "<ipython-input-6-0e87959f723b>:10: DeprecationWarning: executable_path has been deprecated, please pass in a Service object\n",
            "  driver = webdriver.Chrome( DRIVER_PATH, options=options )\n"
          ]
        },
        {
          "output_type": "error",
          "ename": "WebDriverException",
          "evalue": "ignored",
          "traceback": [
            "\u001b[0;31m---------------------------------------------------------------------------\u001b[0m",
            "\u001b[0;31mFileNotFoundError\u001b[0m                         Traceback (most recent call last)",
            "\u001b[0;32m/usr/local/lib/python3.8/dist-packages/selenium/webdriver/common/service.py\u001b[0m in \u001b[0;36mstart\u001b[0;34m(self)\u001b[0m\n\u001b[1;32m     70\u001b[0m             \u001b[0mcmd\u001b[0m\u001b[0;34m.\u001b[0m\u001b[0mextend\u001b[0m\u001b[0;34m(\u001b[0m\u001b[0mself\u001b[0m\u001b[0;34m.\u001b[0m\u001b[0mcommand_line_args\u001b[0m\u001b[0;34m(\u001b[0m\u001b[0;34m)\u001b[0m\u001b[0;34m)\u001b[0m\u001b[0;34m\u001b[0m\u001b[0;34m\u001b[0m\u001b[0m\n\u001b[0;32m---> 71\u001b[0;31m             self.process = subprocess.Popen(cmd, env=self.env,\n\u001b[0m\u001b[1;32m     72\u001b[0m                                             \u001b[0mclose_fds\u001b[0m\u001b[0;34m=\u001b[0m\u001b[0msystem\u001b[0m\u001b[0;34m(\u001b[0m\u001b[0;34m)\u001b[0m \u001b[0;34m!=\u001b[0m \u001b[0;34m'Windows'\u001b[0m\u001b[0;34m,\u001b[0m\u001b[0;34m\u001b[0m\u001b[0;34m\u001b[0m\u001b[0m\n",
            "\u001b[0;32m/usr/lib/python3.8/subprocess.py\u001b[0m in \u001b[0;36m__init__\u001b[0;34m(self, args, bufsize, executable, stdin, stdout, stderr, preexec_fn, close_fds, shell, cwd, env, universal_newlines, startupinfo, creationflags, restore_signals, start_new_session, pass_fds, encoding, errors, text)\u001b[0m\n\u001b[1;32m    857\u001b[0m \u001b[0;34m\u001b[0m\u001b[0m\n\u001b[0;32m--> 858\u001b[0;31m             self._execute_child(args, executable, preexec_fn, close_fds,\n\u001b[0m\u001b[1;32m    859\u001b[0m                                 \u001b[0mpass_fds\u001b[0m\u001b[0;34m,\u001b[0m \u001b[0mcwd\u001b[0m\u001b[0;34m,\u001b[0m \u001b[0menv\u001b[0m\u001b[0;34m,\u001b[0m\u001b[0;34m\u001b[0m\u001b[0;34m\u001b[0m\u001b[0m\n",
            "\u001b[0;32m/usr/lib/python3.8/subprocess.py\u001b[0m in \u001b[0;36m_execute_child\u001b[0;34m(self, args, executable, preexec_fn, close_fds, pass_fds, cwd, env, startupinfo, creationflags, shell, p2cread, p2cwrite, c2pread, c2pwrite, errread, errwrite, restore_signals, start_new_session)\u001b[0m\n\u001b[1;32m   1703\u001b[0m                         \u001b[0merr_msg\u001b[0m \u001b[0;34m=\u001b[0m \u001b[0mos\u001b[0m\u001b[0;34m.\u001b[0m\u001b[0mstrerror\u001b[0m\u001b[0;34m(\u001b[0m\u001b[0merrno_num\u001b[0m\u001b[0;34m)\u001b[0m\u001b[0;34m\u001b[0m\u001b[0;34m\u001b[0m\u001b[0m\n\u001b[0;32m-> 1704\u001b[0;31m                     \u001b[0;32mraise\u001b[0m \u001b[0mchild_exception_type\u001b[0m\u001b[0;34m(\u001b[0m\u001b[0merrno_num\u001b[0m\u001b[0;34m,\u001b[0m \u001b[0merr_msg\u001b[0m\u001b[0;34m,\u001b[0m \u001b[0merr_filename\u001b[0m\u001b[0;34m)\u001b[0m\u001b[0;34m\u001b[0m\u001b[0;34m\u001b[0m\u001b[0m\n\u001b[0m\u001b[1;32m   1705\u001b[0m                 \u001b[0;32mraise\u001b[0m \u001b[0mchild_exception_type\u001b[0m\u001b[0;34m(\u001b[0m\u001b[0merr_msg\u001b[0m\u001b[0;34m)\u001b[0m\u001b[0;34m\u001b[0m\u001b[0;34m\u001b[0m\u001b[0m\n",
            "\u001b[0;31mFileNotFoundError\u001b[0m: [Errno 2] No such file or directory: '/usr/bin/chromedriver'",
            "\nDuring handling of the above exception, another exception occurred:\n",
            "\u001b[0;31mWebDriverException\u001b[0m                        Traceback (most recent call last)",
            "\u001b[0;32m<ipython-input-6-0e87959f723b>\u001b[0m in \u001b[0;36m<module>\u001b[0;34m\u001b[0m\n\u001b[1;32m      8\u001b[0m \u001b[0moptions\u001b[0m\u001b[0;34m.\u001b[0m\u001b[0madd_argument\u001b[0m\u001b[0;34m(\u001b[0m  \u001b[0;34m'--disable-extensions'\u001b[0m  \u001b[0;34m)\u001b[0m\u001b[0;34m\u001b[0m\u001b[0;34m\u001b[0m\u001b[0m\n\u001b[1;32m      9\u001b[0m \u001b[0;31m# 起動する\u001b[0m\u001b[0;34m\u001b[0m\u001b[0;34m\u001b[0m\u001b[0;34m\u001b[0m\u001b[0m\n\u001b[0;32m---> 10\u001b[0;31m \u001b[0mdriver\u001b[0m \u001b[0;34m=\u001b[0m \u001b[0mwebdriver\u001b[0m\u001b[0;34m.\u001b[0m\u001b[0mChrome\u001b[0m\u001b[0;34m(\u001b[0m \u001b[0mDRIVER_PATH\u001b[0m\u001b[0;34m,\u001b[0m \u001b[0moptions\u001b[0m\u001b[0;34m=\u001b[0m\u001b[0moptions\u001b[0m \u001b[0;34m)\u001b[0m\u001b[0;34m\u001b[0m\u001b[0;34m\u001b[0m\u001b[0m\n\u001b[0m\u001b[1;32m     11\u001b[0m \u001b[0;34m\u001b[0m\u001b[0m\n\u001b[1;32m     12\u001b[0m \u001b[0mdriver\u001b[0m\u001b[0;34m.\u001b[0m\u001b[0mimplicitly_wait\u001b[0m\u001b[0;34m(\u001b[0m \u001b[0mTIMEOUT\u001b[0m \u001b[0;34m)\u001b[0m \u001b[0;31m# タイムアウトを設定\u001b[0m\u001b[0;34m\u001b[0m\u001b[0;34m\u001b[0m\u001b[0m\n",
            "\u001b[0;32m/usr/local/lib/python3.8/dist-packages/selenium/webdriver/chrome/webdriver.py\u001b[0m in \u001b[0;36m__init__\u001b[0;34m(self, executable_path, port, options, service_args, desired_capabilities, service_log_path, chrome_options, service, keep_alive)\u001b[0m\n\u001b[1;32m     68\u001b[0m             \u001b[0mservice\u001b[0m \u001b[0;34m=\u001b[0m \u001b[0mService\u001b[0m\u001b[0;34m(\u001b[0m\u001b[0mexecutable_path\u001b[0m\u001b[0;34m,\u001b[0m \u001b[0mport\u001b[0m\u001b[0;34m,\u001b[0m \u001b[0mservice_args\u001b[0m\u001b[0;34m,\u001b[0m \u001b[0mservice_log_path\u001b[0m\u001b[0;34m)\u001b[0m\u001b[0;34m\u001b[0m\u001b[0;34m\u001b[0m\u001b[0m\n\u001b[1;32m     69\u001b[0m \u001b[0;34m\u001b[0m\u001b[0m\n\u001b[0;32m---> 70\u001b[0;31m         super(WebDriver, self).__init__(DesiredCapabilities.CHROME['browserName'], \"goog\",\n\u001b[0m\u001b[1;32m     71\u001b[0m                                         \u001b[0mport\u001b[0m\u001b[0;34m,\u001b[0m \u001b[0moptions\u001b[0m\u001b[0;34m,\u001b[0m\u001b[0;34m\u001b[0m\u001b[0;34m\u001b[0m\u001b[0m\n\u001b[1;32m     72\u001b[0m                                         \u001b[0mservice_args\u001b[0m\u001b[0;34m,\u001b[0m \u001b[0mdesired_capabilities\u001b[0m\u001b[0;34m,\u001b[0m\u001b[0;34m\u001b[0m\u001b[0;34m\u001b[0m\u001b[0m\n",
            "\u001b[0;32m/usr/local/lib/python3.8/dist-packages/selenium/webdriver/chromium/webdriver.py\u001b[0m in \u001b[0;36m__init__\u001b[0;34m(self, browser_name, vendor_prefix, port, options, service_args, desired_capabilities, service_log_path, service, keep_alive)\u001b[0m\n\u001b[1;32m     88\u001b[0m \u001b[0;34m\u001b[0m\u001b[0m\n\u001b[1;32m     89\u001b[0m         \u001b[0mself\u001b[0m\u001b[0;34m.\u001b[0m\u001b[0mservice\u001b[0m \u001b[0;34m=\u001b[0m \u001b[0mservice\u001b[0m\u001b[0;34m\u001b[0m\u001b[0;34m\u001b[0m\u001b[0m\n\u001b[0;32m---> 90\u001b[0;31m         \u001b[0mself\u001b[0m\u001b[0;34m.\u001b[0m\u001b[0mservice\u001b[0m\u001b[0;34m.\u001b[0m\u001b[0mstart\u001b[0m\u001b[0;34m(\u001b[0m\u001b[0;34m)\u001b[0m\u001b[0;34m\u001b[0m\u001b[0;34m\u001b[0m\u001b[0m\n\u001b[0m\u001b[1;32m     91\u001b[0m \u001b[0;34m\u001b[0m\u001b[0m\n\u001b[1;32m     92\u001b[0m         \u001b[0;32mtry\u001b[0m\u001b[0;34m:\u001b[0m\u001b[0;34m\u001b[0m\u001b[0;34m\u001b[0m\u001b[0m\n",
            "\u001b[0;32m/usr/local/lib/python3.8/dist-packages/selenium/webdriver/common/service.py\u001b[0m in \u001b[0;36mstart\u001b[0;34m(self)\u001b[0m\n\u001b[1;32m     79\u001b[0m         \u001b[0;32mexcept\u001b[0m \u001b[0mOSError\u001b[0m \u001b[0;32mas\u001b[0m \u001b[0merr\u001b[0m\u001b[0;34m:\u001b[0m\u001b[0;34m\u001b[0m\u001b[0;34m\u001b[0m\u001b[0m\n\u001b[1;32m     80\u001b[0m             \u001b[0;32mif\u001b[0m \u001b[0merr\u001b[0m\u001b[0;34m.\u001b[0m\u001b[0merrno\u001b[0m \u001b[0;34m==\u001b[0m \u001b[0merrno\u001b[0m\u001b[0;34m.\u001b[0m\u001b[0mENOENT\u001b[0m\u001b[0;34m:\u001b[0m\u001b[0;34m\u001b[0m\u001b[0;34m\u001b[0m\u001b[0m\n\u001b[0;32m---> 81\u001b[0;31m                 raise WebDriverException(\n\u001b[0m\u001b[1;32m     82\u001b[0m                     \"'%s' executable needs to be in PATH. %s\" % (\n\u001b[1;32m     83\u001b[0m                         os.path.basename(self.path), self.start_error_message)\n",
            "\u001b[0;31mWebDriverException\u001b[0m: Message: 'chromedriver' executable needs to be in PATH. Please see https://chromedriver.chromium.org/home\n"
          ]
        }
      ]
    },
    {
      "cell_type": "markdown",
      "source": [
        "## Googleの画像検索へアクセス"
      ],
      "metadata": {
        "id": "zDcfipAOQaZW"
      }
    },
    {
      "cell_type": "code",
      "source": [
        "# QUERY条件付きでURLを定義する\n",
        "url = f'https://www.google.com/search?q={QUERY}&tbm=isch'\n",
        "# 組み立てたURLでアクセスして検索\n",
        "driver.get( url)\n",
        "# 時刻のログを取得\n",
        "tm_geturl = time.time( )\n",
        "print( 'Google画像検索ページ取得', f'{tm_geturl - tm_driver:.1f}s' )"
      ],
      "metadata": {
        "id": "2inEQNYzQcY8"
      },
      "execution_count": null,
      "outputs": []
    },
    {
      "cell_type": "markdown",
      "source": [
        "## 検索結果の要素を取得していく"
      ],
      "metadata": {
        "id": "tSs8HIDoQb6t"
      }
    },
    {
      "cell_type": "code",
      "source": [
        "# ページのサムネイル画像の要素群を取得\n",
        "# (islmpクラスが指定されたimg=サムネイルをすべて拾う)\n",
        "tmb_elems = driver.find_elements_by_css_selector('#islmp img')\n",
        "# サムネイルのリストから各サムネイルのalt属性を取得していく\n",
        "tmb_alts = [ tmb.get_attribute('alt') for tmb in tmb_elems ]\n",
        "# alt属性が空（小さいサムネイル）のものを差し引いて合計を算出\n",
        "count = len(tmb_alts) - tmb_alts.count('')\n",
        "print(count)"
      ],
      "metadata": {
        "id": "jETUGW6TQWW0"
      },
      "execution_count": null,
      "outputs": []
    },
    {
      "cell_type": "markdown",
      "source": [
        "## 下にスクロールさせてさらに検索結果を表示させてまたカウント"
      ],
      "metadata": {
        "id": "y3KtTmDUQkBo"
      }
    },
    {
      "cell_type": "code",
      "source": [
        "# 定義したLIMIT_DL_NUM（ダウンロード数の上限）になるまでスクロールを繰り返す\n",
        "while count < LIMIT_DL_NUM:\n",
        "  # ページの一番下へスクロールして新しいサムネイル画像を表示させる\n",
        "  driver.execute_script( 'window.scrollTo(0, document.body.scrollHeight);' )\n",
        "  time.sleep( 1 ) # スリープを繰り返す間隔(秒)を入れる ←重要\n",
        "  # (islmpクラスが指定されたimg=サムネイルをすべて拾う)\n",
        "  tmb_elems = driver.find_elements_by_css_selector('#islmp img')\n",
        "  # サムネイルのリストから各サムネイルのalt属性を取得していく\n",
        "  tmb_alts = [ tmb.get_attribute('alt') for tmb in tmb_elems ]\n",
        "  # alt属性が空（小さいサムネイル）のものを差し引いて合計を算出\n",
        "  count = len(tmb_alts) - tmb_alts.count('')\n",
        "  print(count)\n",
        "# ループ終わり"
      ],
      "metadata": {
        "id": "Fm8p4UaWQhto"
      },
      "execution_count": null,
      "outputs": []
    },
    {
      "cell_type": "markdown",
      "source": [
        "## サムネイル画像をクリックすると右側に開かれる領域をオブジェクトに取得"
      ],
      "metadata": {
        "id": "ARjjs6VDQn91"
      }
    },
    {
      "cell_type": "code",
      "source": [
        "imgframe_elem = driver.find_element_by_id( ('islsp') )"
      ],
      "metadata": {
        "id": "rKrnFnk3Ql8l"
      },
      "execution_count": null,
      "outputs": []
    },
    {
      "cell_type": "markdown",
      "source": [
        "### 画像へURLアクセスして保存する準備をする"
      ],
      "metadata": {
        "id": "pXU8jBywQsc2"
      }
    },
    {
      "cell_type": "code",
      "source": [
        "# 画像の保存フォルダを作成\n",
        "os.makedirs( SAVE_DIR, exist_ok=True )\n",
        "# HTTPリクエスト用のヘッダーを作る\n",
        "HTTP_HEADERS = {'User-Aget':driver.execute_script('return navigator.userAgent;')}\n",
        "print( HTTP_HEADERS )\n",
        "# ダウンロードしてきたい対象のファイル拡張子(extensios)\n",
        "IMG_EXTS = ( '.jpg', '.jpeg', '.png', '.gif' )"
      ],
      "metadata": {
        "id": "thEXcPkQQpq_"
      },
      "execution_count": null,
      "outputs": []
    },
    {
      "cell_type": "markdown",
      "source": [
        "## ダウンロード中に利用する関数を定義する\n",
        "### 画像の拡張子を取得する関数"
      ],
      "metadata": {
        "id": "AgU3inNDQwTL"
      }
    },
    {
      "cell_type": "code",
      "source": [
        "# 拡張子を取得する関数\n",
        "def get_extension( url ):\n",
        "  url_lower = url.lower()\n",
        "  for img_ext in IMG_EXTS: # 拡張子のリストから１つずつ比較\n",
        "    if img_ext in url_lower:\n",
        "      extension = '.jpg' if img_ext == '.jpeg' else img_ext\n",
        "      break\n",
        "    # if終わり\n",
        "    else:\n",
        "        extension = ''\n",
        "  # for終わり\n",
        "  return extension\n",
        "# 関数終わり"
      ],
      "metadata": {
        "id": "PPV_zUduQuK6"
      },
      "execution_count": null,
      "outputs": []
    },
    {
      "cell_type": "markdown",
      "source": [
        "### urlで指定した画像へアクセスし、フォルダ内のファイルとして書き込む"
      ],
      "metadata": {
        "id": "buL3OBqKQz1W"
      }
    },
    {
      "cell_type": "code",
      "source": [
        "def download_image(  url, path, loop ):\n",
        "  result = False  # 戻り値の変数\n",
        "  for i in range(loop):\n",
        "    try:\n",
        "      r = requests.get( url, headers=HTTP_HEADERS, stream=True, timeout=10 )\n",
        "      r.raise_for_status( )\n",
        "      with open ( path, 'wb' ) as f: # バイナリ書き込みモードで開く\n",
        "        f.write( r.content )\n",
        "\n",
        "    except requests.exceptions.SSLError:\n",
        "      print('****** SSL エラー')\n",
        "      break # リトライしない  \n",
        "    except requests.exceptions.RequestException as e:\n",
        "      print( f'***** requests エラー( {e} ): {i + 1}/{RETRY_NUM}' )\n",
        "      time.sleep(1)\n",
        "    else:\n",
        "      result = True\n",
        "      break # try成功\n",
        "  # ループ終わり  \n",
        "# 関数終わり"
      ],
      "metadata": {
        "id": "CAtHIHjAQyOB"
      },
      "execution_count": null,
      "outputs": []
    },
    {
      "cell_type": "markdown",
      "source": [
        "### サムネイルを取得し、画像ダウンロードの準備ができたタイミング"
      ],
      "metadata": {
        "id": "5oVw3K-EQ322"
      }
    },
    {
      "cell_type": "code",
      "source": [
        "tm_thumbnails = time.time( )\n",
        "print( 'サムネイル画像取得とＤＬ準備完了', f'{tm_thumbnails - tm_geturl:.1f}s' )"
      ],
      "metadata": {
        "id": "UzT6kIS5Q2Wf"
      },
      "execution_count": null,
      "outputs": []
    },
    {
      "cell_type": "markdown",
      "source": [
        "## ダウンロード処理"
      ],
      "metadata": {
        "id": "XkfsxJ54Q8Cn"
      }
    },
    {
      "cell_type": "code",
      "source": [
        "EXCLUSION_URL = 'https//lh3.googleusercontent.com/' # 除外対象URL\n",
        "count = 0\n",
        "url_list = [ ]\n",
        "\n",
        "# サムネイルをクリック、画像リンクを取得、画像をDL＆保存を繰り返す\n",
        "# zipで組み合わせの順番を固定化\n",
        "for tmb_elem, tmb_alt in zip(tmb_elems, tmb_alts): \n",
        "  if tmb_alt == '': # ALT属性が空=小さいサムネイルとみなしてスキップ\n",
        "    continue  \n",
        "  print(  f'{count}:{tmb_alt}'  ) # カウンタとALT属性を表示\n",
        "  # リトライ回数分だけ試行\n",
        "  for i in range(RETRY_NUM):\n",
        "    # サムネイルをクリック\n",
        "    try:\n",
        "      tmb_elem.click( )\n",
        "    except ElementClickInterceptedException:\n",
        "      print(f'***** click エラー: {i+1}/{RETRY_NUM}')\n",
        "      # フォーカスをあわせる\n",
        "      driver.execute_script('arguments[0].scrollIntoView(true);', tmb_elem)\n",
        "      time.sleep(1)\n",
        "    else:\n",
        "      break # try成功（クリック成功）\n",
        "  # forの終わり\n",
        "  else: \n",
        "    print('***** キャンセル')\n",
        "    continue # リトライ失敗、次のアイコンにスキップ\n",
        "  # クリック成功したら、処理を続ける（画像のオブジェクトを取得する処理）\n",
        "  time.sleep(ACCESS_WAIT)\n",
        "  # alt属性の加工\n",
        "  alt = tmb_alt.replace(\"'\",\"\\\\\")\n",
        "  try:\n",
        "    # 左側のalt属性を基に左側の大きな画像をalt属性を指定して取得\n",
        "    img_elem = imgframe_elem.find_element_by_css_selector(f'img[alt=\\'{alt}\\']')\n",
        "  except NoSuchElementException:  # 右側に対応する要素が見つからない\n",
        "    print('***** img要素検索エラー')\n",
        "    print('***** キャンセル')\n",
        "    continue # 次のサムネイルへスキップ\n",
        "  # 右の大きな画像オブジェクトが取得できたら、その画像リンクを取得する\n",
        "\n",
        "  tmb_url = tmb_elem.get_attribute('src')  # サムネイルsrc属性からリンクurlを取得\n",
        "  # リトライしながらURLをチェック\n",
        "  for i in range(RETRY_NUM):\n",
        "    # 大きい画像のURL\n",
        "    url = img_elem.get_attribute('src')\n",
        "    if EXCLUSION_URL in url:\n",
        "      print('除外対象url')\n",
        "      url=''\n",
        "      break # ループ中断\n",
        "    elif url == tmb_url: # サムネイルのurlと一緒なら、リトライを続ける\n",
        "      print(f'***** urlチェック:{i+1}/{RETRY_NUM}')\n",
        "    else:\n",
        "      break # ループ中断（除外対象でもサムネイルでもない、OKなurl）\n",
        "    # RETRYループ終わり\n",
        "  # urlチェックの結果、OKなリンクでなければ次のサムネイルへスキップ\n",
        "  if url == '':\n",
        "    print('***** キャンセル') # 大きなループをcontinue\n",
        "    continue\n",
        "  # url先の拡張子が指定の画像拡張子でなければ次のサムネイルへスキップ\n",
        "  ext = get_extension( url ) # 自作の関数で拡張子を取得\n",
        "  if ext == '': # 指定の画像拡張子でない場合\n",
        "    print(f'***** urlに拡張子が含まれていないのでキャンセル')\n",
        "    print(f'{url}')\n",
        "    continue\n",
        "  \n",
        "  # ダウンロード周り:保存するファイルパスを指定する\n",
        "  filename = f'{FILE_NAME}{count}{ext}'\n",
        "  path = SAVE_DIR + '/' + filename\n",
        "  # ダウンロードを実行（自作関数を呼び出す）\n",
        "  result = download_image( url, path, RETRY_NUM )\n",
        "  if result == False:\n",
        "    print('***** キャンセル')\n",
        "    continue # 次のサムネイルへスキップ\n",
        "  # ダウンロードしたurlをリストに追加\n",
        "  url_list.append(f'{filename}:{url}')\n",
        "\n",
        "  # 最後に、ダウンロード数カウンタの更新と終了判定\n",
        "  count += 1\n",
        "  if count >= LIMIT_DL_NUM:\n",
        "    break # ダウンロードのループを終了\n",
        "# ループの終了\n",
        "# 所領時間の表示\n",
        "tm_end = time.time( ) # 現在時刻\n",
        "print('ダウンロード', f'{tm_end - tm_thumbnails:.1f}s')\n",
        "print('-------------------------')"
      ],
      "metadata": {
        "id": "VIeGrDKPQ6En"
      },
      "execution_count": null,
      "outputs": []
    },
    {
      "cell_type": "markdown",
      "source": [
        "## Colabo上へダウンロードしたファイルをipで固めてローカルにダウンロードする"
      ],
      "metadata": {
        "id": "Vruvd1IKRCxI"
      }
    },
    {
      "cell_type": "code",
      "source": [
        "# ここまでのトータル所要時間を出力する\n",
        "total = tm_end - tm_start\n",
        "total_str = f'トータル時間:{total:.1f}s({total/60:.2f}min)'\n",
        "count_str = f'ダウンロード数:{count}'\n",
        "print(total_str)\n",
        "print(count_str)"
      ],
      "metadata": {
        "id": "Cjb-dBBhRAe6"
      },
      "execution_count": null,
      "outputs": []
    },
    {
      "cell_type": "markdown",
      "source": [
        "### Google検索してダウンロードした画像のURLもテキストに保存してローカルPCへダウンロードする"
      ],
      "metadata": {
        "id": "JdazvC3lRTrZ"
      }
    },
    {
      "cell_type": "code",
      "source": [
        "# URLを書き込むテキストファイルの場所\n",
        "DIR_TMP = SAVE_DIR + '/url/'\n",
        "os.makedirs( DIR_TMP, exist_ok=True )\n",
        "path = SAVE_DIR + '/url/' + '_url.txt'\n",
        "with open( path, 'w', encording='utf-8' ) as f:\n",
        "  f.write( dt_date_str + '\\n' )\n",
        "  f.write( total_str + '\\n' )\n",
        "  f.write( count_str + '\\n' )\n",
        "  f.write( '\\n'.join( url_list ) )\n",
        "# open ここまで\n",
        "driver.quit( ) # ブラウザを閉じる"
      ],
      "metadata": {
        "id": "NaFQsbU4RFNn"
      },
      "execution_count": null,
      "outputs": []
    },
    {
      "cell_type": "markdown",
      "source": [
        "#### URLテキストと画像ファイルをローカルPCにダウンロード"
      ],
      "metadata": {
        "id": "Zopd7NoTRy5c"
      }
    },
    {
      "cell_type": "code",
      "source": [
        "# ダウンロードしたフォルダをzpiに圧縮する\n",
        "!zip -r /content/img_download.zip  /content/img\n",
        "# 圧縮したzipファイルをダウンロードする\n",
        "from google.colab import files\n",
        "files.download(\"/content/img_download.zip\")"
      ],
      "metadata": {
        "id": "3yjrPpPLRYNE"
      },
      "execution_count": null,
      "outputs": []
    }
  ]
}