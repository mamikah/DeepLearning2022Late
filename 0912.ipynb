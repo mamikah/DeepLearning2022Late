{
  "nbformat": 4,
  "nbformat_minor": 0,
  "metadata": {
    "colab": {
      "provenance": [],
      "collapsed_sections": [],
      "authorship_tag": "ABX9TyMU+yUJjm1sTyXEWYKdSG8q",
      "include_colab_link": true
    },
    "kernelspec": {
      "name": "python3",
      "display_name": "Python 3"
    },
    "language_info": {
      "name": "python"
    }
  },
  "cells": [
    {
      "cell_type": "markdown",
      "metadata": {
        "id": "view-in-github",
        "colab_type": "text"
      },
      "source": [
        "<a href=\"https://colab.research.google.com/github/mamikah/DeepLearning2022Late/blob/main/0912.ipynb\" target=\"_parent\"><img src=\"https://colab.research.google.com/assets/colab-badge.svg\" alt=\"Open In Colab\"/></a>"
      ]
    },
    {
      "cell_type": "code",
      "execution_count": null,
      "metadata": {
        "colab": {
          "base_uri": "https://localhost:8080/"
        },
        "id": "9c67Ir5BnkC5",
        "outputId": "0aa9a4f6-a463-4d35-be89-10c9c760b43f"
      },
      "outputs": [
        {
          "output_type": "stream",
          "name": "stdout",
          "text": [
            "Hello world\n"
          ]
        }
      ],
      "source": [
        "print(\"Hello world\")"
      ]
    },
    {
      "cell_type": "code",
      "source": [
        "x = 1.2335\n",
        "print(x)\n",
        "print(type(x))"
      ],
      "metadata": {
        "colab": {
          "base_uri": "https://localhost:8080/"
        },
        "id": "qJoxT65ooyzY",
        "outputId": "4becb40f-6b34-49ea-d726-88d3cf82d408"
      },
      "execution_count": null,
      "outputs": [
        {
          "output_type": "stream",
          "name": "stdout",
          "text": [
            "1.2335\n",
            "<class 'float'>\n"
          ]
        }
      ]
    },
    {
      "cell_type": "code",
      "source": [
        "# 整数型、文字列型も表示する\n",
        "seisuu = 100\n",
        "print(type(seisuu))\n",
        "hello = \"Hello Python\"\n",
        "print(type(hello))"
      ],
      "metadata": {
        "colab": {
          "base_uri": "https://localhost:8080/"
        },
        "id": "9-iQkuOepPUR",
        "outputId": "67594e91-f366-4bf4-a222-8f7649142d64"
      },
      "execution_count": null,
      "outputs": [
        {
          "output_type": "stream",
          "name": "stdout",
          "text": [
            "<class 'int'>\n",
            "<class 'str'>\n"
          ]
        }
      ]
    },
    {
      "cell_type": "code",
      "source": [
        "# 型を変換する\n",
        "print(\"変換前:\",type(seisuu)) #整数型\n",
        "# 文字列型に変換\n",
        "strSeisuu = str(seisuu)\n",
        "print(\"変換後:\",type(strSeisuu))"
      ],
      "metadata": {
        "colab": {
          "base_uri": "https://localhost:8080/"
        },
        "id": "i8IuMk01p8Lc",
        "outputId": "561ce965-6834-44d5-a6eb-b942ad52c37a"
      },
      "execution_count": null,
      "outputs": [
        {
          "output_type": "stream",
          "name": "stdout",
          "text": [
            "変換前: <class 'int'>\n",
            "変換後: <class 'str'>\n"
          ]
        }
      ]
    },
    {
      "cell_type": "code",
      "source": [
        "# 定数\n",
        "# python3では None,True/False は置き換え不可のキーワード\n",
        "print(type(None))\n",
        "# True/Falseはboolean\n",
        "print(type(True))\n",
        "print(type(False))"
      ],
      "metadata": {
        "colab": {
          "base_uri": "https://localhost:8080/"
        },
        "id": "B5S48tH-rXjw",
        "outputId": "eadad0fc-4c3e-406c-e1b3-23c76c35ee20"
      },
      "execution_count": null,
      "outputs": [
        {
          "output_type": "stream",
          "name": "stdout",
          "text": [
            "<class 'NoneType'>\n",
            "<class 'bool'>\n",
            "<class 'bool'>\n"
          ]
        }
      ]
    },
    {
      "cell_type": "markdown",
      "source": [
        "# 演算の練習"
      ],
      "metadata": {
        "id": "DG3Kv2t2VCA4"
      }
    },
    {
      "cell_type": "code",
      "source": [
        "# 足し算引き算掛け算はjavaと一緒\n",
        "# 割り算に注意\n",
        "print(\"6/4=\",6/4)\n",
        "# pythonは整数同士の割り算も小数になる\n",
        "# 整数だけ出したい時は\n",
        "print(\"6//4=\",6//4)\n",
        "#あまり残もjavaと一緒"
      ],
      "metadata": {
        "colab": {
          "base_uri": "https://localhost:8080/"
        },
        "id": "qrMs3PfBspYN",
        "outputId": "782add56-09e3-4f29-9745-6ee649a1716e"
      },
      "execution_count": null,
      "outputs": [
        {
          "output_type": "stream",
          "name": "stdout",
          "text": [
            "6/4= 1.5\n",
            "6//4= 1\n"
          ]
        }
      ]
    },
    {
      "cell_type": "code",
      "source": [
        "# 絶対値を出す関数\n",
        "print(\"-3.14の絶対値:\",abs(-3.14))\n",
        "# n乗計算\n",
        "print(\"3の4乗(pow):\",pow(3,4))\n",
        "print(\"3の4乗(**):\",3**4)"
      ],
      "metadata": {
        "colab": {
          "base_uri": "https://localhost:8080/"
        },
        "id": "WmJKn0Wrszgi",
        "outputId": "e0ac147b-f961-4cd6-e450-b08394690ddd"
      },
      "execution_count": null,
      "outputs": [
        {
          "output_type": "stream",
          "name": "stdout",
          "text": [
            "-3.14の絶対値: 3.14\n",
            "3の4乗(pow): 81\n",
            "3の4乗(**): 81\n"
          ]
        }
      ]
    },
    {
      "cell_type": "code",
      "source": [],
      "metadata": {
        "id": "42vQpNMptpxf"
      },
      "execution_count": null,
      "outputs": []
    }
  ]
}