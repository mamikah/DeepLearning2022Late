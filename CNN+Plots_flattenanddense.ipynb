{
  "nbformat": 4,
  "nbformat_minor": 0,
  "metadata": {
    "colab": {
      "provenance": [],
      "authorship_tag": "ABX9TyOBdA/Qjsf09a1c5WATov7m",
      "include_colab_link": true
    },
    "kernelspec": {
      "name": "python3",
      "display_name": "Python 3"
    },
    "language_info": {
      "name": "python"
    }
  },
  "cells": [
    {
      "cell_type": "markdown",
      "metadata": {
        "id": "view-in-github",
        "colab_type": "text"
      },
      "source": [
        "<a href=\"https://colab.research.google.com/github/mamikah/DeepLearning2022Late/blob/main/CNN%2BPlots_flattenanddense.ipynb\" target=\"_parent\"><img src=\"https://colab.research.google.com/assets/colab-badge.svg\" alt=\"Open In Colab\"/></a>"
      ]
    },
    {
      "cell_type": "markdown",
      "source": [
        "# 畳み込み層（Conv2D）を追加した学習モデルに全結合層と分類する出力層を追加する"
      ],
      "metadata": {
        "id": "j98nHd0i2-5Z"
      }
    },
    {
      "cell_type": "markdown",
      "source": [
        "## 学習モデルのライブラリのimport"
      ],
      "metadata": {
        "id": "uzT8_xqDT-Nu"
      }
    },
    {
      "cell_type": "code",
      "source": [
        "from keras.models import Sequential,Model\n",
        "from keras.layers import Conv2D, Flatten, Dense  # 全結合層用のクラス、(分類出力用の)普通のニューロン層"
      ],
      "metadata": {
        "id": "UGphUbSCVcHp"
      },
      "execution_count": null,
      "outputs": []
    },
    {
      "cell_type": "markdown",
      "source": [
        "# SVG画像表示ライブラリのimport"
      ],
      "metadata": {
        "id": "BDKy30ozUELI"
      }
    },
    {
      "cell_type": "code",
      "source": [
        "from IPython.display import  SVG\n",
        "from keras.utils.vis_utils import model_to_dot"
      ],
      "metadata": {
        "id": "oC7nu5_6UBxi"
      },
      "execution_count": null,
      "outputs": []
    },
    {
      "cell_type": "markdown",
      "source": [
        "## モデルを生成する"
      ],
      "metadata": {
        "id": "WwVccU06-fUZ"
      }
    },
    {
      "cell_type": "code",
      "source": [],
      "metadata": {
        "id": "aLLsWdgyUI3x"
      },
      "execution_count": null,
      "outputs": []
    }
  ]
}