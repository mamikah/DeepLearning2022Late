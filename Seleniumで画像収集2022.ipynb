{
  "nbformat": 4,
  "nbformat_minor": 0,
  "metadata": {
    "colab": {
      "provenance": [],
      "include_colab_link": true
    },
    "kernelspec": {
      "name": "python3",
      "display_name": "Python 3"
    },
    "language_info": {
      "name": "python"
    }
  },
  "cells": [
    {
      "cell_type": "markdown",
      "metadata": {
        "id": "view-in-github",
        "colab_type": "text"
      },
      "source": [
        "<a href=\"https://colab.research.google.com/github/mamikah/DeepLearning2022Late/blob/main/Selenium%E3%81%A7%E7%94%BB%E5%83%8F%E5%8F%8E%E9%9B%862022.ipynb\" target=\"_parent\"><img src=\"https://colab.research.google.com/assets/colab-badge.svg\" alt=\"Open In Colab\"/></a>"
      ]
    },
    {
      "cell_type": "markdown",
      "source": [
        "# seleniumを使って自動で画像検索し、結果を収集する"
      ],
      "metadata": {
        "id": "-eVAgNV12Uqe"
      }
    },
    {
      "cell_type": "markdown",
      "source": [
        "## 必要なアプリのインストール\n",
        "### Seleniumのインストール（バージョンを指定する）"
      ],
      "metadata": {
        "id": "LwToj_Z92pQN"
      }
    },
    {
      "cell_type": "code",
      "execution_count": null,
      "metadata": {
        "colab": {
          "base_uri": "https://localhost:8080/"
        },
        "id": "8nNcvbYD1Z8m",
        "outputId": "192932ed-80d6-412d-b2eb-66d4a6c77acb"
      },
      "outputs": [
        {
          "output_type": "stream",
          "name": "stdout",
          "text": [
            "Looking in indexes: https://pypi.org/simple, https://us-python.pkg.dev/colab-wheels/public/simple/\n",
            "Requirement already satisfied: selenium==4.1.0 in /usr/local/lib/python3.8/dist-packages (4.1.0)\n",
            "Requirement already satisfied: urllib3[secure]~=1.26 in /usr/local/lib/python3.8/dist-packages (from selenium==4.1.0) (1.26.13)\n",
            "Requirement already satisfied: trio~=0.17 in /usr/local/lib/python3.8/dist-packages (from selenium==4.1.0) (0.22.0)\n",
            "Requirement already satisfied: trio-websocket~=0.9 in /usr/local/lib/python3.8/dist-packages (from selenium==4.1.0) (0.9.2)\n",
            "Requirement already satisfied: sortedcontainers in /usr/local/lib/python3.8/dist-packages (from trio~=0.17->selenium==4.1.0) (2.4.0)\n",
            "Requirement already satisfied: outcome in /usr/local/lib/python3.8/dist-packages (from trio~=0.17->selenium==4.1.0) (1.2.0)\n",
            "Requirement already satisfied: async-generator>=1.9 in /usr/local/lib/python3.8/dist-packages (from trio~=0.17->selenium==4.1.0) (1.10)\n",
            "Requirement already satisfied: attrs>=19.2.0 in /usr/local/lib/python3.8/dist-packages (from trio~=0.17->selenium==4.1.0) (22.1.0)\n",
            "Requirement already satisfied: exceptiongroup>=1.0.0rc9 in /usr/local/lib/python3.8/dist-packages (from trio~=0.17->selenium==4.1.0) (1.0.4)\n",
            "Requirement already satisfied: sniffio in /usr/local/lib/python3.8/dist-packages (from trio~=0.17->selenium==4.1.0) (1.3.0)\n",
            "Requirement already satisfied: idna in /usr/local/lib/python3.8/dist-packages (from trio~=0.17->selenium==4.1.0) (2.10)\n",
            "Requirement already satisfied: wsproto>=0.14 in /usr/local/lib/python3.8/dist-packages (from trio-websocket~=0.9->selenium==4.1.0) (1.2.0)\n",
            "Requirement already satisfied: urllib3-secure-extra in /usr/local/lib/python3.8/dist-packages (from urllib3[secure]~=1.26->selenium==4.1.0) (0.1.0)\n",
            "Requirement already satisfied: cryptography>=1.3.4 in /usr/local/lib/python3.8/dist-packages (from urllib3[secure]~=1.26->selenium==4.1.0) (38.0.4)\n",
            "Requirement already satisfied: certifi in /usr/local/lib/python3.8/dist-packages (from urllib3[secure]~=1.26->selenium==4.1.0) (2022.9.24)\n",
            "Requirement already satisfied: pyOpenSSL>=0.14 in /usr/local/lib/python3.8/dist-packages (from urllib3[secure]~=1.26->selenium==4.1.0) (22.1.0)\n",
            "Requirement already satisfied: cffi>=1.12 in /usr/local/lib/python3.8/dist-packages (from cryptography>=1.3.4->urllib3[secure]~=1.26->selenium==4.1.0) (1.15.1)\n",
            "Requirement already satisfied: pycparser in /usr/local/lib/python3.8/dist-packages (from cffi>=1.12->cryptography>=1.3.4->urllib3[secure]~=1.26->selenium==4.1.0) (2.21)\n",
            "Requirement already satisfied: h11<1,>=0.9.0 in /usr/local/lib/python3.8/dist-packages (from wsproto>=0.14->trio-websocket~=0.9->selenium==4.1.0) (0.14.0)\n"
          ]
        }
      ],
      "source": [
        "!pip install selenium==4.1.0"
      ]
    },
    {
      "cell_type": "markdown",
      "source": [
        "### chronium-chromedriver のインストール"
      ],
      "metadata": {
        "id": "NK1nBNYF3jWW"
      }
    },
    {
      "cell_type": "code",
      "source": [
        "!apt install chromium-chromedriver"
      ],
      "metadata": {
        "colab": {
          "base_uri": "https://localhost:8080/"
        },
        "id": "HgZ4I8mw3IXD",
        "outputId": "ca384380-7410-4249-f032-1268099cd28d"
      },
      "execution_count": null,
      "outputs": [
        {
          "output_type": "stream",
          "name": "stdout",
          "text": [
            "Reading package lists... Done\n",
            "Building dependency tree       \n",
            "Reading state information... Done\n",
            "chromium-chromedriver is already the newest version (107.0.5304.87-0ubuntu11.18.04.1).\n",
            "The following package was automatically installed and is no longer required:\n",
            "  libnvidia-common-460\n",
            "Use 'apt autoremove' to remove it.\n",
            "0 upgraded, 0 newly installed, 0 to remove and 7 not upgraded.\n"
          ]
        }
      ]
    },
    {
      "cell_type": "markdown",
      "source": [
        "## seleniumを実行して操作する"
      ],
      "metadata": {
        "id": "cHocFJKZ42Mv"
      }
    },
    {
      "cell_type": "markdown",
      "source": [
        "### その他のライブラリのimport"
      ],
      "metadata": {
        "id": "LMqiisSt5ANk"
      }
    },
    {
      "cell_type": "code",
      "source": [
        "import requests\n",
        "from selenium import webdriver\n",
        "from selenium.webdriver.chrome.options import Options\n",
        "import os\n",
        "import time\n",
        "import datetime\n",
        "# エラー処理用\n",
        "from selenium.common.exceptions import NoSuchElementException\n",
        "from selenium.common.exceptions import ElementClickInterceptedException"
      ],
      "metadata": {
        "id": "nTQ0Xsdk3__0"
      },
      "execution_count": null,
      "outputs": []
    },
    {
      "cell_type": "markdown",
      "source": [
        "## ログ用に時刻を取得"
      ],
      "metadata": {
        "id": "4vqJdg7j7EdI"
      }
    },
    {
      "cell_type": "code",
      "source": [
        "tm_start = time.time( ) # 処理時間計測用\n",
        "dt_now = datetime.datetime.now( ) # 現在日時\n",
        "dt_date_str = dt_now.strftime( '%Y/%m/%d %H:%M' ) # 書式指定して変換\n",
        "print( dt_date_str )"
      ],
      "metadata": {
        "colab": {
          "base_uri": "https://localhost:8080/"
        },
        "id": "YFuQJqhE6Rvr",
        "outputId": "ce4437a0-4740-442c-8a15-c57a5e1c889e"
      },
      "execution_count": null,
      "outputs": [
        {
          "output_type": "stream",
          "name": "stdout",
          "text": [
            "2022/12/06 02:22\n"
          ]
        }
      ]
    },
    {
      "cell_type": "markdown",
      "source": [
        "## 検索に関する設定値を定義する"
      ],
      "metadata": {
        "id": "DFnGg-Xh9RAb"
      }
    },
    {
      "cell_type": "code",
      "source": [
        "QUERY = '犬 フリー' # 検索したいキーワード\n",
        "LIMIT_DL_NUM = 100 # ダウンロード数の上限\n",
        "SAVE_DIR = 'img/dog_' # 出力フォルダ（自動生成させる）\n",
        "FILE_NAME = 'dog_' # ファイル名（後ろに連番と拡張子をつけていく）\n",
        "TIMEOUT = 60 # 検索のタイムアウト（秒）\n",
        "ACCESS_WAIT = 1 # アクセスする間隔(秒)←超重要\n",
        "RETRY_NUM = 3 # クリックやrequestのリトライ回数\n",
        "DRIVER_PATH = '/usr/bin/chromedriver' # chromedriver.exeへのパス"
      ],
      "metadata": {
        "id": "bMXTvIEN8gyK"
      },
      "execution_count": null,
      "outputs": []
    },
    {
      "cell_type": "markdown",
      "source": [
        "## Chromeをヘッドレスモードで起動する\n",
        "\n",
        "ヘッドレスモード = ブラウザを画面に開かないで実行するモード"
      ],
      "metadata": {
        "id": "RGwKDfDvAMrK"
      }
    },
    {
      "cell_type": "code",
      "source": [
        "# optionの指定を準備\n",
        "options = Options( )\n",
        "options.add_argument( '--headless' )\n",
        "options.add_argument(  '--no-sandbox'  )\n",
        "options.add_argument(  '--disable-dev-shm-usage'  )\n",
        "options.add_argument(  'start-fullscreen'  )\n",
        "options.add_argument(  '--disable-plugins'  )\n",
        "options.add_argument(  '--disable-extensions'  )\n",
        "# 起動する\n",
        "driver = webdriver.Chrome( DRIVER_PATH, options=options )\n",
        "driver.implicitly_wait( TIMEOUT ) # タイムアウトを設定\n",
        "# ログに処理時間を出力\n",
        "tm_driver = time.time(  )\n",
        "print( 'WebDriver起動完了', f'{tm_driver - tm_start:.1f}s' )"
      ],
      "metadata": {
        "colab": {
          "base_uri": "https://localhost:8080/"
        },
        "id": "_WYk63Nb_fyV",
        "outputId": "b5b8b567-fd6a-4bbc-ec83-683a9fd9b750"
      },
      "execution_count": null,
      "outputs": [
        {
          "output_type": "stream",
          "name": "stderr",
          "text": [
            "<ipython-input-20-42bd84c0394a>:10: DeprecationWarning: executable_path has been deprecated, please pass in a Service object\n",
            "  driver = webdriver.Chrome( DRIVER_PATH, options=options )\n"
          ]
        },
        {
          "output_type": "stream",
          "name": "stdout",
          "text": [
            "WebDriver起動完了 7.9s\n"
          ]
        }
      ]
    },
    {
      "cell_type": "markdown",
      "source": [
        "## Googleの画像検索へアクセス"
      ],
      "metadata": {
        "id": "mNavq74hHE7z"
      }
    },
    {
      "cell_type": "code",
      "source": [
        "# QUERY条件付きでURLを定義する\n",
        "url = f'https://www.google.com/search?q={QUERY}&tbm=isch'\n",
        "# 組み立てたURLでアクセスして検索\n",
        "driver.get( url)\n",
        "# 時刻のログを取得\n",
        "tm_geturl = time.time( )\n",
        "print( 'Google画像検索ページ取得', f'{tm_geturl - tm_driver:.1f}s' )\n"
      ],
      "metadata": {
        "colab": {
          "base_uri": "https://localhost:8080/"
        },
        "id": "Q5fAE0XjDGOJ",
        "outputId": "ccb97d79-6d08-419f-be85-b528f183592f"
      },
      "execution_count": null,
      "outputs": [
        {
          "output_type": "stream",
          "name": "stdout",
          "text": [
            "Google画像検索ページ取得 5.2s\n"
          ]
        }
      ]
    },
    {
      "cell_type": "markdown",
      "source": [
        "## 検索結果の要素を取得していく"
      ],
      "metadata": {
        "id": "2at5NnbOPiH9"
      }
    },
    {
      "cell_type": "code",
      "source": [
        "# ページのサムネイル画像の要素群を取得\n",
        "# (islmpクラスが指定されたimg=サムネイルをすべて拾う)\n",
        "tmb_elems = driver.find_elements_by_css_selector('#islmp img')\n",
        "# サムネイルのリストから各サムネイルのalt属性を取得していく\n",
        "tmb_alts = [ tmb.get_attribute('alt') for tmb in tmb_elems ]\n",
        "# alt属性が空（小さいサムネイル）のものを差し引いて合計を算出\n",
        "count = len(tmb_alts) - tmb_alts.count('')\n",
        "print(count)"
      ],
      "metadata": {
        "colab": {
          "base_uri": "https://localhost:8080/"
        },
        "id": "U2QETDurOyZ2",
        "outputId": "b74d7f3a-ab25-4ef0-ca39-03f31145ea85"
      },
      "execution_count": null,
      "outputs": [
        {
          "output_type": "stream",
          "name": "stderr",
          "text": [
            "<ipython-input-22-478ad0829502>:3: DeprecationWarning: find_elements_by_* commands are deprecated. Please use find_elements() instead\n",
            "  tmb_elems = driver.find_elements_by_css_selector('#islmp img')\n"
          ]
        },
        {
          "output_type": "stream",
          "name": "stdout",
          "text": [
            "48\n"
          ]
        }
      ]
    },
    {
      "cell_type": "markdown",
      "source": [
        "## 下にスクロールさせてさらに検索結果を表示させてまたカウント"
      ],
      "metadata": {
        "id": "k7KqOwMvTP_x"
      }
    },
    {
      "cell_type": "code",
      "source": [
        "# 定義したLIMIT_DL_NUM（ダウンロード数の上限）になるまでスクロールを繰り返す\n",
        "while count < LIMIT_DL_NUM:\n",
        "  # ページの一番下へスクロールして新しいサムネイル画像を表示させる\n",
        "  driver.execute_script( 'window.scrollTo(0, document.body.scrollHeight);' )\n",
        "  time.sleep( 1 ) # スリープを繰り返す間隔(秒)を入れる ←重要\n",
        "  # (islmpクラスが指定されたimg=サムネイルをすべて拾う)\n",
        "  tmb_elems = driver.find_elements_by_css_selector('#islmp img')\n",
        "  # サムネイルのリストから各サムネイルのalt属性を取得していく\n",
        "  tmb_alts = [ tmb.get_attribute('alt') for tmb in tmb_elems ]\n",
        "  # alt属性が空（小さいサムネイル）のものを差し引いて合計を算出\n",
        "  count = len(tmb_alts) - tmb_alts.count('')\n",
        "  print(count)\n",
        "# ループ終わり"
      ],
      "metadata": {
        "colab": {
          "base_uri": "https://localhost:8080/"
        },
        "id": "xPl75LtnSZFW",
        "outputId": "c6c83423-c85a-41b8-e249-456fae993348"
      },
      "execution_count": null,
      "outputs": [
        {
          "output_type": "stream",
          "name": "stderr",
          "text": [
            "<ipython-input-23-efe427a5e67b>:7: DeprecationWarning: find_elements_by_* commands are deprecated. Please use find_elements() instead\n",
            "  tmb_elems = driver.find_elements_by_css_selector('#islmp img')\n"
          ]
        },
        {
          "output_type": "stream",
          "name": "stdout",
          "text": [
            "100\n"
          ]
        }
      ]
    },
    {
      "cell_type": "markdown",
      "source": [
        "## サムネイル画像をクリックすると右側に開かれる領域をオブジェクトに取得"
      ],
      "metadata": {
        "id": "L5n09degZZEX"
      }
    },
    {
      "cell_type": "code",
      "source": [
        "imgframe_elem = driver.find_element_by_id( ('islsp') )"
      ],
      "metadata": {
        "colab": {
          "base_uri": "https://localhost:8080/"
        },
        "id": "kQbsRUTcVZ5h",
        "outputId": "46fb07be-e475-4740-874e-3f6e688b176a"
      },
      "execution_count": null,
      "outputs": [
        {
          "output_type": "stream",
          "name": "stderr",
          "text": [
            "<ipython-input-24-713e481369ea>:1: DeprecationWarning: find_element_by_* commands are deprecated. Please use find_element() instead\n",
            "  imgframe_elem = driver.find_element_by_id( ('islsp') )\n"
          ]
        }
      ]
    },
    {
      "cell_type": "markdown",
      "source": [
        "### 画像へURLアクセスして保存する準備をする"
      ],
      "metadata": {
        "id": "lbwx6QwyaLlF"
      }
    },
    {
      "cell_type": "code",
      "source": [
        "# 画像の保存フォルダを作成\n",
        "os.makedirs( SAVE_DIR, exist_ok=True )\n",
        "# HTTPリクエスト用のヘッダーを作る\n",
        "HTTP_HEADERS = {'User-Aget':driver.execute_script('return navigator.userAgent;')}\n",
        "print( HTTP_HEADERS )\n",
        "# ダウンロードしてきたい対象のファイル拡張子(extensios)\n",
        "IMG_EXTS = ( '.jpg', '.jpeg', '.png', '.gif' )"
      ],
      "metadata": {
        "colab": {
          "base_uri": "https://localhost:8080/"
        },
        "id": "M4D7nyL5aEcx",
        "outputId": "d056d866-3681-4925-bea7-14998b72503f"
      },
      "execution_count": null,
      "outputs": [
        {
          "output_type": "stream",
          "name": "stdout",
          "text": [
            "{'User-Aget': 'Mozilla/5.0 (X11; Linux x86_64) AppleWebKit/537.36 (KHTML, like Gecko) HeadlessChrome/107.0.5304.87 Safari/537.36'}\n"
          ]
        }
      ]
    },
    {
      "cell_type": "markdown",
      "source": [
        "## ダウンロード中に利用する関数を定義する\n",
        "### 画像の拡張子を取得する関数"
      ],
      "metadata": {
        "id": "g2VwHy6UcWcB"
      }
    },
    {
      "cell_type": "code",
      "source": [
        "# 拡張子を取得する関数\n",
        "def get_extension( url ):\n",
        "  url_lower = url.lower()\n",
        "  for img_ext in IMG_EXTS: # 拡張子のリストから１つずつ比較\n",
        "    if img_ext in url_lower:\n",
        "      extension = '.jpg' if img_ext == '.jpeg' else img_ext\n",
        "      break\n",
        "    # if終わり\n",
        "    else:\n",
        "        extension = ''\n",
        "  # for終わり\n",
        "  return extension\n",
        "# 関数終わり"
      ],
      "metadata": {
        "id": "o-bKXyMCbAhn"
      },
      "execution_count": null,
      "outputs": []
    },
    {
      "cell_type": "markdown",
      "source": [
        "### urlで指定した画像へアクセスし、フォルダ内のファイルとして書き込む"
      ],
      "metadata": {
        "id": "ejUEzCtBOEJc"
      }
    },
    {
      "cell_type": "code",
      "source": [
        "def download_image(  url, path, loop ):\n",
        "  result = False  # 戻り値の変数\n",
        "  for i in range(loop):\n",
        "    try:\n",
        "      r = requests.get( url, headers=HTTP_HEADERS, stream=True, timeout=10 )\n",
        "      r.raise_for_status( )\n",
        "      with open ( path, 'wb' ) as f: # バイナリ書き込みモードで開く\n",
        "        f.write( r.content )\n",
        "\n",
        "    except requests.exceptions.SSLError:\n",
        "      print('****** SSL エラー')\n",
        "      break # リトライしない  \n",
        "    except requests.exceptions.RequestException as e:\n",
        "      print( f'***** requests エラー( {e} ): {i + 1}/{RETRY_NUM}' )\n",
        "      time.sleep(1)\n",
        "    else:\n",
        "      result = True\n",
        "      break # try成功\n",
        "  # ループ終わり  \n",
        "# 関数終わり"
      ],
      "metadata": {
        "id": "7EVJrBDCeAx_"
      },
      "execution_count": null,
      "outputs": []
    },
    {
      "cell_type": "code",
      "source": [
        "### サムネイルを取得し、画像ダウンロードの準備ができたタイミング\n",
        "tm_thumbnails = time.time( )\n",
        "print( 'サムネイル画像取得とＤＬ準備完了', f'{tm_thumbnails - tm_geturl:.1f}s' )"
      ],
      "metadata": {
        "colab": {
          "base_uri": "https://localhost:8080/"
        },
        "id": "nHWrOlzfTwpQ",
        "outputId": "5a5737c7-7a54-4aef-9524-162a3fe407e6"
      },
      "execution_count": null,
      "outputs": [
        {
          "output_type": "stream",
          "name": "stdout",
          "text": [
            "サムネイル画像取得とＤＬ準備完了 38.8s\n"
          ]
        }
      ]
    },
    {
      "cell_type": "markdown",
      "source": [
        "## ダウンロード処理"
      ],
      "metadata": {
        "id": "7ZfHktCZU7Lc"
      }
    },
    {
      "cell_type": "code",
      "source": [
        "EXCLUSION_URL = 'https//lh3.googleusercontent.com/' # 除外対象URL\n",
        "count = 0\n",
        "url_list = [ ]\n",
        "\n",
        "# サムネイルをクリック、画像リンクを取得、画像をDL＆保存を繰り返す\n",
        "# zipで組み合わせの順番を固定化\n",
        "for tmb_elem, tmb_alt in zip(tmb_elems, tmb_alts): \n",
        "  if tmb_alt == '': # ALT属性が空=小さいサムネイルとみなしてスキップ\n",
        "    continue  \n",
        "  print(  f'{count}:{tmb_alt}'  ) # カウンタとALT属性を表示\n",
        "  # リトライ回数分だけ試行\n",
        "  for i in range(RETRY_NUM):\n",
        "    # サムネイルをクリック\n",
        "    try:\n",
        "      tmb_elem.click( )\n",
        "    except ElementClickInterceptedException:\n",
        "      print(f'***** click エラー: {i+1}/{RETRY_NUM}')\n",
        "      # フォーカスをあわせる\n",
        "      driver.execute_script('arguments[0].scrollIntoView(true);', tmb_elem)\n",
        "      time.sleep(1)\n",
        "    else:\n",
        "      break # try成功（クリック成功）\n",
        "  # forの終わり\n",
        "  else: \n",
        "    print('***** キャンセル')\n",
        "    continue # リトライ失敗、次のアイコンにスキップ\n",
        "  # クリック成功したら、処理を続ける（画像のオブジェクトを取得する処理）\n",
        "  time.sleep(ACCESS_WAIT)\n",
        "  # alt属性の加工\n",
        "  alt = tmb_alt.replace(\"'\",\"\\\\\")\n",
        "  try:\n",
        "    # 左側のalt属性を基に左側の大きな画像をalt属性を指定して取得\n",
        "    img_elem = imgframe_elem.find_element_by_css_selector(f'img[alt=\\'{alt}\\']')\n",
        "  except NoSuchElementException:  # 右側に対応する要素が見つからない\n",
        "    print('***** img要素検索エラー')\n",
        "    print('***** キャンセル')\n",
        "    continue # 次のサムネイルへスキップ\n",
        "  # 右の大きな画像オブジェクトが取得できたら、その画像リンクを取得する\n",
        "\n",
        "  tmb_url = tmb_elem.get_attribute('src')  # サムネイルsrc属性からリンクurlを取得\n",
        "  # リトライしながらURLをチェック\n",
        "  for i in range(RETRY_NUM):\n",
        "    # 大きい画像のURL\n",
        "    url = img_elem.get_attribute('src')\n",
        "    if EXCLUSION_URL in url:\n",
        "      print('除外対象url')\n",
        "      url=''\n",
        "      break # ループ中断\n",
        "    elif url == tmb_url: # サムネイルのurlと一緒なら、リトライを続ける\n",
        "      print(f'***** urlチェック:{i+1}/{RETRY_NUM}')\n",
        "    else:\n",
        "      break # ループ中断（除外対象でもサムネイルでもない、OKなurl）\n",
        "    # RETRYループ終わり\n",
        "  # urlチェックの結果、OKなリンクでなければ次のサムネイルへスキップ\n",
        "  if url == '':\n",
        "    print('***** キャンセル') # 大きなループをcontinue\n",
        "    continue\n",
        "  # url先の拡張子が指定の画像拡張子でなければ次のサムネイルへスキップ\n",
        "  ext = get_extension( url ) # 自作の関数で拡張子を取得\n",
        "  if ext == '': # 指定の画像拡張子でない場合\n",
        "    print(f'***** urlに拡張子が含まれていないのでキャンセル')\n",
        "    print(f'{url}')\n",
        "    continue\n",
        "  \n",
        "  # ダウンロード周り:保存するファイルパスを指定する\n",
        "  filename = f'{FILE_NAME}{count}{ext}'\n",
        "  path = SAVE_DIR + '/' + filename\n",
        "  # ダウンロードを実行（自作関数を呼び出す）\n",
        "  result = download_image( url, path, RETRY_NUM )\n",
        "  if result == False:\n",
        "    print('***** キャンセル')\n",
        "    continue # 次のサムネイルへスキップ\n",
        "  # ダウンロードしたurlをリストに追加\n",
        "  url_list.append(f'{filename}:{url}')\n",
        "\n",
        "  # 最後に、ダウンロード数カウンタの更新と終了判定\n",
        "  count += 1\n",
        "  if count >= LIMIT_DL_NUM:\n",
        "    break # ダウンロードのループを終了\n",
        "# ループの終了\n",
        "# 所領時間の表示\n",
        "tm_end = time.time( ) # 現在時刻\n",
        "print('ダウンロード', f'{tm_end - tm_thumbnails:.1f}s')\n",
        "print('-------------------------')"
      ],
      "metadata": {
        "id": "y3WfWxwfWL1q",
        "colab": {
          "base_uri": "https://localhost:8080/"
        },
        "outputId": "e7f36dd4-6066-4836-c970-880a7824d5a5"
      },
      "execution_count": null,
      "outputs": [
        {
          "output_type": "stream",
          "name": "stdout",
          "text": [
            "0:犬の写真素材｜写真素材なら「写真AC」無料（フリー）ダウンロードOK\n"
          ]
        },
        {
          "output_type": "stream",
          "name": "stderr",
          "text": [
            "/usr/local/lib/python3.8/dist-packages/selenium/webdriver/remote/webelement.py:484: UserWarning: find_element_by_* commands are deprecated. Please use find_element() instead\n",
            "  warnings.warn(\"find_element_by_* commands are deprecated. Please use find_element() instead\")\n"
          ]
        },
        {
          "output_type": "stream",
          "name": "stdout",
          "text": [
            "1:犬 | フリー素材ドットコム\n",
            "2:犬 | フリー素材ドットコム\n",
            "***** urlに拡張子が含まれていないのでキャンセル\n",
            "data:image/jpeg;base64,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\n",
            "2:へっくしょん（犬）の写真素材 - ぱくたそ\n",
            "3:犬の写真素材｜写真素材なら「写真AC」無料（フリー）ダウンロードOK\n",
            "4:犬 のストック写真、ロイヤリティフリーの画像、ベクター、およびビデオ | Adobe Stock\n",
            "5:犬の写真素材｜写真素材なら「写真AC」無料（フリー）ダウンロードOK\n",
            "6:フリー写真] 芝生を駆ける二匹の子犬でアハ体験 - GAHAG | 著作権フリー写真・イラスト素材集\n",
            "***** urlチェック:1/3\n",
            "***** requests エラー( 403 Client Error: Forbidden for url: https://img01.gahag.net/201601/14o/gahag-0046037255.jpg ): 1/3\n",
            "***** requests エラー( 403 Client Error: Forbidden for url: https://img01.gahag.net/201601/14o/gahag-0046037255.jpg ): 2/3\n",
            "***** requests エラー( 403 Client Error: Forbidden for url: https://img01.gahag.net/201601/14o/gahag-0046037255.jpg ): 3/3\n",
            "7:犬（戌）」をテーマにした無料写真素材10選（商用利用可） | ACワークスのブログ\n",
            "8:無料で使える 犬 フリー素材 - 使える写真ギャラリーSothei\n",
            "9:怠惰な秋田犬の写真素材 - ぱくたそ\n",
            "10:画像素材なら！無料・フリー写真素材のフリーフォト\n",
            "***** urlチェック:1/3\n",
            "***** urlチェック:2/3\n",
            "***** urlチェック:3/3\n",
            "***** urlに拡張子が含まれていないのでキャンセル\n",
            "data:image/jpeg;base64,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\n",
            "10:犬 | フリー素材ドットコム\n",
            "11:犬の写真素材｜写真素材なら「写真AC」無料（フリー）ダウンロードOK\n",
            "12:フリー写真素材|動物|哺乳類|イヌ科|犬・イヌ|子犬・小犬|柴犬 ... | Dog blog, Shiba inu, Cute animals\n",
            "13:フリー写真] 耳の垂れた犬 - パブリックドメインQ：著作権フリー画像素材集\n",
            "14:犬のイラスト-無料イラストフリー素材\n",
            "***** urlチェック:1/3\n",
            "***** urlチェック:2/3\n",
            "***** urlチェック:3/3\n",
            "***** urlに拡張子が含まれていないのでキャンセル\n",
            "data:image/png;base64,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\n",
            "14:犬・チワワ | 無料の高画質フリー写真素材 | イメージズラボ\n",
            "***** urlチェック:1/3\n",
            "***** urlチェック:2/3\n",
            "***** urlチェック:3/3\n",
            "***** urlに拡張子が含まれていないのでキャンセル\n",
            "data:image/jpeg;base64,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\n",
            "14:23,771+以上の無料犬画像\n",
            "15:最も幸せな犬」をフリー素材で検索したら最高すぎた\n",
            "16:犬の写真素材｜写真素材なら「写真AC」無料（フリー）ダウンロードOK\n",
            "17:犬からの10のお願い | 泣ける話や感動の実話、号泣するストーリーまとめ - ラクリマ\n",
            "18:犬（戌）」をテーマにした無料イラスト素材10選（商用利用可） | ACワークスのブログ\n",
            "19:雑種犬 写真素材 [ 226180 ] 無料 - フォトライブラリー photolibrary\n",
            "20:走る犬 シュナウザーのフリー素材｜無料写真素材集＞dog0173-022＞ダウンロード 高解像度画像 無料写真素材のプロ・フォト\n",
            "21:100以上の無料柴犬&犬画像 - Pixabay\n",
            "22:人面犬のイラスト | かわいいフリー素材集 いらすとや\n",
            "23:犬のフリーアイコン｜可愛いフリーアイコン・イラストの無料素材サイト｜フリーペンシル\n",
            "***** urlチェック:1/3\n",
            "***** urlチェック:2/3\n",
            "***** urlチェック:3/3\n",
            "***** urlに拡張子が含まれていないのでキャンセル\n",
            "https://encrypted-tbn0.gstatic.com/images?q=tbn:ANd9GcTkwolYliUhq9B9NDzWlDS1vU5gZm2i6tb_YA&usqp=CAU\n",
            "23:サンプル】アンデスポークヒレ肉・マダラ＆ベジタブル・フルーツ（アイケア・成犬用） - Runfree\n",
            "***** urlチェック:1/3\n",
            "***** urlチェック:2/3\n",
            "***** urlチェック:3/3\n",
            "***** urlに拡張子が含まれていないのでキャンセル\n",
            "https://encrypted-tbn0.gstatic.com/images?q=tbn:ANd9GcTOUz7HjeZkKkcR-Cwoef-pFkyZEXbqN80toA&usqp=CAU\n",
            "23:無料写真] 犬のスピッツ - パブリックドメインQ：著作権フリー画像素材集\n",
            "24:犬の無料(フリー)イラスト | かわいい手描きの無料素材「てがきっず」保育園・小学校・介護施設にぴったりのフリー素材イラスト\n",
            "25:かわいい犬猫写真のフリー素材（商用利用可能） - オドフラン ～いつもどこかに「なるほど」を～\n",
            "26:犬のバレンタインイラストのフリー素材｜イラストイメージ\n",
            "27:犬（寒くて帰りたいワン…）の写真素材 - ぱくたそ\n",
            "28:ゆんフリー写真素材集 : No. 16018 笑う犬 [中国 / 松藩]\n",
            "***** requests エラー( 406 Client Error: Not Acceptable for url: http://www.tmyun.com/mid/yun_16018.jpg ): 1/3\n",
            "***** requests エラー( 406 Client Error: Not Acceptable for url: http://www.tmyun.com/mid/yun_16018.jpg ): 2/3\n",
            "***** requests エラー( 406 Client Error: Not Acceptable for url: http://www.tmyun.com/mid/yun_16018.jpg ): 3/3\n",
            "29:日本スピッツや白い犬の素材（動画や写真）をお探しの方へ│日本スピッツちぃ。\n",
            "30:動物,犬のフリー素材 - Web素材工房 デジタルカラーボックス\n",
            "31:威嚇する茶色の犬のフリー素材・無料の写真| ピクト缶\n",
            "32:犬の犬種セット かわいい無料イラスト81771 | 素材Good\n",
            "33:犬の無料イラスト一覧\n",
            "34:ダウンロード画像 チワワ, ボケ, 友好, 犬, 子犬, 小さなチワワ, 友達, かわいい動物たち, ペット, チワワ犬 フリー.  のピクチャを無料デスクトップの壁紙 | 動物 かわいい, 犬の名前, 子犬\n",
            "35:歯を剥いて怒っている犬 写真素材 [ 3399534 ] - フォトライブラリー photolibrary\n",
            "36:フリーペーパー『もふもふ』とは・・・ 犬猫の代弁者になる。動物と家族に寄り添うフリーペーパー継続！（石塚 美穂 (ワントゥワンズ 代表)  2017/10/15 投稿） - クラウドファンディング READYFOR\n",
            "37:無料の犬のイラストコレクション【商用利用可能・フリー素材】（2022.06.20更新） / イラストセンター\n",
            "38:犬」フリーイラスト | シンプルフリーイラスト\n",
            "39:犬フリー写真：無料 風景 写真 フリー素材集/yutti photo\n",
            "40:フリー写真] 四匹の犬と猫 - パブリックドメインQ：著作権フリー画像素材集\n",
            "***** requests エラー( 403 Client Error: Forbidden for url: https://publicdomainq.net/images/201810/04s/publicdomainq-0026987viz.jpg ): 1/3\n",
            "***** requests エラー( 403 Client Error: Forbidden for url: https://publicdomainq.net/images/201810/04s/publicdomainq-0026987viz.jpg ): 2/3\n",
            "***** requests エラー( 403 Client Error: Forbidden for url: https://publicdomainq.net/images/201810/04s/publicdomainq-0026987viz.jpg ): 3/3\n",
            "41:良い犬の話 | 泣ける話や感動の実話、号泣するストーリーまとめ - ラクリマ\n",
            "42:犬｜無料写真素材ならフリー素材タウン\n",
            "***** urlチェック:1/3\n",
            "***** urlチェック:2/3\n",
            "***** urlチェック:3/3\n",
            "***** urlに拡張子が含まれていないのでキャンセル\n",
            "https://encrypted-tbn0.gstatic.com/images?q=tbn:ANd9GcSAdnje0Dosc0qTquHvT329sNxdXmkiGsZHdg&usqp=CAU\n",
            "42:ブログで使える犬のフリー画像50枚を集めます 様々なシチュエーションに対応!!可笑しい!可愛い!!犬の画像 | 写真撮影・素材提供 | ココナラ\n",
            "43:犬 | フリー素材ドットコム\n",
            "***** urlチェック:1/3\n",
            "***** urlチェック:2/3\n",
            "***** urlチェック:3/3\n",
            "***** urlに拡張子が含まれていないのでキャンセル\n",
            "https://encrypted-tbn0.gstatic.com/images?q=tbn:ANd9GcTgmgjH__ASyozPy0isVSQbioxq_KM2c6WPdg&usqp=CAU\n",
            "43:警戒する小型犬（チワワ）の写真素材 - ぱくたそ\n",
            "44:ベトナムのハノイで犬肉を食べてみた｜写真と感想つき│株式会社MORE UP BOOST\n",
            "45:犬にも”バリアフリー”の住環境を シニア犬が過ごしやすい暮らしとは｜いぬのきもちWEB MAGAZINE\n",
            "46:犬の写真素材｜写真素材なら「写真AC」無料（フリー）ダウンロードOK\n",
            "47:ドッグランで野原を飼い主と散歩する犬[10132105252]の写真素材・イラスト素材｜アマナイメージズ\n",
            "48:ボロという犬の話 | 泣ける話や感動の実話、号泣するストーリーまとめ - ラクリマ\n",
            "49:ゆんフリー写真素材集 : No. 3813 老犬の午睡 [日本 / 熊本]\n",
            "***** requests エラー( 406 Client Error: Not Acceptable for url: http://www.tmyun.com/mid/yun_3813.jpg ): 1/3\n",
            "***** requests エラー( 406 Client Error: Not Acceptable for url: http://www.tmyun.com/mid/yun_3813.jpg ): 2/3\n",
            "***** requests エラー( 406 Client Error: Not Acceptable for url: http://www.tmyun.com/mid/yun_3813.jpg ): 3/3\n",
            "50:ヤフオク! - 1円即決 画像 相互評価 小型犬 犬 フリー素材 デ...\n",
            "51:犬イラスト／無料イラストなら「イラストAC」\n",
            "52:犬・チワワ04 | 無料の高画質フリー写真素材 | イメージズラボ\n",
            "53:犬のフリーアイコン｜可愛いフリーアイコン・イラストの無料素材サイト｜フリーペンシル\n",
            "54:秋田犬 写真素材 [ 572783 ] - フォトライブラリー photolibrary\n",
            "55:犬・小型犬の商用可能フリー素材 - オドフラン ～いつもどこかに「なるほど」を～\n",
            "56:無料写真素材 ペット画像・子犬画像・フリー素材\n",
            "***** urlチェック:1/3\n",
            "***** urlチェック:2/3\n",
            "***** urlチェック:3/3\n",
            "***** urlに拡張子が含まれていないのでキャンセル\n",
            "https://encrypted-tbn0.gstatic.com/images?q=tbn:ANd9GcS2MI-hxGON0t1weQhZ6HdOfI-Xl3NYW7yR3Q&usqp=CAU\n",
            "56:商用可・無料の犬 の フリー イラスト｜テラ合同会社\n",
            "***** urlチェック:1/3\n",
            "***** urlチェック:2/3\n",
            "***** urlチェック:3/3\n",
            "***** urlに拡張子が含まれていないのでキャンセル\n",
            "https://encrypted-tbn0.gstatic.com/images?q=tbn:ANd9GcQBER3zavaVMZGr64ypj90pyN0m9UKxAKXQKA&usqp=CAU\n",
            "56:フリー写真, フリー写真, CC0 写真, 動物（写真）, 哺乳類, 犬（イヌ）, ラブラドール・レトリーバー, ウインク | Dog  training, Labrador dog, Labrador retriever\n",
            "57:DFD◇ 大型犬用ドッグフリードア DFL-1750 【大型1個口】 - サンエルペットワールド本店\n",
            "58:芝生でくつろぐMIX犬 | 無料壁紙・商用利用可の画像素材ならfotoma（フォトマ）\n",
            "59:犬と人写真素材、ロイヤリティフリー犬と人画像|Depositphotos\n",
            "60:Pet 写真、29,000+ 高画質の無料ストックフォト\n",
            "61:楽しそうな散歩中の犬 | 写真・画像のフリー素材を無料ダウンロードするなら「エルーパフォトス」\n",
            "62:フリー写真] 木の枝を咥えて走る犬 - パブリックドメインQ：著作権フリー画像素材集\n",
            "***** requests エラー( 403 Client Error: Forbidden for url: https://moon.publicdomainq.net/201809/23o/publicdomainq-0026609dgwyew.jpg ): 1/3\n",
            "***** requests エラー( 403 Client Error: Forbidden for url: https://moon.publicdomainq.net/201809/23o/publicdomainq-0026609dgwyew.jpg ): 2/3\n",
            "***** requests エラー( 403 Client Error: Forbidden for url: https://moon.publicdomainq.net/201809/23o/publicdomainq-0026609dgwyew.jpg ): 3/3\n",
            "63:フリーランスが犬を飼うなら”保護犬”を引き取るという選択肢！ 私たちだからできる、命の保護活動 | THE LANCER\n",
            "64:犬の散歩中に両手が自由になる 英ペットブランドHiro + Wolfの「ハンズフリーリード」 | Webマガジン「AXIS」 |  デザインのWebメディア\n",
            "65:犬の写真素材｜写真素材なら「写真AC」無料（フリー）ダウンロードOK\n",
            "66:犬 | フリー素材ドットコム\n",
            "67:無料イラスト かわいいフリー素材集: 秋田犬のイラスト\n",
            "68:フリー写真] 疲れた子犬のビーグルでアハ体験 - GAHAG | 著作権フリー写真・イラスト素材集\n",
            "***** requests エラー( 403 Client Error: Forbidden for url: https://img01.gahag.net/201511/19o/gahag-0027331945.jpg ): 1/3\n",
            "***** requests エラー( 403 Client Error: Forbidden for url: https://img01.gahag.net/201511/19o/gahag-0027331945.jpg ): 2/3\n",
            "***** requests エラー( 403 Client Error: Forbidden for url: https://img01.gahag.net/201511/19o/gahag-0027331945.jpg ): 3/3\n",
            "69:公園の白い犬 スピッツのフリー写真素材 無料画像素材のプロ・フォト dog0127-023\n",
            "70:10000以上の無料子犬&犬画像 - Pixabay\n",
            "71:日本犬」の画像 - 7,653 件の Stock 写真、ベクターおよびビデオ | Adobe Stock\n",
            "72:桜に囲まれてキョロキョロしている可愛い犬のフリー画像｜おしゃれなフリー写真素材：GIRLY DROP\n",
            "73:まとめ】可愛い犬の無料イラスト素材集｜イラストイメージ\n",
            "74:土佐犬（とさいぬ・とさけん）のイラスト・条件付フリー素材集\n",
            "***** urlチェック:1/3\n",
            "***** urlチェック:2/3\n",
            "***** urlチェック:3/3\n",
            "***** urlに拡張子が含まれていないのでキャンセル\n",
            "https://encrypted-tbn0.gstatic.com/images?q=tbn:ANd9GcQa3ZH3v5x1whAH_WUntm2eisRxZSACyjfnbA&usqp=CAU\n",
            "74:犬のイラスト-無料イラストフリー素材\n",
            "***** urlチェック:1/3\n",
            "***** urlチェック:2/3\n",
            "***** urlチェック:3/3\n",
            "***** urlに拡張子が含まれていないのでキャンセル\n",
            "https://encrypted-tbn0.gstatic.com/images?q=tbn:ANd9GcTGpwA6Zog1FQLeOM4lU9D0ZTK7HNys75o8hw&usqp=CAU\n",
            "74:本当は怖い犬の牙 | 写真・画像のフリー素材を無料ダウンロードするなら「エルーパフォトス」\n",
            "***** urlチェック:1/3\n",
            "***** urlチェック:2/3\n",
            "***** urlチェック:3/3\n",
            "***** urlに拡張子が含まれていないのでキャンセル\n",
            "https://encrypted-tbn0.gstatic.com/images?q=tbn:ANd9GcRLiCQaGodo_uSVogkoZbB5TvpDw4g2P2xxHg&usqp=CAU\n",
            "74:フリー画像|動物写真|哺乳類|イヌ科|犬/イヌ|ビーグル犬|フリー素材|画像素材なら！無料・フリー写真素材のフリーフォト\n",
            "***** urlチェック:1/3\n",
            "***** urlチェック:2/3\n",
            "***** urlチェック:3/3\n",
            "***** urlに拡張子が含まれていないのでキャンセル\n",
            "https://encrypted-tbn0.gstatic.com/images?q=tbn:ANd9GcQUJuT0YObplTc6NeHOaKhzJ-5B8vvXABfLlg&usqp=CAU\n",
            "74:25,360件の「秋田犬」の画像、写真素材、ベクター画像 | Shutterstock\n",
            "75:犬のフリー素材・無料の写真| ピクト缶\n",
            "76:犬のフリー素材イラスト・画像集めてみた！\n",
            "77:犬｜無料写真素材ならフリー素材タウン\n",
            "***** urlチェック:1/3\n",
            "***** urlチェック:2/3\n",
            "***** urlチェック:3/3\n",
            "***** urlに拡張子が含まれていないのでキャンセル\n",
            "https://encrypted-tbn0.gstatic.com/images?q=tbn:ANd9GcTH2Xmt8f0jmBbm0NUnpGEcZYbNhuGIU63yCg&usqp=CAU\n",
            "77:犬のフリーアイコン｜可愛いフリーアイコン・イラストの無料素材サイト｜フリーペンシル\n",
            "78:小型犬（チワワ）の愛くるしい表情の写真素材 - ぱくたそ\n",
            "79:我が家の可愛い老犬 写真素材 [ 1128622 ] - フォトライブラリー photolibrary\n",
            "80:23,771+以上の無料犬画像\n",
            "81:10000以上の無料子犬&犬画像 - Pixabay\n",
            "82:フリー写真] 仲の良い犬と猫 - パブリックドメインQ：著作権フリー画像素材集\n",
            "83:犬 公園 芝生のフリー写真素材 無料画像素材のプロ・フォト dog0071-023\n",
            "84:無料写真素材 ペット画像・子犬画像・フリー素材\n",
            "***** urlチェック:1/3\n",
            "***** urlチェック:2/3\n",
            "***** urlチェック:3/3\n",
            "***** urlに拡張子が含まれていないのでキャンセル\n",
            "https://encrypted-tbn0.gstatic.com/images?q=tbn:ANd9GcQbQ9I9Uk7A9jhdND_shWEhJAQVAvckM25xbQ&usqp=CAU\n",
            "ダウンロード 1507.7s\n",
            "-------------------------\n"
          ]
        }
      ]
    },
    {
      "cell_type": "markdown",
      "source": [
        "## Colabo上へダウンロードしたファイルをipで固めてローカルにダウンロードする"
      ],
      "metadata": {
        "id": "hfshR1wwg3Uo"
      }
    },
    {
      "cell_type": "code",
      "source": [
        "# ここまでのトータル所要時間を出力する\n",
        "total = tm_end - tm_start\n",
        "total_str = f'トータル時間:{total:.1f}s({total/60:.2f}min)'\n",
        "count_str = f'ダウンロード数:{count}'\n",
        "print(total_str)\n",
        "print(count_str)"
      ],
      "metadata": {
        "colab": {
          "base_uri": "https://localhost:8080/"
        },
        "id": "PjdOWx0cU2YK",
        "outputId": "b5e04271-798a-45fe-ce4b-3cce56dddec9"
      },
      "execution_count": null,
      "outputs": [
        {
          "output_type": "stream",
          "name": "stdout",
          "text": [
            "トータル時間:1559.6s(25.99min)\n",
            "ダウンロード数:84\n"
          ]
        }
      ]
    },
    {
      "cell_type": "code",
      "source": [],
      "metadata": {
        "id": "xsTQXX3YiQD0"
      },
      "execution_count": null,
      "outputs": []
    }
  ]
}