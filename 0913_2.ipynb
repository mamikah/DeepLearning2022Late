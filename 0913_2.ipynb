{
  "nbformat": 4,
  "nbformat_minor": 0,
  "metadata": {
    "colab": {
      "provenance": [],
      "collapsed_sections": [],
      "toc_visible": true,
      "authorship_tag": "ABX9TyPidca5C9c3gWu0U1S63ZK4",
      "include_colab_link": true
    },
    "kernelspec": {
      "name": "python3",
      "display_name": "Python 3"
    },
    "language_info": {
      "name": "python"
    }
  },
  "cells": [
    {
      "cell_type": "markdown",
      "metadata": {
        "id": "view-in-github",
        "colab_type": "text"
      },
      "source": [
        "<a href=\"https://colab.research.google.com/github/mamikah/DeepLearning2022Late/blob/main/0913_2.ipynb\" target=\"_parent\"><img src=\"https://colab.research.google.com/assets/colab-badge.svg\" alt=\"Open In Colab\"/></a>"
      ]
    },
    {
      "cell_type": "markdown",
      "source": [
        "# 辞書型(dictionary)"
      ],
      "metadata": {
        "id": "oOFuc6Qjy6wb"
      }
    },
    {
      "cell_type": "markdown",
      "source": [
        "**キー**と**値**のペアで管理"
      ],
      "metadata": {
        "id": "I4Mq8iELzICL"
      }
    },
    {
      "cell_type": "markdown",
      "source": [
        "### 辞書型の定義\n",
        "{キーワード : 値 , 'キーワード' : 値}でデータを管理"
      ],
      "metadata": {
        "id": "9m4K9rTYzZ4b"
      }
    },
    {
      "cell_type": "code",
      "source": [
        "# 辞書型のデータを使って変数dictに代入\n",
        "dict = {'アップル':1,'ペン':2,'パイナップル':3}\n",
        "print(dict)"
      ],
      "metadata": {
        "colab": {
          "base_uri": "https://localhost:8080/"
        },
        "id": "ulHrNo-vzWuj",
        "outputId": "5aac0d8a-0b21-481a-d930-3a045fc444af"
      },
      "execution_count": 1,
      "outputs": [
        {
          "output_type": "stream",
          "name": "stdout",
          "text": [
            "{'アップル': 1, 'ペン': 2, 'パイナップル': 3}\n"
          ]
        }
      ]
    },
    {
      "cell_type": "code",
      "source": [
        "# 値を利用するときはキーワードで指定\n",
        "print(dict['ペン'])"
      ],
      "metadata": {
        "colab": {
          "base_uri": "https://localhost:8080/"
        },
        "id": "i0MdvbDL0TNv",
        "outputId": "e37afe86-1d11-4c30-b07a-326a6f169b9e"
      },
      "execution_count": 2,
      "outputs": [
        {
          "output_type": "stream",
          "name": "stdout",
          "text": [
            "2\n"
          ]
        }
      ]
    },
    {
      "cell_type": "markdown",
      "source": [
        "### キーワード一覧、値一覧の取得"
      ],
      "metadata": {
        "id": "-iTXML_51EhL"
      }
    },
    {
      "cell_type": "code",
      "source": [
        "print(dict)\n",
        "# キーの一覧\n",
        "print(dict.keys())\n",
        "# 値の一覧\n",
        "print(dict.values())"
      ],
      "metadata": {
        "colab": {
          "base_uri": "https://localhost:8080/"
        },
        "id": "Tfrm5hvG09uc",
        "outputId": "f2442c04-a996-4e67-ccdb-82d018035f1a"
      },
      "execution_count": 3,
      "outputs": [
        {
          "output_type": "stream",
          "name": "stdout",
          "text": [
            "{'アップル': 1, 'ペン': 2, 'パイナップル': 3}\n",
            "dict_keys(['アップル', 'ペン', 'パイナップル'])\n",
            "dict_values([1, 2, 3])\n"
          ]
        }
      ]
    },
    {
      "cell_type": "markdown",
      "source": [
        "### 追加、削除、更新"
      ],
      "metadata": {
        "id": "KQ8d51gw2Zns"
      }
    },
    {
      "cell_type": "code",
      "source": [
        "print(dict)\n",
        "# dictにバナナというキーワードで値５を追加\n",
        "dict['バナナ'] = 5\n",
        "print(dict)"
      ],
      "metadata": {
        "colab": {
          "base_uri": "https://localhost:8080/"
        },
        "id": "tzpH39wC2cjv",
        "outputId": "37afc932-fd87-4a02-a942-516eb3c75604"
      },
      "execution_count": 4,
      "outputs": [
        {
          "output_type": "stream",
          "name": "stdout",
          "text": [
            "{'アップル': 1, 'ペン': 2, 'パイナップル': 3}\n",
            "{'アップル': 1, 'ペン': 2, 'パイナップル': 3, 'バナナ': 5}\n"
          ]
        }
      ]
    },
    {
      "cell_type": "markdown",
      "source": [
        "存在しないキーワードを指定すると追加される<br>\n",
        "※キーワードがすでにあったらそのキーワードの**値を更新**"
      ],
      "metadata": {
        "id": "sdJSeWfd3Hzj"
      }
    },
    {
      "cell_type": "code",
      "source": [
        "print(dict)\n",
        "dict['バナナ'] = 100\n",
        "print(dict)"
      ],
      "metadata": {
        "colab": {
          "base_uri": "https://localhost:8080/"
        },
        "id": "DXUvvdOa3QlP",
        "outputId": "015e27d5-56fd-45c2-b274-c091eb36011f"
      },
      "execution_count": 5,
      "outputs": [
        {
          "output_type": "stream",
          "name": "stdout",
          "text": [
            "{'アップル': 1, 'ペン': 2, 'パイナップル': 3, 'バナナ': 5}\n",
            "{'アップル': 1, 'ペン': 2, 'パイナップル': 3, 'バナナ': 100}\n"
          ]
        }
      ]
    },
    {
      "cell_type": "code",
      "source": [
        "# キーワードで指定したペアを削除\n",
        "print(dict)\n",
        "dict.pop('バナナ')\n",
        "print(dict)"
      ],
      "metadata": {
        "colab": {
          "base_uri": "https://localhost:8080/"
        },
        "id": "FesVwt2E3uqL",
        "outputId": "941e7e71-995d-4aa5-cc31-6b767df306be"
      },
      "execution_count": 6,
      "outputs": [
        {
          "output_type": "stream",
          "name": "stdout",
          "text": [
            "{'アップル': 1, 'ペン': 2, 'パイナップル': 3, 'バナナ': 100}\n",
            "{'アップル': 1, 'ペン': 2, 'パイナップル': 3}\n"
          ]
        }
      ]
    },
    {
      "cell_type": "markdown",
      "source": [
        "# 文字列の整形"
      ],
      "metadata": {
        "id": "8ozu2keg4bx9"
      }
    },
    {
      "cell_type": "markdown",
      "source": [
        "### 文字列の連結と繰り返し"
      ],
      "metadata": {
        "id": "IrbLbZo-41Hh"
      }
    },
    {
      "cell_type": "markdown",
      "source": [
        "-----------------------------------------文字列の連結-----------------------------------------"
      ],
      "metadata": {
        "id": "BAbkh-bH6nXz"
      }
    },
    {
      "cell_type": "code",
      "source": [
        "# 文字列の連結方法①\n",
        "apple = 'アップル'\n",
        "pen = 'ペン'\n",
        "\n",
        "print(apple + pen)"
      ],
      "metadata": {
        "colab": {
          "base_uri": "https://localhost:8080/"
        },
        "id": "HxLmpLWn4xEQ",
        "outputId": "6b1418eb-e205-4928-b436-24172911d58e"
      },
      "execution_count": 9,
      "outputs": [
        {
          "output_type": "stream",
          "name": "stdout",
          "text": [
            "アップルペン\n"
          ]
        }
      ]
    },
    {
      "cell_type": "code",
      "source": [
        "# 文字列の連結方法②（文字配列を連結する）\n",
        "piko = ['ペン','パイナッポー','アッポー','ペン']\n",
        "#print メソッドで連結して表示　例：,で連結\n",
        "print(','.join(piko))"
      ],
      "metadata": {
        "colab": {
          "base_uri": "https://localhost:8080/"
        },
        "id": "bciVgI9H5GEP",
        "outputId": "fba839d6-d01c-4815-c29f-2406d797fab3"
      },
      "execution_count": 11,
      "outputs": [
        {
          "output_type": "stream",
          "name": "stdout",
          "text": [
            "ペンパイナッポーアッポーペン\n"
          ]
        }
      ]
    },
    {
      "cell_type": "markdown",
      "source": [
        "※文字配列の連結で''と中を何も入れないと文字と文字の間に文字を入れないで連結することができる"
      ],
      "metadata": {
        "id": "ao5yuUd26TMo"
      }
    },
    {
      "cell_type": "markdown",
      "source": [
        "-----------------------------------------繰り返し-----------------------------------------"
      ],
      "metadata": {
        "id": "w7sEUrZ660CZ"
      }
    },
    {
      "cell_type": "code",
      "source": [
        "# 回数を指定して繰り返す\n",
        "pon = 'ポン'\n",
        "print(pon * 3)"
      ],
      "metadata": {
        "colab": {
          "base_uri": "https://localhost:8080/"
        },
        "id": "aqbN-w6O6fla",
        "outputId": "edb37010-1fb3-475f-8ead-ecab0c9e7294"
      },
      "execution_count": 12,
      "outputs": [
        {
          "output_type": "stream",
          "name": "stdout",
          "text": [
            "ポンポンポン\n"
          ]
        }
      ]
    },
    {
      "cell_type": "markdown",
      "source": [
        "# 【重要】文字列の整形(フォーマット)"
      ],
      "metadata": {
        "id": "GbjX4uQf7PpZ"
      }
    },
    {
      "cell_type": "markdown",
      "source": [
        "### 定式で指定した形のメッセージにする"
      ],
      "metadata": {
        "id": "M0rOnsCS7V0q"
      }
    },
    {
      "cell_type": "code",
      "source": [
        "print('{}{}:{}円')\n",
        "# 定義した順番\n",
        "print('{}{}:{}円'.format('アップル','ペン',100))\n",
        "# インデックスで指定\n",
        "print('{1}{0}:{2}円'.format('アップル','ペン',100))"
      ],
      "metadata": {
        "colab": {
          "base_uri": "https://localhost:8080/"
        },
        "id": "lAhCJjSa7N-8",
        "outputId": "3e2d35c2-a5ae-4734-bea8-6cdc988ea657"
      },
      "execution_count": 22,
      "outputs": [
        {
          "output_type": "stream",
          "name": "stdout",
          "text": [
            "{}{}:{}円\n",
            "アップルペン:100円\n",
            "ペンアップル:100円\n"
          ]
        }
      ]
    },
    {
      "cell_type": "code",
      "source": [],
      "metadata": {
        "id": "EyO43lro7gIU"
      },
      "execution_count": null,
      "outputs": []
    }
  ]
}