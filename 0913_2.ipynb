{
  "nbformat": 4,
  "nbformat_minor": 0,
  "metadata": {
    "colab": {
      "provenance": [],
      "collapsed_sections": [],
      "toc_visible": true,
      "authorship_tag": "ABX9TyMFAyMPj2qUFPDQUoZxg+BX",
      "include_colab_link": true
    },
    "kernelspec": {
      "name": "python3",
      "display_name": "Python 3"
    },
    "language_info": {
      "name": "python"
    }
  },
  "cells": [
    {
      "cell_type": "markdown",
      "metadata": {
        "id": "view-in-github",
        "colab_type": "text"
      },
      "source": [
        "<a href=\"https://colab.research.google.com/github/mamikah/DeepLearning2022Late/blob/main/0913_2.ipynb\" target=\"_parent\"><img src=\"https://colab.research.google.com/assets/colab-badge.svg\" alt=\"Open In Colab\"/></a>"
      ]
    },
    {
      "cell_type": "markdown",
      "source": [
        "# 辞書型(dictionary)"
      ],
      "metadata": {
        "id": "oOFuc6Qjy6wb"
      }
    },
    {
      "cell_type": "markdown",
      "source": [
        "**キー**と**値**のペアで管理"
      ],
      "metadata": {
        "id": "I4Mq8iELzICL"
      }
    },
    {
      "cell_type": "markdown",
      "source": [
        "### 辞書型の定義\n",
        "{キーワード : 値 , 'キーワード' : 値}でデータを管理"
      ],
      "metadata": {
        "id": "9m4K9rTYzZ4b"
      }
    },
    {
      "cell_type": "code",
      "source": [
        "# 辞書型のデータを使って変数dictに代入\n",
        "dict = {'アップル':1,'ペン':2,'パイナップル':3}\n",
        "print(dict)"
      ],
      "metadata": {
        "colab": {
          "base_uri": "https://localhost:8080/"
        },
        "id": "ulHrNo-vzWuj",
        "outputId": "2fbd57c3-38f4-429a-be6b-d02810a322f0"
      },
      "execution_count": 1,
      "outputs": [
        {
          "output_type": "stream",
          "name": "stdout",
          "text": [
            "{'アップル': 1, 'ペン': 2, 'パイナップル': 3}\n"
          ]
        }
      ]
    },
    {
      "cell_type": "code",
      "source": [
        "# 値を利用するときはキーワードで指定\n",
        "print(dict['ペン'])"
      ],
      "metadata": {
        "colab": {
          "base_uri": "https://localhost:8080/"
        },
        "id": "i0MdvbDL0TNv",
        "outputId": "b5854e80-f006-40d4-ed10-e846fdc89721"
      },
      "execution_count": 2,
      "outputs": [
        {
          "output_type": "stream",
          "name": "stdout",
          "text": [
            "2\n"
          ]
        }
      ]
    },
    {
      "cell_type": "markdown",
      "source": [
        "### キーワード一覧、値一覧の取得"
      ],
      "metadata": {
        "id": "-iTXML_51EhL"
      }
    },
    {
      "cell_type": "code",
      "source": [
        "print(dict)\n",
        "# キーの一覧\n",
        "print(dict.keys())\n",
        "# 値の一覧\n",
        "print(dict.values())"
      ],
      "metadata": {
        "colab": {
          "base_uri": "https://localhost:8080/"
        },
        "id": "Tfrm5hvG09uc",
        "outputId": "6032f790-b1be-424b-878d-5b8e1933bb1d"
      },
      "execution_count": 3,
      "outputs": [
        {
          "output_type": "stream",
          "name": "stdout",
          "text": [
            "{'アップル': 1, 'ペン': 2, 'パイナップル': 3}\n",
            "dict_keys(['アップル', 'ペン', 'パイナップル'])\n",
            "dict_values([1, 2, 3])\n"
          ]
        }
      ]
    },
    {
      "cell_type": "markdown",
      "source": [
        "### 追加、削除、更新"
      ],
      "metadata": {
        "id": "KQ8d51gw2Zns"
      }
    },
    {
      "cell_type": "code",
      "source": [
        "print(dict)\n",
        "# dictにバナナというキーワードで値５を追加\n",
        "dict['バナナ'] = 5\n",
        "print(dict)"
      ],
      "metadata": {
        "colab": {
          "base_uri": "https://localhost:8080/"
        },
        "id": "tzpH39wC2cjv",
        "outputId": "a8ff89f2-7e2f-46eb-836e-eeb275aa1ec1"
      },
      "execution_count": 4,
      "outputs": [
        {
          "output_type": "stream",
          "name": "stdout",
          "text": [
            "{'アップル': 1, 'ペン': 2, 'パイナップル': 3}\n",
            "{'アップル': 1, 'ペン': 2, 'パイナップル': 3, 'バナナ': 5}\n"
          ]
        }
      ]
    },
    {
      "cell_type": "markdown",
      "source": [
        "存在しないキーワードを指定すると追加される<br>\n",
        "※キーワードがすでにあったらそのキーワードの**値を更新**"
      ],
      "metadata": {
        "id": "sdJSeWfd3Hzj"
      }
    },
    {
      "cell_type": "code",
      "source": [
        "print(dict)\n",
        "dict['バナナ'] = 100\n",
        "print(dict)"
      ],
      "metadata": {
        "colab": {
          "base_uri": "https://localhost:8080/"
        },
        "id": "DXUvvdOa3QlP",
        "outputId": "1d0db5f9-e256-4944-b169-ef4662d4d646"
      },
      "execution_count": 5,
      "outputs": [
        {
          "output_type": "stream",
          "name": "stdout",
          "text": [
            "{'アップル': 1, 'ペン': 2, 'パイナップル': 3, 'バナナ': 5}\n",
            "{'アップル': 1, 'ペン': 2, 'パイナップル': 3, 'バナナ': 100}\n"
          ]
        }
      ]
    },
    {
      "cell_type": "code",
      "source": [
        "# キーワードで指定したペアを削除\n",
        "print(dict)\n",
        "dict.pop('バナナ')\n",
        "print(dict)"
      ],
      "metadata": {
        "colab": {
          "base_uri": "https://localhost:8080/"
        },
        "id": "FesVwt2E3uqL",
        "outputId": "c9b51a94-25e6-47b2-a260-5c2252d8f3ae"
      },
      "execution_count": 6,
      "outputs": [
        {
          "output_type": "stream",
          "name": "stdout",
          "text": [
            "{'アップル': 1, 'ペン': 2, 'パイナップル': 3, 'バナナ': 100}\n",
            "{'アップル': 1, 'ペン': 2, 'パイナップル': 3}\n"
          ]
        }
      ]
    },
    {
      "cell_type": "markdown",
      "source": [
        "# 文字列の整形"
      ],
      "metadata": {
        "id": "8ozu2keg4bx9"
      }
    },
    {
      "cell_type": "markdown",
      "source": [
        "### 文字列の連結と繰り返し"
      ],
      "metadata": {
        "id": "IrbLbZo-41Hh"
      }
    },
    {
      "cell_type": "markdown",
      "source": [
        "-----------------------------------------文字列の連結-----------------------------------------"
      ],
      "metadata": {
        "id": "BAbkh-bH6nXz"
      }
    },
    {
      "cell_type": "code",
      "source": [
        "# 文字列の連結方法①\n",
        "apple = 'アップル'\n",
        "pen = 'ペン'\n",
        "\n",
        "print(apple + pen)"
      ],
      "metadata": {
        "colab": {
          "base_uri": "https://localhost:8080/"
        },
        "id": "HxLmpLWn4xEQ",
        "outputId": "a798e271-301b-4bc2-9b6a-39ded6fe3871"
      },
      "execution_count": 7,
      "outputs": [
        {
          "output_type": "stream",
          "name": "stdout",
          "text": [
            "アップルペン\n"
          ]
        }
      ]
    },
    {
      "cell_type": "code",
      "source": [
        "# 文字列の連結方法②（文字配列を連結する）\n",
        "piko = ['ペン','パイナッポー','アッポー','ペン']\n",
        "#print メソッドで連結して表示　例：,で連結\n",
        "print(','.join(piko))"
      ],
      "metadata": {
        "colab": {
          "base_uri": "https://localhost:8080/"
        },
        "id": "bciVgI9H5GEP",
        "outputId": "2a44fe4a-7af6-48d1-eff0-161e0cdd4293"
      },
      "execution_count": 8,
      "outputs": [
        {
          "output_type": "stream",
          "name": "stdout",
          "text": [
            "ペン,パイナッポー,アッポー,ペン\n"
          ]
        }
      ]
    },
    {
      "cell_type": "markdown",
      "source": [
        "※文字配列の連結で''と中を何も入れないと文字と文字の間に文字を入れないで連結することができる"
      ],
      "metadata": {
        "id": "ao5yuUd26TMo"
      }
    },
    {
      "cell_type": "markdown",
      "source": [
        "-----------------------------------------繰り返し-----------------------------------------"
      ],
      "metadata": {
        "id": "w7sEUrZ660CZ"
      }
    },
    {
      "cell_type": "code",
      "source": [
        "# 回数を指定して繰り返す\n",
        "pon = 'ポン'\n",
        "print(pon * 3)"
      ],
      "metadata": {
        "colab": {
          "base_uri": "https://localhost:8080/"
        },
        "id": "aqbN-w6O6fla",
        "outputId": "64e3b495-39dc-4fb9-ee0f-5d5c6cbc92e6"
      },
      "execution_count": 9,
      "outputs": [
        {
          "output_type": "stream",
          "name": "stdout",
          "text": [
            "ポンポンポン\n"
          ]
        }
      ]
    },
    {
      "cell_type": "markdown",
      "source": [
        "# 【重要】文字列の整形(フォーマット)"
      ],
      "metadata": {
        "id": "GbjX4uQf7PpZ"
      }
    },
    {
      "cell_type": "markdown",
      "source": [
        "### 定式で指定した形のメッセージにする"
      ],
      "metadata": {
        "id": "M0rOnsCS7V0q"
      }
    },
    {
      "cell_type": "code",
      "source": [
        "print('{}{}:{}円')\n",
        "# 定義した順番\n",
        "print('{}{}:{}円'.format('アップル','ペン',100))\n",
        "# インデックスで指定\n",
        "print('{1}{0}:{2}円'.format('アップル','ペン',100))"
      ],
      "metadata": {
        "colab": {
          "base_uri": "https://localhost:8080/"
        },
        "id": "lAhCJjSa7N-8",
        "outputId": "5f695bc2-a2c1-4640-d4c6-b3327c61ed8b"
      },
      "execution_count": 10,
      "outputs": [
        {
          "output_type": "stream",
          "name": "stdout",
          "text": [
            "{}{}:{}円\n",
            "アップルペン:100円\n",
            "ペンアップル:100円\n"
          ]
        }
      ]
    },
    {
      "cell_type": "markdown",
      "source": [
        "# コレクション演算"
      ],
      "metadata": {
        "id": "kCW7wE7JYBzI"
      }
    },
    {
      "cell_type": "markdown",
      "source": [
        "順番がある集合→**シーケンス**<br>\n",
        "順番がない集合→**集合型(セット)**<br>\n",
        "↑二つまとめて**コレクション**<br>\n",
        "コレクションは共通の演算が使える<br>\n",
        "ex)**len**(長さ、量)、**max**(最大値)、**min**(最小値)"
      ],
      "metadata": {
        "id": "vg2bzpJkYGVv"
      }
    },
    {
      "cell_type": "code",
      "source": [
        "list = [1,1,2,3,4,5]\n",
        "tuple = (10,9,7,7,8,8,9)\n",
        "set = {1,-2,3,-4,5,-6,7,-8}\n",
        "# リストの長さ、最大値、最小値\n",
        "print('リストの演算',len(list),max(list),min(list))\n",
        "# タプルの長さ、最大値、最小値\n",
        "print('タプルの演算',len(tuple),max(tuple),min(tuple))\n",
        "# セットの長さ、最大値、最小値\n",
        "print('セットの演算',len(set),max(set),min(set))"
      ],
      "metadata": {
        "id": "EyO43lro7gIU",
        "colab": {
          "base_uri": "https://localhost:8080/"
        },
        "outputId": "8cf77dcc-1a5c-4709-9001-df180b29e304"
      },
      "execution_count": 15,
      "outputs": [
        {
          "output_type": "stream",
          "name": "stdout",
          "text": [
            "リストの演算 6 5 1\n",
            "タプルの演算 7 10 7\n",
            "セットの演算 8 7 -8\n"
          ]
        }
      ]
    },
    {
      "cell_type": "code",
      "source": [],
      "metadata": {
        "id": "WPcduKJ0ZKy1"
      },
      "execution_count": null,
      "outputs": []
    }
  ]
}