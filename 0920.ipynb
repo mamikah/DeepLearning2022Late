{
  "nbformat": 4,
  "nbformat_minor": 0,
  "metadata": {
    "colab": {
      "provenance": [],
      "collapsed_sections": [],
      "toc_visible": true,
      "authorship_tag": "ABX9TyMv6vEpLRYhlHPUn//HjyVX",
      "include_colab_link": true
    },
    "kernelspec": {
      "name": "python3",
      "display_name": "Python 3"
    },
    "language_info": {
      "name": "python"
    }
  },
  "cells": [
    {
      "cell_type": "markdown",
      "metadata": {
        "id": "view-in-github",
        "colab_type": "text"
      },
      "source": [
        "<a href=\"https://colab.research.google.com/github/mamikah/DeepLearning2022Late/blob/main/0920.ipynb\" target=\"_parent\"><img src=\"https://colab.research.google.com/assets/colab-badge.svg\" alt=\"Open In Colab\"/></a>"
      ]
    },
    {
      "cell_type": "markdown",
      "source": [],
      "metadata": {
        "id": "8wrtFizJbSht"
      }
    },
    {
      "cell_type": "markdown",
      "source": [
        "# python3での関数"
      ],
      "metadata": {
        "id": "A2WzI08obVJF"
      }
    },
    {
      "cell_type": "markdown",
      "source": [
        "### 関数を定義し、実行する"
      ],
      "metadata": {
        "id": "0Obut6edbk8m"
      }
    },
    {
      "cell_type": "code",
      "execution_count": 3,
      "metadata": {
        "colab": {
          "base_uri": "https://localhost:8080/"
        },
        "id": "rBboYU01a9pv",
        "outputId": "d467bc7c-e167-44d1-d3a7-0c0625c5c0ff"
      },
      "outputs": [
        {
          "output_type": "stream",
          "name": "stdout",
          "text": [
            "test kansuu!\n",
            "hello,kansuu!\n",
            "hello,kansuu!\n"
          ]
        }
      ],
      "source": [
        "# helloという関数を定義する\n",
        "# 'hello,kansuu!' と画面表示する関数\n",
        "def hello():\n",
        "  print('hello,kansuu!')\n",
        "print('test kansuu!')\n",
        "\n",
        "# 関数を実行する\n",
        "hello()\n",
        "hello()"
      ]
    },
    {
      "cell_type": "markdown",
      "source": [
        "### 引数付きの関数を定義し、実行する"
      ],
      "metadata": {
        "id": "Y6EuN9aievEl"
      }
    },
    {
      "cell_type": "code",
      "source": [
        "# hello(引数付き)という関数を定義する\n",
        "def hello(who):\n",
        "  print('hello,',who)\n",
        "\n",
        "hello('mamika')"
      ],
      "metadata": {
        "colab": {
          "base_uri": "https://localhost:8080/"
        },
        "id": "ynUkFOEacELy",
        "outputId": "fed1951d-a306-4498-f5c8-3585a071c95a"
      },
      "execution_count": 8,
      "outputs": [
        {
          "output_type": "stream",
          "name": "stdout",
          "text": [
            "hello, mamika\n"
          ]
        }
      ]
    },
    {
      "cell_type": "markdown",
      "source": [
        "### 複数の引数付きの関数を定義"
      ],
      "metadata": {
        "id": "qa14QydggMDJ"
      }
    },
    {
      "cell_type": "code",
      "source": [
        " \n",
        "def hello(who,aisatsu):\n",
        "   print(who+'さん、',end='')\n",
        "   print(aisatsu+'。')\n",
        "  \n",
        "hello('mamika','こんにちは')\n",
        "hello('hayashida','こんばんは')"
      ],
      "metadata": {
        "colab": {
          "base_uri": "https://localhost:8080/"
        },
        "id": "B1P-WeMdetRU",
        "outputId": "0073dd05-7b6a-45ec-b81c-34c63a6f642d"
      },
      "execution_count": 16,
      "outputs": [
        {
          "output_type": "stream",
          "name": "stdout",
          "text": [
            "mamikaさん、こんにちは。\n",
            "hayashidaさん、こんばんは。\n"
          ]
        }
      ]
    },
    {
      "cell_type": "markdown",
      "source": [
        "### 関数の戻り値を定義する"
      ],
      "metadata": {
        "id": "HgeOTG5_h1ua"
      }
    },
    {
      "cell_type": "markdown",
      "source": [
        "#### 戻り値１つの関数を定義、実行"
      ],
      "metadata": {
        "id": "58nbCYPph7Tu"
      }
    },
    {
      "cell_type": "code",
      "source": [
        "def helloBack(who,aisatsu):\n",
        "  return who + 'さん、'+ aisatsu\n",
        "\n",
        "print(helloBack('hayashida','おはようございます'))\n",
        "print(helloBack('mamika','こんにちは'))"
      ],
      "metadata": {
        "colab": {
          "base_uri": "https://localhost:8080/"
        },
        "id": "AQxKD-84goHN",
        "outputId": "a7a4065b-54b0-4c9c-cda3-3f6a4d62618e"
      },
      "execution_count": 20,
      "outputs": [
        {
          "output_type": "stream",
          "name": "stdout",
          "text": [
            "hayashidaさん、おはようございます\n",
            "mamikaさん、こんにちは\n"
          ]
        }
      ]
    },
    {
      "cell_type": "markdown",
      "source": [
        "#### 戻り値複数の関数を定義、実行"
      ],
      "metadata": {
        "id": "2zAUH1WhjUoC"
      }
    },
    {
      "cell_type": "code",
      "source": [
        "def keisan(x,y):\n",
        "  # 複数の戻り値\n",
        "  return x,y,x+y,x-y\n",
        "\n",
        "print(keisan(10,20))\n",
        "# e,f,g = keisan(10,20)\n",
        "# print(e,f,g)"
      ],
      "metadata": {
        "colab": {
          "base_uri": "https://localhost:8080/"
        },
        "id": "GGfgDSkziefH",
        "outputId": "fd72f05e-67b2-4a35-c998-053b8e153af5"
      },
      "execution_count": 25,
      "outputs": [
        {
          "output_type": "stream",
          "name": "stdout",
          "text": [
            "(10, 20, 30, -10)\n"
          ]
        }
      ]
    },
    {
      "cell_type": "markdown",
      "source": [
        "# その他の文法"
      ],
      "metadata": {
        "id": "zb2Kh4VllYZI"
      }
    },
    {
      "cell_type": "markdown",
      "source": [
        "### 分岐(if文）"
      ],
      "metadata": {
        "id": "J-l7CSACle8p"
      }
    },
    {
      "cell_type": "code",
      "source": [
        "# numの値をしきい値で分岐する\n",
        "def over(num,num2):\n",
        "  if num > num2:\n",
        "    print(str(num)+'は'+str(num2)+'より大きい')\n",
        "  else:\n",
        "    print(str(num)+'は'+str(num2)+'以下です')\n",
        "\n",
        "over(1,2)\n",
        "over(2,1)"
      ],
      "metadata": {
        "colab": {
          "base_uri": "https://localhost:8080/"
        },
        "id": "5U8ngYd3jmHx",
        "outputId": "254b8898-f0ee-4f0c-bde1-4ef67dd011e7"
      },
      "execution_count": 28,
      "outputs": [
        {
          "output_type": "stream",
          "name": "stdout",
          "text": [
            "1は2以下です\n",
            "2は1より大きい\n"
          ]
        }
      ]
    },
    {
      "cell_type": "code",
      "source": [
        "\n",
        "# リストに第二引数の値が含まれるか判定\n",
        "def include(list,keyword):\n",
        "  # リストを集合に変換\n",
        "  uniq = set(list)\n",
        "  if keyword in uniq:\n",
        "    print(keyword + 'が含まれる')\n",
        "  else:\n",
        "    print(keyword + 'は含まれない')\n",
        "\n",
        "list_1 = ['アップル','ペン','パイナップル','ペン']\n",
        "include(list_1,'アップル')\n",
        "include(list_1,'バナナ')"
      ],
      "metadata": {
        "colab": {
          "base_uri": "https://localhost:8080/"
        },
        "id": "DDxXg5SIlc9O",
        "outputId": "148a066a-d8af-4d9e-a57c-b4816fe3acd9"
      },
      "execution_count": 32,
      "outputs": [
        {
          "output_type": "stream",
          "name": "stdout",
          "text": [
            "アップルが含まれる\n",
            "バナナは含まれない\n"
          ]
        }
      ]
    },
    {
      "cell_type": "markdown",
      "source": [
        "### 繰り返し文(while)"
      ],
      "metadata": {
        "id": "Sg2HzF1pwWXC"
      }
    },
    {
      "cell_type": "markdown",
      "source": [
        "while文は条件がtrueの間繰り返す"
      ],
      "metadata": {
        "id": "qW3bdP12wlUu"
      }
    },
    {
      "cell_type": "code",
      "source": [
        "def count(max):\n",
        "  num = 0\n",
        "  while num < max:\n",
        "    print('♥',end='')\n",
        "    num +=1\n",
        "  \n",
        "count(3)"
      ],
      "metadata": {
        "colab": {
          "base_uri": "https://localhost:8080/"
        },
        "id": "1FjWGgrHuzbx",
        "outputId": "e942113f-488c-4e29-d7ea-047de082769c"
      },
      "execution_count": 35,
      "outputs": [
        {
          "output_type": "stream",
          "name": "stdout",
          "text": [
            "♥♥♥"
          ]
        }
      ]
    },
    {
      "cell_type": "markdown",
      "source": [
        "### くり返し文(for)"
      ],
      "metadata": {
        "id": "jcGz-_QqzANQ"
      }
    },
    {
      "cell_type": "markdown",
      "source": [
        "例)変数βの集合から一つずつ取っ出して変数αとして使う<br>\n",
        "for α in range(β) "
      ],
      "metadata": {
        "id": "zdTT-SkJzZm7"
      }
    },
    {
      "cell_type": "code",
      "source": [
        "# コレクションの中から取り出して繰り返し\n",
        "def every(array):\n",
        "  for x in array:\n",
        "    print(x)\n",
        "  \n",
        "list = [1,2,3]\n",
        "tuple = (4,5,6)\n",
        "dict = {'a':7,'b':8,'c':9}\n",
        "every(list)\n",
        "every(tuple)\n",
        "every(dict)\n",
        "value = dict.values()\n",
        "every(value)\n",
        "# 一文字ずつ表示\n",
        "every('dog')"
      ],
      "metadata": {
        "colab": {
          "base_uri": "https://localhost:8080/"
        },
        "id": "6RHpCWpAw7aG",
        "outputId": "d9931c83-49f3-434c-d92f-439519f192a6"
      },
      "execution_count": 43,
      "outputs": [
        {
          "output_type": "stream",
          "name": "stdout",
          "text": [
            "1\n",
            "2\n",
            "3\n",
            "4\n",
            "5\n",
            "6\n",
            "a\n",
            "b\n",
            "c\n",
            "7\n",
            "8\n",
            "9\n",
            "d\n",
            "o\n",
            "g\n"
          ]
        }
      ]
    },
    {
      "cell_type": "markdown",
      "source": [
        "カウンター変数<br>\n",
        "for n in range(数値)<br> 0～数値未満繰り返す"
      ],
      "metadata": {
        "id": "-p1zpqT23DZR"
      }
    },
    {
      "cell_type": "code",
      "source": [
        "def count(num):\n",
        "  for i in range(num):\n",
        "    print(i)\n",
        "\n",
        "\n",
        "count(3)\n"
      ],
      "metadata": {
        "colab": {
          "base_uri": "https://localhost:8080/"
        },
        "id": "g2L3nVYU0m6p",
        "outputId": "3bf8ebf4-c080-48c1-8790-9e4c53af3904"
      },
      "execution_count": 44,
      "outputs": [
        {
          "output_type": "stream",
          "name": "stdout",
          "text": [
            "0\n",
            "1\n",
            "2\n"
          ]
        }
      ]
    },
    {
      "cell_type": "markdown",
      "source": [
        "ループを止めたい時はbreak"
      ],
      "metadata": {
        "id": "l6ehXLR55x2t"
      }
    },
    {
      "cell_type": "code",
      "source": [
        "def stop(array):\n",
        "  for i in array:\n",
        "    if i >= 4:\n",
        "      break\n",
        "    print(i)\n",
        "\n",
        "\n",
        "list = [1,2,3,4,5,1,2,3,4,5]\n",
        "stop(list)"
      ],
      "metadata": {
        "colab": {
          "base_uri": "https://localhost:8080/"
        },
        "id": "98g0n9kh36i0",
        "outputId": "eb5b6923-e9b6-4216-f668-c59817bc3945"
      },
      "execution_count": 45,
      "outputs": [
        {
          "output_type": "stream",
          "name": "stdout",
          "text": [
            "1\n",
            "2\n",
            "3\n"
          ]
        }
      ]
    },
    {
      "cell_type": "markdown",
      "source": [
        "くり返しをスキップしたい時はcontinue"
      ],
      "metadata": {
        "id": "IIUTtSR46f5c"
      }
    },
    {
      "cell_type": "code",
      "source": [
        "def skip(array):\n",
        "  for i in array:\n",
        "    if i >=4:\n",
        "      continue\n",
        "    print(i)\n",
        "  \n",
        "skip(list)"
      ],
      "metadata": {
        "colab": {
          "base_uri": "https://localhost:8080/"
        },
        "id": "j6BgmE475wZm",
        "outputId": "ace3863b-d2ef-44fe-aeff-80af118a3c29"
      },
      "execution_count": 46,
      "outputs": [
        {
          "output_type": "stream",
          "name": "stdout",
          "text": [
            "1\n",
            "2\n",
            "3\n",
            "1\n",
            "2\n",
            "3\n"
          ]
        }
      ]
    },
    {
      "cell_type": "code",
      "source": [],
      "metadata": {
        "id": "nmVB-Ijy7Oiv"
      },
      "execution_count": null,
      "outputs": []
    }
  ]
}