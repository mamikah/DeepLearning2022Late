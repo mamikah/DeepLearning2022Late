{
  "nbformat": 4,
  "nbformat_minor": 0,
  "metadata": {
    "colab": {
      "provenance": [],
      "authorship_tag": "ABX9TyN0PAXW5Psg16O6wIDWeHtK",
      "include_colab_link": true
    },
    "kernelspec": {
      "name": "python3",
      "display_name": "Python 3"
    },
    "language_info": {
      "name": "python"
    }
  },
  "cells": [
    {
      "cell_type": "markdown",
      "metadata": {
        "id": "view-in-github",
        "colab_type": "text"
      },
      "source": [
        "<a href=\"https://colab.research.google.com/github/mamikah/DeepLearning2022Late/blob/main/CNN%2BTrain_example2022.ipynb\" target=\"_parent\"><img src=\"https://colab.research.google.com/assets/colab-badge.svg\" alt=\"Open In Colab\"/></a>"
      ]
    },
    {
      "cell_type": "markdown",
      "source": [
        "# CNN(畳み込みを含むニューラルネットワーク)でモデルに学習させる(=訓練)"
      ],
      "metadata": {
        "id": "NtItYWnB1GW3"
      }
    },
    {
      "cell_type": "markdown",
      "source": [
        "## 学習モデルのライブラリを読み込む\n"
      ],
      "metadata": {
        "id": "MwR0xJZs2VKP"
      }
    },
    {
      "cell_type": "code",
      "execution_count": 11,
      "metadata": {
        "id": "ouRFUrFQ1BFN"
      },
      "outputs": [],
      "source": [
        "from keras.models import Sequential,Model # 学習モデル\n",
        "from keras.layers import Conv2D, Dense,Flatten # 畳み込み層、プーリング層のクラス\n"
      ]
    },
    {
      "cell_type": "markdown",
      "source": [
        "## keras自身もimport"
      ],
      "metadata": {
        "id": "4Y0afO_r529T"
      }
    },
    {
      "cell_type": "code",
      "source": [
        "import keras"
      ],
      "metadata": {
        "id": "_ZXXkMWi57Cr"
      },
      "execution_count": 12,
      "outputs": []
    },
    {
      "cell_type": "markdown",
      "source": [
        "## SVG画像表示ライブラリのimport"
      ],
      "metadata": {
        "id": "43GkdRYy2YjL"
      }
    },
    {
      "cell_type": "code",
      "source": [
        "from IPython.display import  SVG\n",
        "from keras.utils.vis_utils import model_to_dot"
      ],
      "metadata": {
        "id": "NAyABTeg2Qm2"
      },
      "execution_count": 13,
      "outputs": []
    },
    {
      "cell_type": "markdown",
      "source": [
        "## その他のライブラリをimport"
      ],
      "metadata": {
        "id": "xOuVea_H3Rta"
      }
    },
    {
      "cell_type": "code",
      "source": [
        "# 乱数を作るためにNumpyをimport\n",
        "import numpy as np\n",
        "# 早期終了(Earl Stopping)のためのライブラリをimport\n",
        "import keras.callbacks as callbacks"
      ],
      "metadata": {
        "id": "CPs23Jcj3WwN"
      },
      "execution_count": 14,
      "outputs": []
    },
    {
      "cell_type": "markdown",
      "source": [
        "## Numpyで乱数を作り、ダミーデータとして学習用、検証用にする"
      ],
      "metadata": {
        "id": "e1x2ZJN53U4R"
      }
    },
    {
      "cell_type": "code",
      "source": [
        "x_train = np.random.random((100,6,6,1))\n",
        "y_train = keras.utils.to_categorical(np.random.randint(10,size=(100,1)),\n",
        "                                     num_classes=10)"
      ],
      "metadata": {
        "id": "PoeYttlY2bBq"
      },
      "execution_count": 15,
      "outputs": []
    },
    {
      "cell_type": "code",
      "source": [
        "# テスト検証用データをx_testとしてつくる\n",
        "x_test = np.random.random((20,6,6,1))\n",
        "# テスト検証用データの正解をy_testとしてつくる\n",
        "y_test = keras.utils.to_categorical(np.random.randint(10,size=(20,1)),\n",
        "                                    num_classes=10)"
      ],
      "metadata": {
        "id": "sEodoNCb6Ibv"
      },
      "execution_count": 16,
      "outputs": []
    },
    {
      "cell_type": "markdown",
      "source": [
        "## 学習モデルを生成"
      ],
      "metadata": {
        "id": "ysEDM1k49lDa"
      }
    },
    {
      "cell_type": "code",
      "source": [
        "model = Sequential()"
      ],
      "metadata": {
        "id": "fUeFZekS7pH-"
      },
      "execution_count": 17,
      "outputs": []
    },
    {
      "cell_type": "markdown",
      "source": [
        "## ニューロン層を追加してニューラルネットワークにする"
      ],
      "metadata": {
        "id": "mfxYxOZL9wYF"
      }
    },
    {
      "cell_type": "markdown",
      "source": [
        "## 畳み込み層を追加"
      ],
      "metadata": {
        "id": "hT7HuzCc92sX"
      }
    },
    {
      "cell_type": "code",
      "source": [
        "model.add(Conv2D(\n",
        "    filters=3,  # 3種類のフィルター\n",
        "    kernel_size=(3,3), # 縦3横3の受容野をずらしていく\n",
        "    kernel_initializer='lecun_uniform',\n",
        "    input_shape=(6,6,1), # 入力画像の1個ずつの形（縦6横6）\n",
        "    name='Conv2D_1'\n",
        "))"
      ],
      "metadata": {
        "id": "wOPi2x6f9oX4"
      },
      "execution_count": 18,
      "outputs": []
    },
    {
      "cell_type": "markdown",
      "source": [
        "## そのほかの層も追加する"
      ],
      "metadata": {
        "id": "fD9lKznPAv46"
      }
    },
    {
      "cell_type": "code",
      "source": [
        "model.add(Flatten(name='Flatten_1'))\n",
        "# softmaxで分類するニューロン層\n",
        "model.add(Dense(units=10,activation='softmax',name='Dense_1'))"
      ],
      "metadata": {
        "id": "ff-LZJTG97yB"
      },
      "execution_count": 19,
      "outputs": []
    },
    {
      "cell_type": "markdown",
      "source": [
        "## 学習モデルの形を確認"
      ],
      "metadata": {
        "id": "bNVDTvoFG2jO"
      }
    },
    {
      "cell_type": "code",
      "source": [
        "SVG(model_to_dot(model,show_shapes=True,dpi=None).create(prog='dot', format='svg'))"
      ],
      "metadata": {
        "colab": {
          "base_uri": "https://localhost:8080/",
          "height": 427
        },
        "id": "_30vH3XGA0gR",
        "outputId": "4b4ea3fe-76a3-40bf-d640-9d51b943dddd"
      },
      "execution_count": 20,
      "outputs": [
        {
          "output_type": "execute_result",
          "data": {
            "text/plain": [
              "<IPython.core.display.SVG object>"
            ],
            "image/svg+xml": "<svg height=\"304pt\" viewBox=\"0.00 0.00 368.00 304.00\" width=\"368pt\" xmlns=\"http://www.w3.org/2000/svg\" xmlns:xlink=\"http://www.w3.org/1999/xlink\">\n<g class=\"graph\" id=\"graph0\" transform=\"scale(1 1) rotate(0) translate(4 300)\">\n<title>G</title>\n<polygon fill=\"#ffffff\" points=\"-4,4 -4,-300 364,-300 364,4 -4,4\" stroke=\"transparent\"/>\n<!-- dpi -->\n<g class=\"node\" id=\"node1\">\n<title>dpi</title>\n<ellipse cx=\"27\" cy=\"-272.5\" fill=\"none\" rx=\"27\" ry=\"18\" stroke=\"#000000\"/>\n<text fill=\"#000000\" font-family=\"Times,serif\" font-size=\"14.00\" text-anchor=\"middle\" x=\"27\" y=\"-268.8\">dpi</text>\n</g>\n<!-- 140247761402576 -->\n<g class=\"node\" id=\"node2\">\n<title>140247761402576</title>\n<polygon fill=\"none\" points=\"72,-249.5 72,-295.5 360,-295.5 360,-249.5 72,-249.5\" stroke=\"#000000\"/>\n<text fill=\"#000000\" font-family=\"Times,serif\" font-size=\"14.00\" text-anchor=\"middle\" x=\"131.5\" y=\"-280.3\">Conv2D_1_input</text>\n<polyline fill=\"none\" points=\"72,-272.5 191,-272.5 \" stroke=\"#000000\"/>\n<text fill=\"#000000\" font-family=\"Times,serif\" font-size=\"14.00\" text-anchor=\"middle\" x=\"131.5\" y=\"-257.3\">InputLayer</text>\n<polyline fill=\"none\" points=\"191,-249.5 191,-295.5 \" stroke=\"#000000\"/>\n<text fill=\"#000000\" font-family=\"Times,serif\" font-size=\"14.00\" text-anchor=\"middle\" x=\"220\" y=\"-280.3\">input:</text>\n<polyline fill=\"none\" points=\"191,-272.5 249,-272.5 \" stroke=\"#000000\"/>\n<text fill=\"#000000\" font-family=\"Times,serif\" font-size=\"14.00\" text-anchor=\"middle\" x=\"220\" y=\"-257.3\">output:</text>\n<polyline fill=\"none\" points=\"249,-249.5 249,-295.5 \" stroke=\"#000000\"/>\n<text fill=\"#000000\" font-family=\"Times,serif\" font-size=\"14.00\" text-anchor=\"middle\" x=\"304.5\" y=\"-280.3\">[(None, 6, 6, 1)]</text>\n<polyline fill=\"none\" points=\"249,-272.5 360,-272.5 \" stroke=\"#000000\"/>\n<text fill=\"#000000\" font-family=\"Times,serif\" font-size=\"14.00\" text-anchor=\"middle\" x=\"304.5\" y=\"-257.3\">[(None, 6, 6, 1)]</text>\n</g>\n<!-- 140247761402640 -->\n<g class=\"node\" id=\"node3\">\n<title>140247761402640</title>\n<polygon fill=\"none\" points=\"95,-166.5 95,-212.5 337,-212.5 337,-166.5 95,-166.5\" stroke=\"#000000\"/>\n<text fill=\"#000000\" font-family=\"Times,serif\" font-size=\"14.00\" text-anchor=\"middle\" x=\"136\" y=\"-197.3\">Conv2D_1</text>\n<polyline fill=\"none\" points=\"95,-189.5 177,-189.5 \" stroke=\"#000000\"/>\n<text fill=\"#000000\" font-family=\"Times,serif\" font-size=\"14.00\" text-anchor=\"middle\" x=\"136\" y=\"-174.3\">Conv2D</text>\n<polyline fill=\"none\" points=\"177,-166.5 177,-212.5 \" stroke=\"#000000\"/>\n<text fill=\"#000000\" font-family=\"Times,serif\" font-size=\"14.00\" text-anchor=\"middle\" x=\"206\" y=\"-197.3\">input:</text>\n<polyline fill=\"none\" points=\"177,-189.5 235,-189.5 \" stroke=\"#000000\"/>\n<text fill=\"#000000\" font-family=\"Times,serif\" font-size=\"14.00\" text-anchor=\"middle\" x=\"206\" y=\"-174.3\">output:</text>\n<polyline fill=\"none\" points=\"235,-166.5 235,-212.5 \" stroke=\"#000000\"/>\n<text fill=\"#000000\" font-family=\"Times,serif\" font-size=\"14.00\" text-anchor=\"middle\" x=\"286\" y=\"-197.3\">(None, 6, 6, 1)</text>\n<polyline fill=\"none\" points=\"235,-189.5 337,-189.5 \" stroke=\"#000000\"/>\n<text fill=\"#000000\" font-family=\"Times,serif\" font-size=\"14.00\" text-anchor=\"middle\" x=\"286\" y=\"-174.3\">(None, 4, 4, 3)</text>\n</g>\n<!-- 140247761402576&#45;&gt;140247761402640 -->\n<g class=\"edge\" id=\"edge1\">\n<title>140247761402576-&gt;140247761402640</title>\n<path d=\"M216,-249.3799C216,-241.1745 216,-231.7679 216,-222.8786\" fill=\"none\" stroke=\"#000000\"/>\n<polygon fill=\"#000000\" points=\"219.5001,-222.784 216,-212.784 212.5001,-222.784 219.5001,-222.784\" stroke=\"#000000\"/>\n</g>\n<!-- 140247762142736 -->\n<g class=\"node\" id=\"node4\">\n<title>140247762142736</title>\n<polygon fill=\"none\" points=\"100.5,-83.5 100.5,-129.5 331.5,-129.5 331.5,-83.5 100.5,-83.5\" stroke=\"#000000\"/>\n<text fill=\"#000000\" font-family=\"Times,serif\" font-size=\"14.00\" text-anchor=\"middle\" x=\"136\" y=\"-114.3\">Flatten_1</text>\n<polyline fill=\"none\" points=\"100.5,-106.5 171.5,-106.5 \" stroke=\"#000000\"/>\n<text fill=\"#000000\" font-family=\"Times,serif\" font-size=\"14.00\" text-anchor=\"middle\" x=\"136\" y=\"-91.3\">Flatten</text>\n<polyline fill=\"none\" points=\"171.5,-83.5 171.5,-129.5 \" stroke=\"#000000\"/>\n<text fill=\"#000000\" font-family=\"Times,serif\" font-size=\"14.00\" text-anchor=\"middle\" x=\"200.5\" y=\"-114.3\">input:</text>\n<polyline fill=\"none\" points=\"171.5,-106.5 229.5,-106.5 \" stroke=\"#000000\"/>\n<text fill=\"#000000\" font-family=\"Times,serif\" font-size=\"14.00\" text-anchor=\"middle\" x=\"200.5\" y=\"-91.3\">output:</text>\n<polyline fill=\"none\" points=\"229.5,-83.5 229.5,-129.5 \" stroke=\"#000000\"/>\n<text fill=\"#000000\" font-family=\"Times,serif\" font-size=\"14.00\" text-anchor=\"middle\" x=\"280.5\" y=\"-114.3\">(None, 4, 4, 3)</text>\n<polyline fill=\"none\" points=\"229.5,-106.5 331.5,-106.5 \" stroke=\"#000000\"/>\n<text fill=\"#000000\" font-family=\"Times,serif\" font-size=\"14.00\" text-anchor=\"middle\" x=\"280.5\" y=\"-91.3\">(None, 48)</text>\n</g>\n<!-- 140247761402640&#45;&gt;140247762142736 -->\n<g class=\"edge\" id=\"edge2\">\n<title>140247761402640-&gt;140247762142736</title>\n<path d=\"M216,-166.3799C216,-158.1745 216,-148.7679 216,-139.8786\" fill=\"none\" stroke=\"#000000\"/>\n<polygon fill=\"#000000\" points=\"219.5001,-139.784 216,-129.784 212.5001,-139.784 219.5001,-139.784\" stroke=\"#000000\"/>\n</g>\n<!-- 140247762142480 -->\n<g class=\"node\" id=\"node5\">\n<title>140247762142480</title>\n<polygon fill=\"none\" points=\"113.5,-.5 113.5,-46.5 318.5,-46.5 318.5,-.5 113.5,-.5\" stroke=\"#000000\"/>\n<text fill=\"#000000\" font-family=\"Times,serif\" font-size=\"14.00\" text-anchor=\"middle\" x=\"147\" y=\"-31.3\">Dense_1</text>\n<polyline fill=\"none\" points=\"113.5,-23.5 180.5,-23.5 \" stroke=\"#000000\"/>\n<text fill=\"#000000\" font-family=\"Times,serif\" font-size=\"14.00\" text-anchor=\"middle\" x=\"147\" y=\"-8.3\">Dense</text>\n<polyline fill=\"none\" points=\"180.5,-.5 180.5,-46.5 \" stroke=\"#000000\"/>\n<text fill=\"#000000\" font-family=\"Times,serif\" font-size=\"14.00\" text-anchor=\"middle\" x=\"209.5\" y=\"-31.3\">input:</text>\n<polyline fill=\"none\" points=\"180.5,-23.5 238.5,-23.5 \" stroke=\"#000000\"/>\n<text fill=\"#000000\" font-family=\"Times,serif\" font-size=\"14.00\" text-anchor=\"middle\" x=\"209.5\" y=\"-8.3\">output:</text>\n<polyline fill=\"none\" points=\"238.5,-.5 238.5,-46.5 \" stroke=\"#000000\"/>\n<text fill=\"#000000\" font-family=\"Times,serif\" font-size=\"14.00\" text-anchor=\"middle\" x=\"278.5\" y=\"-31.3\">(None, 48)</text>\n<polyline fill=\"none\" points=\"238.5,-23.5 318.5,-23.5 \" stroke=\"#000000\"/>\n<text fill=\"#000000\" font-family=\"Times,serif\" font-size=\"14.00\" text-anchor=\"middle\" x=\"278.5\" y=\"-8.3\">(None, 10)</text>\n</g>\n<!-- 140247762142736&#45;&gt;140247762142480 -->\n<g class=\"edge\" id=\"edge3\">\n<title>140247762142736-&gt;140247762142480</title>\n<path d=\"M216,-83.3799C216,-75.1745 216,-65.7679 216,-56.8786\" fill=\"none\" stroke=\"#000000\"/>\n<polygon fill=\"#000000\" points=\"219.5001,-56.784 216,-46.784 212.5001,-56.784 219.5001,-56.784\" stroke=\"#000000\"/>\n</g>\n</g>\n</svg>"
          },
          "metadata": {},
          "execution_count": 20
        }
      ]
    },
    {
      "cell_type": "markdown",
      "source": [
        "## 組み立てたモデルを学習データで訓練する"
      ],
      "metadata": {
        "id": "r381Gk-bIPWE"
      }
    },
    {
      "cell_type": "markdown",
      "source": [
        "## 早期終了も設定する"
      ],
      "metadata": {
        "id": "8aDC-MZEJs9K"
      }
    },
    {
      "cell_type": "code",
      "source": [
        "# 早期終了用の設定のオブジェクトを用意する\n",
        "earlyStopping = callbacks.EarlyStopping(monitor='val_loss', # 損失を監視\n",
        "                                        patience=5)         # epoch5つ分様子を見る"
      ],
      "metadata": {
        "id": "P-mnS4z_G5md"
      },
      "execution_count": 21,
      "outputs": []
    },
    {
      "cell_type": "markdown",
      "source": [
        "## 学習方法を指定して学習モデルをコンパイルする"
      ],
      "metadata": {
        "id": "umckb910LG3c"
      }
    },
    {
      "cell_type": "code",
      "source": [
        "model.compile(loss='mean_squared_error', #損失を 平均(mean)二乗(Squared)誤差(Error)で計算\n",
        "              optimizer='sgd') # パラメータの重みをSDGで最適化する"
      ],
      "metadata": {
        "id": "3nh7oIHeKo0s"
      },
      "execution_count": 23,
      "outputs": []
    },
    {
      "cell_type": "markdown",
      "source": [
        "## 学習方法を指定した学習モデルを訓練する"
      ],
      "metadata": {
        "id": "k8SkxxamNPqq"
      }
    },
    {
      "cell_type": "code",
      "source": [
        "model.fit(x_train,y_train,# 学習データと答えデータ\n",
        "          batch_size=32, # 32個ずつまとめて学習(=バッチ)してから重みを調整する)\n",
        "          epochs=10, # バッチが終わったら重みを調整して学習しなおす\n",
        "          callbacks=[earlyStopping], # エポックの中で呼ぶcallbacks処理のリストに早期終了を追加\n",
        "          validation_split=0.2 # 学習データのうち2割を、学習中の自己評価検証に使う\n",
        ")"
      ],
      "metadata": {
        "colab": {
          "base_uri": "https://localhost:8080/"
        },
        "id": "4NDe6a3nNWCc",
        "outputId": "c3de6764-9334-4d5d-964f-ab896f480424"
      },
      "execution_count": 24,
      "outputs": [
        {
          "output_type": "stream",
          "name": "stdout",
          "text": [
            "Epoch 1/10\n",
            "3/3 [==============================] - 1s 88ms/step - loss: 0.0927 - val_loss: 0.0906\n",
            "Epoch 2/10\n",
            "3/3 [==============================] - 0s 27ms/step - loss: 0.0927 - val_loss: 0.0906\n",
            "Epoch 3/10\n",
            "3/3 [==============================] - 0s 18ms/step - loss: 0.0927 - val_loss: 0.0906\n",
            "Epoch 4/10\n",
            "3/3 [==============================] - 0s 17ms/step - loss: 0.0927 - val_loss: 0.0906\n",
            "Epoch 5/10\n",
            "3/3 [==============================] - 0s 15ms/step - loss: 0.0926 - val_loss: 0.0906\n",
            "Epoch 6/10\n",
            "3/3 [==============================] - 0s 15ms/step - loss: 0.0926 - val_loss: 0.0906\n",
            "Epoch 7/10\n",
            "3/3 [==============================] - 0s 16ms/step - loss: 0.0926 - val_loss: 0.0906\n",
            "Epoch 8/10\n",
            "3/3 [==============================] - 0s 17ms/step - loss: 0.0926 - val_loss: 0.0906\n",
            "Epoch 9/10\n",
            "3/3 [==============================] - 0s 18ms/step - loss: 0.0926 - val_loss: 0.0906\n",
            "Epoch 10/10\n",
            "3/3 [==============================] - 0s 19ms/step - loss: 0.0926 - val_loss: 0.0906\n"
          ]
        },
        {
          "output_type": "execute_result",
          "data": {
            "text/plain": [
              "<keras.callbacks.History at 0x7f8df7ce4fd0>"
            ]
          },
          "metadata": {},
          "execution_count": 24
        }
      ]
    },
    {
      "cell_type": "code",
      "source": [],
      "metadata": {
        "id": "m8bdEGnkP4zn"
      },
      "execution_count": null,
      "outputs": []
    }
  ]
}