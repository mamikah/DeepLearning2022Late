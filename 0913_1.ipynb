{
  "nbformat": 4,
  "nbformat_minor": 0,
  "metadata": {
    "colab": {
      "provenance": [],
      "collapsed_sections": [],
      "toc_visible": true,
      "authorship_tag": "ABX9TyM2Pud5VW/O9/YKl7OXSNan",
      "include_colab_link": true
    },
    "kernelspec": {
      "name": "python3",
      "display_name": "Python 3"
    },
    "language_info": {
      "name": "python"
    }
  },
  "cells": [
    {
      "cell_type": "markdown",
      "metadata": {
        "id": "view-in-github",
        "colab_type": "text"
      },
      "source": [
        "<a href=\"https://colab.research.google.com/github/mamikah/DeepLearning2022Late/blob/main/0913_1.ipynb\" target=\"_parent\"><img src=\"https://colab.research.google.com/assets/colab-badge.svg\" alt=\"Open In Colab\"/></a>"
      ]
    },
    {
      "cell_type": "markdown",
      "source": [
        "#リスト型とタプル型"
      ],
      "metadata": {
        "id": "b-jS4c83U6YZ"
      }
    },
    {
      "cell_type": "code",
      "source": [
        "# リスト(中(構成)を変更したい時)\n",
        "list = [1,2,3,'アップル',[1,4.5]]\n",
        "print(list)"
      ],
      "metadata": {
        "colab": {
          "base_uri": "https://localhost:8080/"
        },
        "id": "Wpn3cUHGU_Cs",
        "outputId": "ee46e12f-8dcb-4769-87c3-8510253a9fb6"
      },
      "execution_count": 1,
      "outputs": [
        {
          "output_type": "stream",
          "name": "stdout",
          "text": [
            "[1, 2, 3, 'アップル', [1, 4.5]]\n"
          ]
        }
      ]
    },
    {
      "cell_type": "code",
      "source": [
        "lst = ['アッポー','ペン','ペン','パイナッポー']\n",
        "print(lst)\n",
        "print(lst[1]+lst[3]+lst[0]+lst[2])"
      ],
      "metadata": {
        "colab": {
          "base_uri": "https://localhost:8080/"
        },
        "id": "GLGrpCr8VSiv",
        "outputId": "9cb96972-8544-407f-c850-2c63dd976d7b"
      },
      "execution_count": 2,
      "outputs": [
        {
          "output_type": "stream",
          "name": "stdout",
          "text": [
            "['アッポー', 'ペン', 'ペン', 'パイナッポー']\n",
            "ペンパイナッポーアッポーペン\n"
          ]
        }
      ]
    },
    {
      "cell_type": "code",
      "source": [
        "# タプル(入れた時点で固定)\n",
        "tuple = ('アップル','ペン','ペン','パイナップル')\n",
        "print(tuple)\n",
        "print(tuple[1]+tuple[3]+tuple[0]+tuple[2])"
      ],
      "metadata": {
        "colab": {
          "base_uri": "https://localhost:8080/"
        },
        "id": "6V8yWds1WAEc",
        "outputId": "0071c09f-0f52-4cf2-8d8e-bb7fa0937f2e"
      },
      "execution_count": 3,
      "outputs": [
        {
          "output_type": "stream",
          "name": "stdout",
          "text": [
            "('アップル', 'ペン', 'ペン', 'パイナップル')\n",
            "ペンパイナップルアップルペン\n"
          ]
        }
      ]
    },
    {
      "cell_type": "markdown",
      "source": [
        "・構成を変更できるのは**リスト**<br>\n",
        "・構成を変更できない（固定）は**タプル**"
      ],
      "metadata": {
        "id": "io_ckd5xXOuh"
      }
    },
    {
      "cell_type": "markdown",
      "source": [
        "### 追加、削除、変更\n",
        "\n"
      ],
      "metadata": {
        "id": "zeUFKfA4ZbJf"
      }
    },
    {
      "cell_type": "code",
      "source": [
        "# リストの構成変更\n",
        "print(lst)\n",
        " # 文字列型データのリストにあえて数値を追加\n",
        "lst.append(100)\n",
        "print(lst)\n",
        " #リストの２番目を削除\n",
        "del lst[2]\n",
        "print(lst)\n",
        "lst.insert(2,'キウイ')\n",
        "print(lst)"
      ],
      "metadata": {
        "colab": {
          "base_uri": "https://localhost:8080/"
        },
        "id": "W7EXWupKXUnM",
        "outputId": "e078b17d-1335-4db1-9570-4f1e180652de"
      },
      "execution_count": 4,
      "outputs": [
        {
          "output_type": "stream",
          "name": "stdout",
          "text": [
            "['アッポー', 'ペン', 'ペン', 'パイナッポー']\n",
            "['アッポー', 'ペン', 'ペン', 'パイナッポー', 100]\n",
            "['アッポー', 'ペン', 'パイナッポー', 100]\n",
            "['アッポー', 'ペン', 'キウイ', 'パイナッポー', 100]\n"
          ]
        }
      ]
    },
    {
      "cell_type": "code",
      "source": [
        "# 数値パイナッポーをペンに更新\n",
        "lst[3] = 'ペン'\n",
        "print(lst)"
      ],
      "metadata": {
        "colab": {
          "base_uri": "https://localhost:8080/"
        },
        "id": "jh1RNvnMYSLz",
        "outputId": "04ed99ec-3c68-46f7-9641-834bede3c7c7"
      },
      "execution_count": 5,
      "outputs": [
        {
          "output_type": "stream",
          "name": "stdout",
          "text": [
            "['アッポー', 'ペン', 'キウイ', 'ペン', 100]\n"
          ]
        }
      ]
    },
    {
      "cell_type": "markdown",
      "source": [
        "### 長さ"
      ],
      "metadata": {
        "id": "bPfZCbj3bRps"
      }
    },
    {
      "cell_type": "code",
      "source": [
        "print(lst)\n",
        "#len()で長さを取得\n",
        "print(len(lst)) "
      ],
      "metadata": {
        "colab": {
          "base_uri": "https://localhost:8080/"
        },
        "id": "nLCVLGRcZ0Q-",
        "outputId": "c6b9a7c4-a7ce-4988-f729-fcab56bfdbf0"
      },
      "execution_count": 6,
      "outputs": [
        {
          "output_type": "stream",
          "name": "stdout",
          "text": [
            "['アッポー', 'ペン', 'キウイ', 'ペン', 100]\n",
            "5\n"
          ]
        }
      ]
    },
    {
      "cell_type": "markdown",
      "source": [
        "### スライス式(データを抽出する)"
      ],
      "metadata": {
        "id": "vMbQhT9Mb1X1"
      }
    },
    {
      "cell_type": "code",
      "source": [
        "print('・すべて:',lst)\n",
        "print('・0～2:',lst[0:3])\n",
        "print('・2～:',lst[2:])\n",
        "print('・～1:',lst[:2])"
      ],
      "metadata": {
        "colab": {
          "base_uri": "https://localhost:8080/"
        },
        "id": "2p_kIVPCb4Z_",
        "outputId": "d2514ba9-3bcb-4980-e5c4-c1fd1361cb75"
      },
      "execution_count": 7,
      "outputs": [
        {
          "output_type": "stream",
          "name": "stdout",
          "text": [
            "・すべて: ['アッポー', 'ペン', 'キウイ', 'ペン', 100]\n",
            "・0～2: ['アッポー', 'ペン', 'キウイ']\n",
            "・2～: ['キウイ', 'ペン', 100]\n",
            "・～1: ['アッポー', 'ペン']\n"
          ]
        }
      ]
    },
    {
      "cell_type": "markdown",
      "source": [
        "※スライスの**右側**は**未満**なので**含まれない**こと注意"
      ],
      "metadata": {
        "id": "MdkvoeHrdISa"
      }
    },
    {
      "cell_type": "markdown",
      "source": [
        "# SET型（集合型）\n",
        "SETは順序を持たず、重複したデータも持たない\n"
      ],
      "metadata": {
        "id": "nflwp3NQej83"
      }
    },
    {
      "cell_type": "code",
      "source": [
        "uniq = set(['アッポー', 'ペン', 'パイナッポー', 'ペン'])\n",
        "print(uniq)"
      ],
      "metadata": {
        "colab": {
          "base_uri": "https://localhost:8080/"
        },
        "id": "woi-H_55fF79",
        "outputId": "4256541f-207a-48e9-b810-ee409922fdbb"
      },
      "execution_count": 8,
      "outputs": [
        {
          "output_type": "stream",
          "name": "stdout",
          "text": [
            "{'ペン', 'パイナッポー', 'アッポー'}\n"
          ]
        }
      ]
    },
    {
      "cell_type": "markdown",
      "source": [
        "※重複したペンは**一つ**になる\n",
        "   →   リストの時点ではペンが重複できていたがset型に変換されたときに重複が消えた"
      ],
      "metadata": {
        "id": "s6IB09D2gBHO"
      }
    },
    {
      "cell_type": "markdown",
      "source": [
        "### 追加、削除"
      ],
      "metadata": {
        "id": "aeVkaGgLg5gX"
      }
    },
    {
      "cell_type": "code",
      "source": [
        "print('・修正前:',uniq)\n",
        "# 追加\n",
        "uniq.add('バナナ')\n",
        "print('・バナナ追加:',uniq)\n",
        "# 削除\n",
        "uniq.remove('ペン')\n",
        "print('・ペン削除:',uniq)"
      ],
      "metadata": {
        "colab": {
          "base_uri": "https://localhost:8080/"
        },
        "id": "5zp-rOf_f3bM",
        "outputId": "207b41b0-57de-4bc9-e70e-38df11e531b0"
      },
      "execution_count": 10,
      "outputs": [
        {
          "output_type": "stream",
          "name": "stdout",
          "text": [
            "・修正前: {'ペン', 'パイナッポー', 'アッポー'}\n",
            "・バナナ追加: {'ペン', 'パイナッポー', 'バナナ', 'アッポー'}\n",
            "・ペン削除: {'パイナッポー', 'バナナ', 'アッポー'}\n"
          ]
        }
      ]
    },
    {
      "cell_type": "markdown",
      "source": [
        "### 集合演算（包括、積、和、差分）"
      ],
      "metadata": {
        "id": "BYiMAiBHiVlr"
      }
    },
    {
      "cell_type": "markdown",
      "source": [
        "----------------------------------------------------------------包括----------------------------------------------------------------"
      ],
      "metadata": {
        "id": "_xHgJ-fBp8uH"
      }
    },
    {
      "cell_type": "code",
      "source": [
        "# uniqを再定義（値が変わったから）\n",
        "uniq = set(['アッポー', 'ペン', 'パイナッポー', 'ペン'])\n",
        "a = set(['アッポー','ペン'])\n",
        "b = set(['ペン','パイナッポー'])\n",
        "print(uniq)\n",
        "print(a)\n",
        "print(b)"
      ],
      "metadata": {
        "colab": {
          "base_uri": "https://localhost:8080/"
        },
        "id": "dk9TbZcPhm4o",
        "outputId": "10cd3359-2db4-42c8-a029-7b8e23b6fcdf"
      },
      "execution_count": 11,
      "outputs": [
        {
          "output_type": "stream",
          "name": "stdout",
          "text": [
            "{'ペン', 'パイナッポー', 'アッポー'}\n",
            "{'ペン', 'アッポー'}\n",
            "{'ペン', 'パイナッポー'}\n"
          ]
        }
      ]
    },
    {
      "cell_type": "markdown",
      "source": [
        "集合**a**は集合**uniq**の**subset(集合部分)**であるか = 包括関係"
      ],
      "metadata": {
        "id": "XX98k3xtj7A8"
      }
    },
    {
      "cell_type": "code",
      "source": [
        "a.issubset(uniq)"
      ],
      "metadata": {
        "colab": {
          "base_uri": "https://localhost:8080/"
        },
        "id": "_gzOZY5OjHDG",
        "outputId": "9e5f49d1-31c6-4d79-c6e5-13a9285b89f1"
      },
      "execution_count": 12,
      "outputs": [
        {
          "output_type": "execute_result",
          "data": {
            "text/plain": [
              "True"
            ]
          },
          "metadata": {},
          "execution_count": 12
        }
      ]
    },
    {
      "cell_type": "code",
      "source": [
        "if a.issubset(uniq):\n",
        "  print('包括関係である')\n",
        "else:\n",
        "  print('包括関係でない')"
      ],
      "metadata": {
        "colab": {
          "base_uri": "https://localhost:8080/"
        },
        "id": "9GzGBbsvkPAZ",
        "outputId": "8dc654df-6de0-4e61-e34f-4aec331e5120"
      },
      "execution_count": 15,
      "outputs": [
        {
          "output_type": "stream",
          "name": "stdout",
          "text": [
            "包括関係である\n"
          ]
        }
      ]
    },
    {
      "cell_type": "markdown",
      "source": [
        "'ペン'は集合**a**の中にあるか"
      ],
      "metadata": {
        "id": "4uQ5psedkoo9"
      }
    },
    {
      "cell_type": "code",
      "source": [
        "'ペン' in a"
      ],
      "metadata": {
        "colab": {
          "base_uri": "https://localhost:8080/"
        },
        "id": "C8eulJVgkXZG",
        "outputId": "ee3c4c37-b227-4945-c15c-c3aca8ce1464"
      },
      "execution_count": 16,
      "outputs": [
        {
          "output_type": "execute_result",
          "data": {
            "text/plain": [
              "True"
            ]
          },
          "metadata": {},
          "execution_count": 16
        }
      ]
    },
    {
      "cell_type": "markdown",
      "source": [
        "----------------------------------------------------------------積----------------------------------------------------------------"
      ],
      "metadata": {
        "id": "_8DQV4UWqHQh"
      }
    },
    {
      "cell_type": "markdown",
      "source": [
        "ある集合と別の集合の共通部分の要素(intersection)"
      ],
      "metadata": {
        "id": "VkR84_suqNpF"
      }
    },
    {
      "cell_type": "code",
      "source": [
        "# 集合aと集合bの共通集合\n",
        "print(a)\n",
        "print(b)\n",
        "print(a.intersection(b))"
      ],
      "metadata": {
        "colab": {
          "base_uri": "https://localhost:8080/"
        },
        "id": "4wvjEqC-qYlS",
        "outputId": "d7c763b6-b699-4602-d059-b843a008e570"
      },
      "execution_count": 20,
      "outputs": [
        {
          "output_type": "stream",
          "name": "stdout",
          "text": [
            "{'ペン', 'アッポー'}\n",
            "{'ペン', 'パイナッポー'}\n",
            "{'ペン'}\n"
          ]
        }
      ]
    },
    {
      "cell_type": "markdown",
      "source": [
        "----------------------------------------------------------------和----------------------------------------------------------------"
      ],
      "metadata": {
        "id": "TFIYeia5q7iG"
      }
    },
    {
      "cell_type": "markdown",
      "source": [
        "ある集合と別の集合の結合（和集合）"
      ],
      "metadata": {
        "id": "kn7zl_H7rEsH"
      }
    },
    {
      "cell_type": "code",
      "source": [
        "# 集合aと集合bの和集合 \n",
        "print(a)\n",
        "print(b)\n",
        "print(a.union(b))"
      ],
      "metadata": {
        "colab": {
          "base_uri": "https://localhost:8080/"
        },
        "id": "XX9mg_thq8X3",
        "outputId": "3d79590f-fa60-4cc8-fe54-981dd528fae8"
      },
      "execution_count": 22,
      "outputs": [
        {
          "output_type": "stream",
          "name": "stdout",
          "text": [
            "{'ペン', 'アッポー'}\n",
            "{'ペン', 'パイナッポー'}\n",
            "{'ペン', 'パイナッポー', 'アッポー'}\n"
          ]
        }
      ]
    },
    {
      "cell_type": "markdown",
      "source": [
        "※SET型なので**重複は削除**される"
      ],
      "metadata": {
        "id": "dLH6j8pYrXFJ"
      }
    },
    {
      "cell_type": "markdown",
      "source": [],
      "metadata": {
        "id": "a0wue0yBsf-7"
      }
    },
    {
      "cell_type": "markdown",
      "source": [
        "----------------------------------------------------------------和----------------------------------------------------------------"
      ],
      "metadata": {
        "id": "-eQK9hYtsnBh"
      }
    },
    {
      "cell_type": "markdown",
      "source": [
        "ある集合と別の集合の差集合(先に書いた方から()の中を取り除いた残り)"
      ],
      "metadata": {
        "id": "PkN2UN0fswRm"
      }
    },
    {
      "cell_type": "code",
      "source": [
        "print(a.difference(b)) #aからbを取り除いた残り"
      ],
      "metadata": {
        "colab": {
          "base_uri": "https://localhost:8080/"
        },
        "id": "M2c8-k6prcOf",
        "outputId": "401fc5ab-737d-4fca-fc76-f38ace424912"
      },
      "execution_count": 23,
      "outputs": [
        {
          "output_type": "stream",
          "name": "stdout",
          "text": [
            "{'アッポー'}\n"
          ]
        }
      ]
    },
    {
      "cell_type": "markdown",
      "source": [
        "※**順序で結果が変わってくる**ので注意"
      ],
      "metadata": {
        "id": "Ht_uJgY_tInP"
      }
    },
    {
      "cell_type": "code",
      "source": [],
      "metadata": {
        "id": "jABKQiyNtEE-"
      },
      "execution_count": null,
      "outputs": []
    }
  ]
}